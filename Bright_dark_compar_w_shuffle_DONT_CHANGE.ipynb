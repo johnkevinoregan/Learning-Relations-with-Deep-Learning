{
  "nbformat": 4,
  "nbformat_minor": 0,
  "metadata": {
    "colab": {
      "provenance": [],
      "include_colab_link": true
    },
    "kernelspec": {
      "name": "python3",
      "display_name": "Python 3"
    },
    "language_info": {
      "name": "python"
    }
  },
  "cells": [
    {
      "cell_type": "markdown",
      "metadata": {
        "id": "view-in-github",
        "colab_type": "text"
      },
      "source": [
        "<a href=\"https://colab.research.google.com/github/johnkevinoregan/Learning-Relations-with-Deep-Learning/blob/main/Bright_dark_compar_w_shuffle_DONT_CHANGE.ipynb\" target=\"_parent\"><img src=\"https://colab.research.google.com/assets/colab-badge.svg\" alt=\"Open In Colab\"/></a>"
      ]
    },
    {
      "cell_type": "markdown",
      "source": [
        "\n",
        "# Bright vs dark comparison with generalization to different brightnesses and different retinal positions.\n",
        "\n",
        "With option to shuffle the brightness metric.\n",
        "\n",
        "\n",
        "19 Mar 2023\n",
        "\n",
        "The purpose is to show that a NN cant learn to compare two brightnesses. You teach it to say \"0\" when the left of two pixels is brighter than the right and 1 otherwise. You train using the list X_train on just two retinal positions and one pair of brightnesses. In the training, both brightnesses trained occur at each retinal locations, so the NN cant use brightness to make its judgement, and must really rely on the comparison.\n",
        "\n",
        "You then test it on a test list X_test, where the retinal positions are varied comparedd to the training set, and where the brightnesses are also varied.\n",
        "\n",
        "If you set the option WhetherToShuffle=1, then all brightnesses between 0 and 255 will be permuted randomly, thereby destroying the natural intensity metric. We expect this to destroy the ability of the NN to generalize from the training brightnesses to nearby brightnesses.  \n",
        "\n",
        "Results:\n",
        "I'm a bit bothered by the variability of the results. The parameters I've used for the normal NN and CNN might not be ideal. Sometimes in the training you get immediate convergence to accuracy=1 and sometimes not. Even if accuracy =1, it seems that in the test set, the results for the training values may not be accurate! Have I not correctly understood what \"accuracy=1\" means?\n",
        "\n",
        "But sometimes i can get results that are consistent with my hypotheses: For these:\n",
        "\n",
        "### for normal NN: \n",
        "As seen from the smoothness of the plots as a fn of brightness, results for brightnesses near the training values resemble the training value results but get worse as brightnesses deviate from training brightness.\n",
        "\n",
        "this is not so in the plots as a fn of retinal position. These are much more bumpy, showing that there is no natural metric along the retina.\n",
        "\n",
        "But sometimes the results are not so clear.\n",
        "\n",
        "### for CNN\n",
        "Not so clear that the results generalize better over several retinal positions. But maybe I've misunderstood how to parameterize the CNN. I've put the number of filters=32... is that reasonable? I assume this number is the number of possible convolutions. I assume that the number of neurons in the input layer is equal to the retinal size? "
      ],
      "metadata": {
        "id": "dpNBOy9U6vG1"
      }
    },
    {
      "cell_type": "markdown",
      "source": [
        "##Make training sets X_train and labels y_train"
      ],
      "metadata": {
        "id": "DEJCMNfpEqbg"
      }
    },
    {
      "cell_type": "code",
      "source": [
        "#initialize shuffler in case you want to destroy the natural brightness metric\n",
        "\n",
        "def encode(array,shuff):\n",
        "  [T,R]=np.shape(array)\n",
        "  for t in range(T):\n",
        "    for r in range(R):\n",
        "      array[t]=shuff[array[t]]\n",
        "  return(array)\n",
        "import numpy as np\n",
        "\n",
        "l=np.arange(255)\n",
        "\n",
        "#these two arrays allow the brightness scale to be randomly permuted.\n",
        "shuffler = np.random.permutation(len(l)) # returns indices to shuffle the list\n",
        "undo_shuffler = np.argsort(shuffler) # returns indices to undo the shuffle\n",
        "\n",
        "#to shuffle you do\n",
        "#encode(array,shuffler)\n",
        "#and to go back to original you do\n",
        "#encode(array,undo_shuffler)\n",
        "\n"
      ],
      "metadata": {
        "id": "kSuJvZyqFkyX"
      },
      "execution_count": 87,
      "outputs": []
    },
    {
      "cell_type": "code",
      "source": [
        "#prepare test and training sets\n",
        "\n",
        "import numpy as np\n",
        "\n",
        "#IMPORTANT !!\n",
        "WhetherToShuffle=0\n",
        "#IMPORTANT THE VALUE ABOVE DETERMINES WHETHER TO SHUFFLE THE BRIGHTNESS LEVELS RANDOMLY\n",
        "\n",
        "\n",
        "RetSize=80\n",
        "Left=int(RetSize/4)\n",
        "Right=3*Left\n",
        "TrainRepeats=3\n",
        "Deltas=4 #number of deviations from base retinal positions used in test\n",
        "\n",
        "W=3 #half the number of brightnesses in the test set\n",
        "#the choice of the two training brightnesses will be the middle of the set (I think)\n",
        "W2=2*W\n",
        "#Brightnesses=np.arange(-W2,W2)*16+125-8 #this was a kludge. \n",
        "\n",
        "Brightnesses=(np.rint(np.linspace(0,255,W2+2))).astype(int)[1:-1] #it took me several hours to find this trick!\n",
        "\n",
        "#print(Brightnesses)\n",
        "LBrightnesses=len(Brightnesses)\n",
        "#print('length',L)\n",
        "X_test=np.zeros((LBrightnesses*(1+Deltas),RetSize),int)\n",
        "y_test=np.zeros(LBrightnesses*(1+Deltas),int)\n",
        "res_test=np.zeros(LBrightnesses*(1+Deltas),float)\n",
        "\n",
        "X_train=np.zeros((2*TrainRepeats,RetSize),int)\n",
        "y_train=np.zeros(2*TrainRepeats,int)\n",
        "#print(X_train)\n",
        "\n",
        "#used in plot routine:\n",
        "LeftRetPosns=np.arange(Left-Deltas,Left+1)\n",
        "\n",
        "trial=0\n",
        "for DeltaPos in range(Deltas+1):\n",
        "  for trial in range(LBrightnesses):\n",
        "    T=trial+DeltaPos*LBrightnesses\n",
        "    #print(T,Left-DeltaPos)\n",
        "    X_test[T,Left-DeltaPos]=Brightnesses[trial]\n",
        "    k=LBrightnesses-trial-1\n",
        "    X_test[T,Right+DeltaPos]=Brightnesses[k]\n",
        "    if X_test[T,Left-DeltaPos]<X_test[T,Right+DeltaPos]:\n",
        "      y_test[T]=1\n",
        "print('test stimuli')\n",
        "print(X_test)\n",
        "print('test labels')\n",
        "print(y_test)\n",
        "\n",
        "trial=0\n",
        "while trial <= TrainRepeats+1:\n",
        "  X_train[trial,Left]=Brightnesses[W]\n",
        "  X_train[trial,Right]=Brightnesses[LBrightnesses-W-1]\n",
        "  if X_train[trial,Left]<X_train[trial,Right]:\n",
        "    y_train[trial]=1\n",
        "  trial += 1\n",
        "  X_train[trial,Left]=Brightnesses[LBrightnesses-W-1]\n",
        "  X_train[trial,Right]=Brightnesses[W]\n",
        "  if X_train[trial,Left]<X_train[trial,Right]:\n",
        "    y_train[trial]=1\n",
        "  trial +=1\n",
        "\n",
        "print('training stimuli')\n",
        "print(X_train)\n",
        "print('training labels')\n",
        "print(y_train)\n",
        "\n",
        "if WhetherToShuffle==1:\n",
        "  #only use this if you want to shuffle the brightness values\n",
        "  encode(X_train,shuffler)\n",
        "  print(X_train)\n",
        "  encode(X_test,shuffler)\n",
        "  print(X_test)"
      ],
      "metadata": {
        "id": "kiMlaDpwEAdp",
        "colab": {
          "base_uri": "https://localhost:8080/"
        },
        "outputId": "e2148432-bf30-4b4b-da79-a0d26e5ba771"
      },
      "execution_count": 2,
      "outputs": [
        {
          "output_type": "stream",
          "name": "stdout",
          "text": [
            "test stimuli\n",
            "[[0 0 0 ... 0 0 0]\n",
            " [0 0 0 ... 0 0 0]\n",
            " [0 0 0 ... 0 0 0]\n",
            " ...\n",
            " [0 0 0 ... 0 0 0]\n",
            " [0 0 0 ... 0 0 0]\n",
            " [0 0 0 ... 0 0 0]]\n",
            "test labels\n",
            "[1 1 1 0 0 0 1 1 1 0 0 0 1 1 1 0 0 0 1 1 1 0 0 0 1 1 1 0 0 0]\n",
            "training stimuli\n",
            "[[  0   0   0   0   0   0   0   0   0   0   0   0   0   0   0   0   0   0\n",
            "    0   0 146   0   0   0   0   0   0   0   0   0   0   0   0   0   0   0\n",
            "    0   0   0   0   0   0   0   0   0   0   0   0   0   0   0   0   0   0\n",
            "    0   0   0   0   0   0 109   0   0   0   0   0   0   0   0   0   0   0\n",
            "    0   0   0   0   0   0   0   0]\n",
            " [  0   0   0   0   0   0   0   0   0   0   0   0   0   0   0   0   0   0\n",
            "    0   0 109   0   0   0   0   0   0   0   0   0   0   0   0   0   0   0\n",
            "    0   0   0   0   0   0   0   0   0   0   0   0   0   0   0   0   0   0\n",
            "    0   0   0   0   0   0 146   0   0   0   0   0   0   0   0   0   0   0\n",
            "    0   0   0   0   0   0   0   0]\n",
            " [  0   0   0   0   0   0   0   0   0   0   0   0   0   0   0   0   0   0\n",
            "    0   0 146   0   0   0   0   0   0   0   0   0   0   0   0   0   0   0\n",
            "    0   0   0   0   0   0   0   0   0   0   0   0   0   0   0   0   0   0\n",
            "    0   0   0   0   0   0 109   0   0   0   0   0   0   0   0   0   0   0\n",
            "    0   0   0   0   0   0   0   0]\n",
            " [  0   0   0   0   0   0   0   0   0   0   0   0   0   0   0   0   0   0\n",
            "    0   0 109   0   0   0   0   0   0   0   0   0   0   0   0   0   0   0\n",
            "    0   0   0   0   0   0   0   0   0   0   0   0   0   0   0   0   0   0\n",
            "    0   0   0   0   0   0 146   0   0   0   0   0   0   0   0   0   0   0\n",
            "    0   0   0   0   0   0   0   0]\n",
            " [  0   0   0   0   0   0   0   0   0   0   0   0   0   0   0   0   0   0\n",
            "    0   0 146   0   0   0   0   0   0   0   0   0   0   0   0   0   0   0\n",
            "    0   0   0   0   0   0   0   0   0   0   0   0   0   0   0   0   0   0\n",
            "    0   0   0   0   0   0 109   0   0   0   0   0   0   0   0   0   0   0\n",
            "    0   0   0   0   0   0   0   0]\n",
            " [  0   0   0   0   0   0   0   0   0   0   0   0   0   0   0   0   0   0\n",
            "    0   0 109   0   0   0   0   0   0   0   0   0   0   0   0   0   0   0\n",
            "    0   0   0   0   0   0   0   0   0   0   0   0   0   0   0   0   0   0\n",
            "    0   0   0   0   0   0 146   0   0   0   0   0   0   0   0   0   0   0\n",
            "    0   0   0   0   0   0   0   0]]\n",
            "training labels\n",
            "[0 1 0 1 0 1]\n"
          ]
        }
      ]
    },
    {
      "cell_type": "markdown",
      "source": [
        "## Train with normal NN"
      ],
      "metadata": {
        "id": "TG23LV4t67V5"
      }
    },
    {
      "cell_type": "code",
      "source": [
        "# Build, compile and train the neural network model\n",
        "#there are two hidden layers with 64 and 32 values\n",
        "#The ReLU activation function is used in deep learning models to introduce non-linearity into the network\n",
        "#the sigmoid activation function produces a probability value between 0 and 1\n",
        "from tensorflow import keras\n",
        "import numpy as np\n",
        "#from sklearn.model_selection import train_test_split\n",
        "from keras.models import Sequential\n",
        "from keras.layers import Dense, Conv1D, MaxPooling1D, Flatten\n",
        "#from sklearn.model_selection import train_test_split\n",
        "#from tensorflow.keras.callbacks import EarlyStopping\n",
        "\n",
        "\n",
        "model = keras.models.Sequential([\n",
        "    keras.layers.Dense(RetSize, activation=\"relu\", input_dim=len(X_train[0])),\n",
        "    keras.layers.Dense(RetSize/2, activation=\"relu\"),\n",
        "    keras.layers.Dense(1, activation=\"sigmoid\")\n",
        "])\n",
        "\n",
        "# Compile the model\n",
        "model.compile(loss=\"binary_crossentropy\", optimizer=\"adam\", metrics=[\"accuracy\"])\n",
        "\n",
        "#model.fit(X_train, y_train, epochs=80, batch_size=32, validation_data=(X_test, y_test))\n",
        "model.fit(X_train, y_train, epochs=100, batch_size=32)\n",
        "\n",
        "\n"
      ],
      "metadata": {
        "id": "ioqyu3kb7Tn0",
        "colab": {
          "base_uri": "https://localhost:8080/"
        },
        "outputId": "27c6eaee-6c11-43f2-9fd2-dc37a2c12f50"
      },
      "execution_count": 3,
      "outputs": [
        {
          "output_type": "stream",
          "name": "stdout",
          "text": [
            "Epoch 1/100\n",
            "1/1 [==============================] - 2s 2s/step - loss: 9.9929 - accuracy: 0.5000\n",
            "Epoch 2/100\n",
            "1/1 [==============================] - 0s 9ms/step - loss: 8.3845 - accuracy: 0.5000\n",
            "Epoch 3/100\n",
            "1/1 [==============================] - 0s 10ms/step - loss: 6.8354 - accuracy: 0.5000\n",
            "Epoch 4/100\n",
            "1/1 [==============================] - 0s 13ms/step - loss: 5.3034 - accuracy: 0.5000\n",
            "Epoch 5/100\n",
            "1/1 [==============================] - 0s 13ms/step - loss: 3.8192 - accuracy: 0.5000\n",
            "Epoch 6/100\n",
            "1/1 [==============================] - 0s 10ms/step - loss: 2.4157 - accuracy: 0.5000\n",
            "Epoch 7/100\n",
            "1/1 [==============================] - 0s 228ms/step - loss: 1.4482 - accuracy: 0.0000e+00\n",
            "Epoch 8/100\n",
            "1/1 [==============================] - 0s 10ms/step - loss: 1.4691 - accuracy: 0.5000\n",
            "Epoch 9/100\n",
            "1/1 [==============================] - 0s 8ms/step - loss: 1.9603 - accuracy: 0.5000\n",
            "Epoch 10/100\n",
            "1/1 [==============================] - 0s 10ms/step - loss: 2.2406 - accuracy: 0.5000\n",
            "Epoch 11/100\n",
            "1/1 [==============================] - 0s 9ms/step - loss: 2.2576 - accuracy: 0.5000\n",
            "Epoch 12/100\n",
            "1/1 [==============================] - 0s 8ms/step - loss: 2.0596 - accuracy: 0.5000\n",
            "Epoch 13/100\n",
            "1/1 [==============================] - 0s 8ms/step - loss: 1.7007 - accuracy: 0.5000\n",
            "Epoch 14/100\n",
            "1/1 [==============================] - 0s 10ms/step - loss: 1.2220 - accuracy: 0.5000\n",
            "Epoch 15/100\n",
            "1/1 [==============================] - 0s 8ms/step - loss: 0.7081 - accuracy: 0.5000\n",
            "Epoch 16/100\n",
            "1/1 [==============================] - 0s 8ms/step - loss: 0.3170 - accuracy: 1.0000\n",
            "Epoch 17/100\n",
            "1/1 [==============================] - 0s 10ms/step - loss: 0.1692 - accuracy: 1.0000\n",
            "Epoch 18/100\n",
            "1/1 [==============================] - 0s 8ms/step - loss: 0.1977 - accuracy: 1.0000\n",
            "Epoch 19/100\n",
            "1/1 [==============================] - 0s 9ms/step - loss: 0.3125 - accuracy: 1.0000\n",
            "Epoch 20/100\n",
            "1/1 [==============================] - 0s 8ms/step - loss: 0.4198 - accuracy: 0.5000\n",
            "Epoch 21/100\n",
            "1/1 [==============================] - 0s 8ms/step - loss: 0.4606 - accuracy: 0.5000\n",
            "Epoch 22/100\n",
            "1/1 [==============================] - 0s 9ms/step - loss: 0.4220 - accuracy: 0.5000\n",
            "Epoch 23/100\n",
            "1/1 [==============================] - 0s 9ms/step - loss: 0.3275 - accuracy: 1.0000\n",
            "Epoch 24/100\n",
            "1/1 [==============================] - 0s 9ms/step - loss: 0.2202 - accuracy: 1.0000\n",
            "Epoch 25/100\n",
            "1/1 [==============================] - 0s 8ms/step - loss: 0.1313 - accuracy: 1.0000\n",
            "Epoch 26/100\n",
            "1/1 [==============================] - 0s 8ms/step - loss: 0.0739 - accuracy: 1.0000\n",
            "Epoch 27/100\n",
            "1/1 [==============================] - 0s 8ms/step - loss: 0.0429 - accuracy: 1.0000\n",
            "Epoch 28/100\n",
            "1/1 [==============================] - 0s 8ms/step - loss: 0.0281 - accuracy: 1.0000\n",
            "Epoch 29/100\n",
            "1/1 [==============================] - 0s 8ms/step - loss: 0.0224 - accuracy: 1.0000\n",
            "Epoch 30/100\n",
            "1/1 [==============================] - 0s 9ms/step - loss: 0.0221 - accuracy: 1.0000\n",
            "Epoch 31/100\n",
            "1/1 [==============================] - 0s 9ms/step - loss: 0.0251 - accuracy: 1.0000\n",
            "Epoch 32/100\n",
            "1/1 [==============================] - 0s 9ms/step - loss: 0.0299 - accuracy: 1.0000\n",
            "Epoch 33/100\n",
            "1/1 [==============================] - 0s 8ms/step - loss: 0.0355 - accuracy: 1.0000\n",
            "Epoch 34/100\n",
            "1/1 [==============================] - 0s 8ms/step - loss: 0.0410 - accuracy: 1.0000\n",
            "Epoch 35/100\n",
            "1/1 [==============================] - 0s 9ms/step - loss: 0.0454 - accuracy: 1.0000\n",
            "Epoch 36/100\n",
            "1/1 [==============================] - 0s 8ms/step - loss: 0.0479 - accuracy: 1.0000\n",
            "Epoch 37/100\n",
            "1/1 [==============================] - 0s 9ms/step - loss: 0.0483 - accuracy: 1.0000\n",
            "Epoch 38/100\n",
            "1/1 [==============================] - 0s 9ms/step - loss: 0.0465 - accuracy: 1.0000\n",
            "Epoch 39/100\n",
            "1/1 [==============================] - 0s 9ms/step - loss: 0.0430 - accuracy: 1.0000\n",
            "Epoch 40/100\n",
            "1/1 [==============================] - 0s 8ms/step - loss: 0.0384 - accuracy: 1.0000\n",
            "Epoch 41/100\n",
            "1/1 [==============================] - 0s 9ms/step - loss: 0.0334 - accuracy: 1.0000\n",
            "Epoch 42/100\n",
            "1/1 [==============================] - 0s 8ms/step - loss: 0.0285 - accuracy: 1.0000\n",
            "Epoch 43/100\n",
            "1/1 [==============================] - 0s 8ms/step - loss: 0.0240 - accuracy: 1.0000\n",
            "Epoch 44/100\n",
            "1/1 [==============================] - 0s 10ms/step - loss: 0.0201 - accuracy: 1.0000\n",
            "Epoch 45/100\n",
            "1/1 [==============================] - 0s 10ms/step - loss: 0.0168 - accuracy: 1.0000\n",
            "Epoch 46/100\n",
            "1/1 [==============================] - 0s 8ms/step - loss: 0.0142 - accuracy: 1.0000\n",
            "Epoch 47/100\n",
            "1/1 [==============================] - 0s 9ms/step - loss: 0.0121 - accuracy: 1.0000\n",
            "Epoch 48/100\n",
            "1/1 [==============================] - 0s 9ms/step - loss: 0.0105 - accuracy: 1.0000\n",
            "Epoch 49/100\n",
            "1/1 [==============================] - 0s 8ms/step - loss: 0.0093 - accuracy: 1.0000\n",
            "Epoch 50/100\n",
            "1/1 [==============================] - 0s 8ms/step - loss: 0.0084 - accuracy: 1.0000\n",
            "Epoch 51/100\n",
            "1/1 [==============================] - 0s 9ms/step - loss: 0.0077 - accuracy: 1.0000\n",
            "Epoch 52/100\n",
            "1/1 [==============================] - 0s 8ms/step - loss: 0.0072 - accuracy: 1.0000\n",
            "Epoch 53/100\n",
            "1/1 [==============================] - 0s 8ms/step - loss: 0.0069 - accuracy: 1.0000\n",
            "Epoch 54/100\n",
            "1/1 [==============================] - 0s 8ms/step - loss: 0.0067 - accuracy: 1.0000\n",
            "Epoch 55/100\n",
            "1/1 [==============================] - 0s 9ms/step - loss: 0.0066 - accuracy: 1.0000\n",
            "Epoch 56/100\n",
            "1/1 [==============================] - 0s 9ms/step - loss: 0.0065 - accuracy: 1.0000\n",
            "Epoch 57/100\n",
            "1/1 [==============================] - 0s 8ms/step - loss: 0.0065 - accuracy: 1.0000\n",
            "Epoch 58/100\n",
            "1/1 [==============================] - 0s 8ms/step - loss: 0.0066 - accuracy: 1.0000\n",
            "Epoch 59/100\n",
            "1/1 [==============================] - 0s 8ms/step - loss: 0.0066 - accuracy: 1.0000\n",
            "Epoch 60/100\n",
            "1/1 [==============================] - 0s 8ms/step - loss: 0.0067 - accuracy: 1.0000\n",
            "Epoch 61/100\n",
            "1/1 [==============================] - 0s 8ms/step - loss: 0.0067 - accuracy: 1.0000\n",
            "Epoch 62/100\n",
            "1/1 [==============================] - 0s 8ms/step - loss: 0.0067 - accuracy: 1.0000\n",
            "Epoch 63/100\n",
            "1/1 [==============================] - 0s 8ms/step - loss: 0.0068 - accuracy: 1.0000\n",
            "Epoch 64/100\n",
            "1/1 [==============================] - 0s 11ms/step - loss: 0.0068 - accuracy: 1.0000\n",
            "Epoch 65/100\n",
            "1/1 [==============================] - 0s 8ms/step - loss: 0.0067 - accuracy: 1.0000\n",
            "Epoch 66/100\n",
            "1/1 [==============================] - 0s 9ms/step - loss: 0.0067 - accuracy: 1.0000\n",
            "Epoch 67/100\n",
            "1/1 [==============================] - 0s 8ms/step - loss: 0.0066 - accuracy: 1.0000\n",
            "Epoch 68/100\n",
            "1/1 [==============================] - 0s 209ms/step - loss: 0.0066 - accuracy: 1.0000\n",
            "Epoch 69/100\n",
            "1/1 [==============================] - 0s 9ms/step - loss: 0.0065 - accuracy: 1.0000\n",
            "Epoch 70/100\n",
            "1/1 [==============================] - 0s 8ms/step - loss: 0.0064 - accuracy: 1.0000\n",
            "Epoch 71/100\n",
            "1/1 [==============================] - 0s 9ms/step - loss: 0.0063 - accuracy: 1.0000\n",
            "Epoch 72/100\n",
            "1/1 [==============================] - 0s 10ms/step - loss: 0.0061 - accuracy: 1.0000\n",
            "Epoch 73/100\n",
            "1/1 [==============================] - 0s 8ms/step - loss: 0.0060 - accuracy: 1.0000\n",
            "Epoch 74/100\n",
            "1/1 [==============================] - 0s 8ms/step - loss: 0.0059 - accuracy: 1.0000\n",
            "Epoch 75/100\n",
            "1/1 [==============================] - 0s 9ms/step - loss: 0.0058 - accuracy: 1.0000\n",
            "Epoch 76/100\n",
            "1/1 [==============================] - 0s 9ms/step - loss: 0.0057 - accuracy: 1.0000\n",
            "Epoch 77/100\n",
            "1/1 [==============================] - 0s 8ms/step - loss: 0.0056 - accuracy: 1.0000\n",
            "Epoch 78/100\n",
            "1/1 [==============================] - 0s 9ms/step - loss: 0.0055 - accuracy: 1.0000\n",
            "Epoch 79/100\n",
            "1/1 [==============================] - 0s 8ms/step - loss: 0.0054 - accuracy: 1.0000\n",
            "Epoch 80/100\n",
            "1/1 [==============================] - 0s 13ms/step - loss: 0.0053 - accuracy: 1.0000\n",
            "Epoch 81/100\n",
            "1/1 [==============================] - 0s 11ms/step - loss: 0.0052 - accuracy: 1.0000\n",
            "Epoch 82/100\n",
            "1/1 [==============================] - 0s 10ms/step - loss: 0.0051 - accuracy: 1.0000\n",
            "Epoch 83/100\n",
            "1/1 [==============================] - 0s 11ms/step - loss: 0.0051 - accuracy: 1.0000\n",
            "Epoch 84/100\n",
            "1/1 [==============================] - 0s 10ms/step - loss: 0.0050 - accuracy: 1.0000\n",
            "Epoch 85/100\n",
            "1/1 [==============================] - 0s 8ms/step - loss: 0.0050 - accuracy: 1.0000\n",
            "Epoch 86/100\n",
            "1/1 [==============================] - 0s 8ms/step - loss: 0.0049 - accuracy: 1.0000\n",
            "Epoch 87/100\n",
            "1/1 [==============================] - 0s 8ms/step - loss: 0.0049 - accuracy: 1.0000\n",
            "Epoch 88/100\n",
            "1/1 [==============================] - 0s 8ms/step - loss: 0.0048 - accuracy: 1.0000\n",
            "Epoch 89/100\n",
            "1/1 [==============================] - 0s 8ms/step - loss: 0.0048 - accuracy: 1.0000\n",
            "Epoch 90/100\n",
            "1/1 [==============================] - 0s 8ms/step - loss: 0.0048 - accuracy: 1.0000\n",
            "Epoch 91/100\n",
            "1/1 [==============================] - 0s 8ms/step - loss: 0.0047 - accuracy: 1.0000\n",
            "Epoch 92/100\n",
            "1/1 [==============================] - 0s 8ms/step - loss: 0.0047 - accuracy: 1.0000\n",
            "Epoch 93/100\n",
            "1/1 [==============================] - 0s 8ms/step - loss: 0.0047 - accuracy: 1.0000\n",
            "Epoch 94/100\n",
            "1/1 [==============================] - 0s 8ms/step - loss: 0.0046 - accuracy: 1.0000\n",
            "Epoch 95/100\n",
            "1/1 [==============================] - 0s 9ms/step - loss: 0.0046 - accuracy: 1.0000\n",
            "Epoch 96/100\n",
            "1/1 [==============================] - 0s 9ms/step - loss: 0.0046 - accuracy: 1.0000\n",
            "Epoch 97/100\n",
            "1/1 [==============================] - 0s 9ms/step - loss: 0.0046 - accuracy: 1.0000\n",
            "Epoch 98/100\n",
            "1/1 [==============================] - 1s 743ms/step - loss: 0.0046 - accuracy: 1.0000\n",
            "Epoch 99/100\n",
            "1/1 [==============================] - 0s 10ms/step - loss: 0.0045 - accuracy: 1.0000\n",
            "Epoch 100/100\n",
            "1/1 [==============================] - 0s 8ms/step - loss: 0.0045 - accuracy: 1.0000\n"
          ]
        },
        {
          "output_type": "execute_result",
          "data": {
            "text/plain": [
              "<keras.callbacks.History at 0x7fae605db5e0>"
            ]
          },
          "metadata": {},
          "execution_count": 3
        }
      ]
    },
    {
      "cell_type": "markdown",
      "source": [
        "# Test the model on the test data\n"
      ],
      "metadata": {
        "id": "kocjLFIKi26m"
      }
    },
    {
      "cell_type": "code",
      "source": [
        "\n",
        "for trial in range(len(X_test)):\n",
        "  pred=model.predict(np.array([X_test[trial]]), verbose=0)\n",
        "  res_test[trial]=pred[0][0]\n",
        "  #print(np.around(pred[0][0],1),y_test[trial],X_test[trial])\n",
        "  print(np.around(res_test[trial],2),y_test[trial],X_test[trial])\n",
        "\n",
        "print(res_test)\n"
      ],
      "metadata": {
        "colab": {
          "base_uri": "https://localhost:8080/"
        },
        "id": "WALjIVurdv1l",
        "outputId": "3575988f-58ce-47ef-96cb-f747c3eff59b"
      },
      "execution_count": 4,
      "outputs": [
        {
          "output_type": "stream",
          "name": "stdout",
          "text": [
            "1.0 1 [  0   0   0   0   0   0   0   0   0   0   0   0   0   0   0   0   0   0\n",
            "   0   0  36   0   0   0   0   0   0   0   0   0   0   0   0   0   0   0\n",
            "   0   0   0   0   0   0   0   0   0   0   0   0   0   0   0   0   0   0\n",
            "   0   0   0   0   0   0 219   0   0   0   0   0   0   0   0   0   0   0\n",
            "   0   0   0   0   0   0   0   0]\n",
            "1.0 1 [  0   0   0   0   0   0   0   0   0   0   0   0   0   0   0   0   0   0\n",
            "   0   0  73   0   0   0   0   0   0   0   0   0   0   0   0   0   0   0\n",
            "   0   0   0   0   0   0   0   0   0   0   0   0   0   0   0   0   0   0\n",
            "   0   0   0   0   0   0 182   0   0   0   0   0   0   0   0   0   0   0\n",
            "   0   0   0   0   0   0   0   0]\n",
            "1.0 1 [  0   0   0   0   0   0   0   0   0   0   0   0   0   0   0   0   0   0\n",
            "   0   0 109   0   0   0   0   0   0   0   0   0   0   0   0   0   0   0\n",
            "   0   0   0   0   0   0   0   0   0   0   0   0   0   0   0   0   0   0\n",
            "   0   0   0   0   0   0 146   0   0   0   0   0   0   0   0   0   0   0\n",
            "   0   0   0   0   0   0   0   0]\n",
            "0.0 0 [  0   0   0   0   0   0   0   0   0   0   0   0   0   0   0   0   0   0\n",
            "   0   0 146   0   0   0   0   0   0   0   0   0   0   0   0   0   0   0\n",
            "   0   0   0   0   0   0   0   0   0   0   0   0   0   0   0   0   0   0\n",
            "   0   0   0   0   0   0 109   0   0   0   0   0   0   0   0   0   0   0\n",
            "   0   0   0   0   0   0   0   0]\n",
            "0.0 0 [  0   0   0   0   0   0   0   0   0   0   0   0   0   0   0   0   0   0\n",
            "   0   0 182   0   0   0   0   0   0   0   0   0   0   0   0   0   0   0\n",
            "   0   0   0   0   0   0   0   0   0   0   0   0   0   0   0   0   0   0\n",
            "   0   0   0   0   0   0  73   0   0   0   0   0   0   0   0   0   0   0\n",
            "   0   0   0   0   0   0   0   0]\n",
            "0.0 0 [  0   0   0   0   0   0   0   0   0   0   0   0   0   0   0   0   0   0\n",
            "   0   0 219   0   0   0   0   0   0   0   0   0   0   0   0   0   0   0\n",
            "   0   0   0   0   0   0   0   0   0   0   0   0   0   0   0   0   0   0\n",
            "   0   0   0   0   0   0  36   0   0   0   0   0   0   0   0   0   0   0\n",
            "   0   0   0   0   0   0   0   0]\n",
            "1.0 1 [  0   0   0   0   0   0   0   0   0   0   0   0   0   0   0   0   0   0\n",
            "   0  36   0   0   0   0   0   0   0   0   0   0   0   0   0   0   0   0\n",
            "   0   0   0   0   0   0   0   0   0   0   0   0   0   0   0   0   0   0\n",
            "   0   0   0   0   0   0   0 219   0   0   0   0   0   0   0   0   0   0\n",
            "   0   0   0   0   0   0   0   0]\n",
            "1.0 1 [  0   0   0   0   0   0   0   0   0   0   0   0   0   0   0   0   0   0\n",
            "   0  73   0   0   0   0   0   0   0   0   0   0   0   0   0   0   0   0\n",
            "   0   0   0   0   0   0   0   0   0   0   0   0   0   0   0   0   0   0\n",
            "   0   0   0   0   0   0   0 182   0   0   0   0   0   0   0   0   0   0\n",
            "   0   0   0   0   0   0   0   0]\n",
            "1.0 1 [  0   0   0   0   0   0   0   0   0   0   0   0   0   0   0   0   0   0\n",
            "   0 109   0   0   0   0   0   0   0   0   0   0   0   0   0   0   0   0\n",
            "   0   0   0   0   0   0   0   0   0   0   0   0   0   0   0   0   0   0\n",
            "   0   0   0   0   0   0   0 146   0   0   0   0   0   0   0   0   0   0\n",
            "   0   0   0   0   0   0   0   0]\n",
            "1.0 0 [  0   0   0   0   0   0   0   0   0   0   0   0   0   0   0   0   0   0\n",
            "   0 146   0   0   0   0   0   0   0   0   0   0   0   0   0   0   0   0\n",
            "   0   0   0   0   0   0   0   0   0   0   0   0   0   0   0   0   0   0\n",
            "   0   0   0   0   0   0   0 109   0   0   0   0   0   0   0   0   0   0\n",
            "   0   0   0   0   0   0   0   0]\n",
            "1.0 0 [  0   0   0   0   0   0   0   0   0   0   0   0   0   0   0   0   0   0\n",
            "   0 182   0   0   0   0   0   0   0   0   0   0   0   0   0   0   0   0\n",
            "   0   0   0   0   0   0   0   0   0   0   0   0   0   0   0   0   0   0\n",
            "   0   0   0   0   0   0   0  73   0   0   0   0   0   0   0   0   0   0\n",
            "   0   0   0   0   0   0   0   0]\n",
            "1.0 0 [  0   0   0   0   0   0   0   0   0   0   0   0   0   0   0   0   0   0\n",
            "   0 219   0   0   0   0   0   0   0   0   0   0   0   0   0   0   0   0\n",
            "   0   0   0   0   0   0   0   0   0   0   0   0   0   0   0   0   0   0\n",
            "   0   0   0   0   0   0   0  36   0   0   0   0   0   0   0   0   0   0\n",
            "   0   0   0   0   0   0   0   0]\n",
            "1.0 1 [  0   0   0   0   0   0   0   0   0   0   0   0   0   0   0   0   0   0\n",
            "  36   0   0   0   0   0   0   0   0   0   0   0   0   0   0   0   0   0\n",
            "   0   0   0   0   0   0   0   0   0   0   0   0   0   0   0   0   0   0\n",
            "   0   0   0   0   0   0   0   0 219   0   0   0   0   0   0   0   0   0\n",
            "   0   0   0   0   0   0   0   0]\n",
            "1.0 1 [  0   0   0   0   0   0   0   0   0   0   0   0   0   0   0   0   0   0\n",
            "  73   0   0   0   0   0   0   0   0   0   0   0   0   0   0   0   0   0\n",
            "   0   0   0   0   0   0   0   0   0   0   0   0   0   0   0   0   0   0\n",
            "   0   0   0   0   0   0   0   0 182   0   0   0   0   0   0   0   0   0\n",
            "   0   0   0   0   0   0   0   0]\n",
            "0.72 1 [  0   0   0   0   0   0   0   0   0   0   0   0   0   0   0   0   0   0\n",
            " 109   0   0   0   0   0   0   0   0   0   0   0   0   0   0   0   0   0\n",
            "   0   0   0   0   0   0   0   0   0   0   0   0   0   0   0   0   0   0\n",
            "   0   0   0   0   0   0   0   0 146   0   0   0   0   0   0   0   0   0\n",
            "   0   0   0   0   0   0   0   0]\n",
            "0.01 0 [  0   0   0   0   0   0   0   0   0   0   0   0   0   0   0   0   0   0\n",
            " 146   0   0   0   0   0   0   0   0   0   0   0   0   0   0   0   0   0\n",
            "   0   0   0   0   0   0   0   0   0   0   0   0   0   0   0   0   0   0\n",
            "   0   0   0   0   0   0   0   0 109   0   0   0   0   0   0   0   0   0\n",
            "   0   0   0   0   0   0   0   0]\n",
            "0.01 0 [  0   0   0   0   0   0   0   0   0   0   0   0   0   0   0   0   0   0\n",
            " 182   0   0   0   0   0   0   0   0   0   0   0   0   0   0   0   0   0\n",
            "   0   0   0   0   0   0   0   0   0   0   0   0   0   0   0   0   0   0\n",
            "   0   0   0   0   0   0   0   0  73   0   0   0   0   0   0   0   0   0\n",
            "   0   0   0   0   0   0   0   0]\n",
            "0.0 0 [  0   0   0   0   0   0   0   0   0   0   0   0   0   0   0   0   0   0\n",
            " 219   0   0   0   0   0   0   0   0   0   0   0   0   0   0   0   0   0\n",
            "   0   0   0   0   0   0   0   0   0   0   0   0   0   0   0   0   0   0\n",
            "   0   0   0   0   0   0   0   0  36   0   0   0   0   0   0   0   0   0\n",
            "   0   0   0   0   0   0   0   0]\n",
            "1.0 1 [  0   0   0   0   0   0   0   0   0   0   0   0   0   0   0   0   0  36\n",
            "   0   0   0   0   0   0   0   0   0   0   0   0   0   0   0   0   0   0\n",
            "   0   0   0   0   0   0   0   0   0   0   0   0   0   0   0   0   0   0\n",
            "   0   0   0   0   0   0   0   0   0 219   0   0   0   0   0   0   0   0\n",
            "   0   0   0   0   0   0   0   0]\n",
            "0.96 1 [  0   0   0   0   0   0   0   0   0   0   0   0   0   0   0   0   0  73\n",
            "   0   0   0   0   0   0   0   0   0   0   0   0   0   0   0   0   0   0\n",
            "   0   0   0   0   0   0   0   0   0   0   0   0   0   0   0   0   0   0\n",
            "   0   0   0   0   0   0   0   0   0 182   0   0   0   0   0   0   0   0\n",
            "   0   0   0   0   0   0   0   0]\n",
            "0.21 1 [  0   0   0   0   0   0   0   0   0   0   0   0   0   0   0   0   0 109\n",
            "   0   0   0   0   0   0   0   0   0   0   0   0   0   0   0   0   0   0\n",
            "   0   0   0   0   0   0   0   0   0   0   0   0   0   0   0   0   0   0\n",
            "   0   0   0   0   0   0   0   0   0 146   0   0   0   0   0   0   0   0\n",
            "   0   0   0   0   0   0   0   0]\n",
            "0.0 0 [  0   0   0   0   0   0   0   0   0   0   0   0   0   0   0   0   0 146\n",
            "   0   0   0   0   0   0   0   0   0   0   0   0   0   0   0   0   0   0\n",
            "   0   0   0   0   0   0   0   0   0   0   0   0   0   0   0   0   0   0\n",
            "   0   0   0   0   0   0   0   0   0 109   0   0   0   0   0   0   0   0\n",
            "   0   0   0   0   0   0   0   0]\n",
            "0.0 0 [  0   0   0   0   0   0   0   0   0   0   0   0   0   0   0   0   0 182\n",
            "   0   0   0   0   0   0   0   0   0   0   0   0   0   0   0   0   0   0\n",
            "   0   0   0   0   0   0   0   0   0   0   0   0   0   0   0   0   0   0\n",
            "   0   0   0   0   0   0   0   0   0  73   0   0   0   0   0   0   0   0\n",
            "   0   0   0   0   0   0   0   0]\n",
            "0.0 0 [  0   0   0   0   0   0   0   0   0   0   0   0   0   0   0   0   0 219\n",
            "   0   0   0   0   0   0   0   0   0   0   0   0   0   0   0   0   0   0\n",
            "   0   0   0   0   0   0   0   0   0   0   0   0   0   0   0   0   0   0\n",
            "   0   0   0   0   0   0   0   0   0  36   0   0   0   0   0   0   0   0\n",
            "   0   0   0   0   0   0   0   0]\n",
            "0.02 1 [  0   0   0   0   0   0   0   0   0   0   0   0   0   0   0   0  36   0\n",
            "   0   0   0   0   0   0   0   0   0   0   0   0   0   0   0   0   0   0\n",
            "   0   0   0   0   0   0   0   0   0   0   0   0   0   0   0   0   0   0\n",
            "   0   0   0   0   0   0   0   0   0   0 219   0   0   0   0   0   0   0\n",
            "   0   0   0   0   0   0   0   0]\n",
            "0.01 1 [  0   0   0   0   0   0   0   0   0   0   0   0   0   0   0   0  73   0\n",
            "   0   0   0   0   0   0   0   0   0   0   0   0   0   0   0   0   0   0\n",
            "   0   0   0   0   0   0   0   0   0   0   0   0   0   0   0   0   0   0\n",
            "   0   0   0   0   0   0   0   0   0   0 182   0   0   0   0   0   0   0\n",
            "   0   0   0   0   0   0   0   0]\n",
            "0.04 1 [  0   0   0   0   0   0   0   0   0   0   0   0   0   0   0   0 109   0\n",
            "   0   0   0   0   0   0   0   0   0   0   0   0   0   0   0   0   0   0\n",
            "   0   0   0   0   0   0   0   0   0   0   0   0   0   0   0   0   0   0\n",
            "   0   0   0   0   0   0   0   0   0   0 146   0   0   0   0   0   0   0\n",
            "   0   0   0   0   0   0   0   0]\n",
            "0.14 0 [  0   0   0   0   0   0   0   0   0   0   0   0   0   0   0   0 146   0\n",
            "   0   0   0   0   0   0   0   0   0   0   0   0   0   0   0   0   0   0\n",
            "   0   0   0   0   0   0   0   0   0   0   0   0   0   0   0   0   0   0\n",
            "   0   0   0   0   0   0   0   0   0   0 109   0   0   0   0   0   0   0\n",
            "   0   0   0   0   0   0   0   0]\n",
            "0.0 0 [  0   0   0   0   0   0   0   0   0   0   0   0   0   0   0   0 182   0\n",
            "   0   0   0   0   0   0   0   0   0   0   0   0   0   0   0   0   0   0\n",
            "   0   0   0   0   0   0   0   0   0   0   0   0   0   0   0   0   0   0\n",
            "   0   0   0   0   0   0   0   0   0   0  73   0   0   0   0   0   0   0\n",
            "   0   0   0   0   0   0   0   0]\n",
            "0.0 0 [  0   0   0   0   0   0   0   0   0   0   0   0   0   0   0   0 219   0\n",
            "   0   0   0   0   0   0   0   0   0   0   0   0   0   0   0   0   0   0\n",
            "   0   0   0   0   0   0   0   0   0   0   0   0   0   0   0   0   0   0\n",
            "   0   0   0   0   0   0   0   0   0   0  36   0   0   0   0   0   0   0\n",
            "   0   0   0   0   0   0   0   0]\n",
            "[9.99999940e-01 9.99988973e-01 9.95902717e-01 4.86159837e-03\n",
            " 8.86627822e-05 6.45251248e-06 9.99994874e-01 1.00000000e+00\n",
            " 1.00000000e+00 1.00000000e+00 1.00000000e+00 1.00000000e+00\n",
            " 1.00000000e+00 9.99956965e-01 7.22886264e-01 7.70346913e-03\n",
            " 8.74128472e-03 3.14049446e-03 9.99411225e-01 9.59391356e-01\n",
            " 2.10673049e-01 2.58133747e-03 8.26220145e-04 1.08450777e-05\n",
            " 1.70625672e-02 1.39984991e-02 3.57815325e-02 1.35579705e-01\n",
            " 3.24956025e-03 4.53697794e-05]\n"
          ]
        }
      ]
    },
    {
      "cell_type": "code",
      "source": [
        "#Plot predictions in case response=0 as a fn of Brightnesses\n",
        "#different lines are different retinal positions.\n",
        "\n",
        "if WhetherToShuffle==1:\n",
        "  encode(X_test,undo_shuffler)\n",
        "  encode(X_train,undo_shuffler)\n",
        "\n",
        "\n",
        "import matplotlib.pyplot as plt\n",
        "for lab in range(2):\n",
        "  Xlab=np.array(X_test[np.where(y_test==lab)])\n",
        "  res_testlab=np.array(res_test[np.where(y_test==lab)])\n",
        "  #print(Xlab)\n",
        "  \n",
        "  for retpos in LeftRetPosns:\n",
        "    #get column of trials in Xlab corresponding to retpos\n",
        "    temp=Xlab[:,retpos]\n",
        "    #extract the nonzero ones\n",
        "    inds=np.nonzero(temp)\n",
        "    #print(inds)\n",
        "    #get the brightnesses at those indices and use as x-coords\n",
        "    xs=np.array(temp[inds])\n",
        "    #and the predictions for those brightnesses as y-coords\n",
        "    ys=res_testlab[inds]\n",
        "    #print(xs)\n",
        "    #print(ys)\n",
        "    #plt.plot(xs,ys,label=retpos,marker=\"o\",lw=retpos/2)\n",
        "    jit=(Left-retpos)*Left/1000 #jitter for plotting to avoid overlaps\n",
        "    #print(retpos,jit)\n",
        "    plt.plot(xs,ys+jit,label=retpos,marker=\"o\")\n",
        "    #plt.plot(xs,ys,label=retpos,marker=\"o\")\n",
        "  print('response',lab, 'trained on brightnesses', X_train[lab,(Left,Right)], 'at location',Left)\n",
        "  plt.legend(loc=\"best\")\n",
        "  plt.xlabel('brightness')\n",
        "  plt.ylabel('prediction')\n",
        "  plt.ylim([-0.1,1.1])\n",
        "  plt.show()\n",
        "  print()\n",
        "\n"
      ],
      "metadata": {
        "colab": {
          "base_uri": "https://localhost:8080/",
          "height": 612
        },
        "id": "kg8NgBNUm78D",
        "outputId": "14b020bd-996c-4490-da60-078860a5ee2b"
      },
      "execution_count": 20,
      "outputs": [
        {
          "output_type": "stream",
          "name": "stdout",
          "text": [
            "response 0 trained on brightnesses [146 109] at location 20\n"
          ]
        },
        {
          "output_type": "display_data",
          "data": {
            "text/plain": [
              "<Figure size 432x288 with 1 Axes>"
            ],
            "image/png": "[encoded data removed]"
          },
          "metadata": {
            "needs_background": "light"
          }
        },
        {
          "output_type": "stream",
          "name": "stdout",
          "text": [
            "\n",
            "response 1 trained on brightnesses [109 146] at location 20\n"
          ]
        },
        {
          "output_type": "display_data",
          "data": {
            "text/plain": [
              "<Figure size 432x288 with 1 Axes>"
            ],
            "image/png": "[encoded data removed]"
          },
          "metadata": {
            "needs_background": "light"
          }
        },
        {
          "output_type": "stream",
          "name": "stdout",
          "text": [
            "\n"
          ]
        }
      ]
    },
    {
      "cell_type": "code",
      "source": [
        "#Plot results as a function of retinal position\n",
        "\n",
        "import matplotlib.pyplot as plt\n",
        "for lab in range(2):\n",
        "  Xlab=np.array(X_test[np.where(y_test==lab)])\n",
        "  res_testlab=np.array(res_test[np.where(y_test==lab)])\n",
        "  #print(Xlab)\n",
        "  #extract list of brightesses from nonzero elements of column Left\n",
        "  LeftCol=Xlab[:,Left]\n",
        "  NewBrightnesses=LeftCol[np.nonzero(LeftCol)]\n",
        "  LNewBrightnesses=len(NewBrightnesses)\n",
        "\n",
        "  LLeftRetPosns=len(LeftRetPosns)\n",
        "  Predicts=np.zeros((LNewBrightnesses,LLeftRetPosns),float)\n",
        "  for trial in range(len(Xlab)):\n",
        "      t=Xlab[trial]\n",
        "      #get index of 1st nonzero elt --> retpos\n",
        "      retpos=np.nonzero(t)[0][0]\n",
        "      #get brightness at that retpos \n",
        "      B=t[retpos]\n",
        "      #get index of that brightness in list of Brightnesses\n",
        "      b=np.where(NewBrightnesses==B)[0][0]\n",
        "      #get index of the retpos in the list of retposns\n",
        "      r=np.where(LeftRetPosns==retpos)\n",
        "      Predicts[b,r]=res_testlab[trial]\n",
        "\n",
        "  for b in range(LNewBrightnesses):\n",
        "    plt.plot(LeftRetPosns+0.05*b,Predicts[b,:]+0.02*b,label=NewBrightnesses[b],marker='o')\n",
        "    #plt.plot(LeftRetPosns,Predicts[b,:],label=NewBrightnesses[b],marker='o',lw=b/2)\n",
        "\n",
        "    plt.legend(loc=\"best\")\n",
        "    plt.xlabel('tested left retina position')\n",
        "    plt.ylabel('prediction')\n",
        "    plt.ylim([-0.05,1.05])\n",
        "\n",
        "  \n",
        "  print('response',lab, 'trained on brightnesses', X_train[lab,(Left,Right)], 'at location',Left)\n",
        "  plt.show()\n",
        "  print()\n",
        "\n",
        "\n"
      ],
      "metadata": {
        "colab": {
          "base_uri": "https://localhost:8080/",
          "height": 612
        },
        "id": "EeG0Xjntk9ca",
        "outputId": "1007d9eb-a855-4b25-ef2e-81372e91c2ed"
      },
      "execution_count": 21,
      "outputs": [
        {
          "output_type": "stream",
          "name": "stdout",
          "text": [
            "response 0 trained on brightnesses [146 109] at location 20\n"
          ]
        },
        {
          "output_type": "display_data",
          "data": {
            "text/plain": [
              "<Figure size 432x288 with 1 Axes>"
            ],
            "image/png": "[encoded data removed]"
          },
          "metadata": {
            "needs_background": "light"
          }
        },
        {
          "output_type": "stream",
          "name": "stdout",
          "text": [
            "\n",
            "response 1 trained on brightnesses [109 146] at location 20\n"
          ]
        },
        {
          "output_type": "display_data",
          "data": {
            "text/plain": [
              "<Figure size 432x288 with 1 Axes>"
            ],
            "image/png": "[encoded data removed]"
          },
          "metadata": {
            "needs_background": "light"
          }
        },
        {
          "output_type": "stream",
          "name": "stdout",
          "text": [
            "\n"
          ]
        }
      ]
    },
    {
      "cell_type": "markdown",
      "source": [
        "Comment on results:\n"
      ],
      "metadata": {
        "id": "QaKQ2E2_mm0O"
      }
    },
    {
      "cell_type": "markdown",
      "source": [
        "## Train with CNN"
      ],
      "metadata": {
        "id": "stPC6iIy3Z5S"
      }
    },
    {
      "cell_type": "code",
      "source": [
        "\n",
        "\n",
        "if WhetherToShuffle==1:\n",
        "  #only use this if you want to shuffle the brightness values\n",
        "  encode(X_train,shuffler)\n",
        "  print(X_train)\n",
        "  encode(X_test,shuffler)\n",
        "  print(X_test)\n",
        "\n",
        "model = Sequential()\n",
        "model.add(Conv1D(filters=32, kernel_size=5, activation='relu', input_shape=(len(X_train[0]), 1)))\n",
        "model.add(MaxPooling1D(pool_size=4))\n",
        "#model.add(Conv1D(filters=64, kernel_size=5, activation='relu'))\n",
        "#model.add(MaxPooling1D(pool_size=2))\n",
        "model.add(Flatten())\n",
        "model.add(Dense(RetSize/2, activation='relu'))\n",
        "model.add(Dense(1, activation='sigmoid'))\n",
        "\n",
        "# Compile the model\n",
        "model.compile(loss='binary_crossentropy', optimizer='adam', metrics=['accuracy'])\n",
        "\n",
        "# Train the model\n",
        "model.fit(X_train, y_train, epochs=40, batch_size=32, verbose=1)\n",
        "\n",
        "#loss, accuracy = model.evaluate(X_test, y_test, verbose=1)\n",
        "#print(\"Accuracy:\", accuracy)"
      ],
      "metadata": {
        "id": "Rb8O58aCqQ4O",
        "colab": {
          "base_uri": "https://localhost:8080/"
        },
        "outputId": "f94e5187-ec6e-45b2-8756-d04be57bfa02"
      },
      "execution_count": 23,
      "outputs": [
        {
          "output_type": "stream",
          "name": "stdout",
          "text": [
            "Epoch 1/40\n",
            "1/1 [==============================] - 1s 1s/step - loss: 1.2306 - accuracy: 0.5000\n",
            "Epoch 2/40\n",
            "1/1 [==============================] - 0s 11ms/step - loss: 0.1002 - accuracy: 1.0000\n",
            "Epoch 3/40\n",
            "1/1 [==============================] - 0s 10ms/step - loss: 0.7000 - accuracy: 0.5000\n",
            "Epoch 4/40\n",
            "1/1 [==============================] - 0s 10ms/step - loss: 0.4383 - accuracy: 0.5000\n",
            "Epoch 5/40\n",
            "1/1 [==============================] - 0s 9ms/step - loss: 0.0959 - accuracy: 1.0000\n",
            "Epoch 6/40\n",
            "1/1 [==============================] - 0s 9ms/step - loss: 0.0515 - accuracy: 1.0000\n",
            "Epoch 7/40\n",
            "1/1 [==============================] - 0s 13ms/step - loss: 0.1492 - accuracy: 1.0000\n",
            "Epoch 8/40\n",
            "1/1 [==============================] - 0s 10ms/step - loss: 0.2651 - accuracy: 1.0000\n",
            "Epoch 9/40\n",
            "1/1 [==============================] - 0s 9ms/step - loss: 0.2258 - accuracy: 1.0000\n",
            "Epoch 10/40\n",
            "1/1 [==============================] - 0s 8ms/step - loss: 0.1110 - accuracy: 1.0000\n",
            "Epoch 11/40\n",
            "1/1 [==============================] - 1s 705ms/step - loss: 0.0442 - accuracy: 1.0000\n",
            "Epoch 12/40\n",
            "1/1 [==============================] - 0s 9ms/step - loss: 0.0265 - accuracy: 1.0000\n",
            "Epoch 13/40\n",
            "1/1 [==============================] - 0s 8ms/step - loss: 0.0351 - accuracy: 1.0000\n",
            "Epoch 14/40\n",
            "1/1 [==============================] - 0s 9ms/step - loss: 0.0591 - accuracy: 1.0000\n",
            "Epoch 15/40\n",
            "1/1 [==============================] - 0s 8ms/step - loss: 0.0845 - accuracy: 1.0000\n",
            "Epoch 16/40\n",
            "1/1 [==============================] - 0s 8ms/step - loss: 0.0913 - accuracy: 1.0000\n",
            "Epoch 17/40\n",
            "1/1 [==============================] - 0s 8ms/step - loss: 0.0747 - accuracy: 1.0000\n",
            "Epoch 18/40\n",
            "1/1 [==============================] - 0s 8ms/step - loss: 0.0497 - accuracy: 1.0000\n",
            "Epoch 19/40\n",
            "1/1 [==============================] - 0s 9ms/step - loss: 0.0300 - accuracy: 1.0000\n",
            "Epoch 20/40\n",
            "1/1 [==============================] - 0s 9ms/step - loss: 0.0189 - accuracy: 1.0000\n",
            "Epoch 21/40\n",
            "1/1 [==============================] - 0s 8ms/step - loss: 0.0144 - accuracy: 1.0000\n",
            "Epoch 22/40\n",
            "1/1 [==============================] - 0s 9ms/step - loss: 0.0141 - accuracy: 1.0000\n",
            "Epoch 23/40\n",
            "1/1 [==============================] - 0s 14ms/step - loss: 0.0166 - accuracy: 1.0000\n",
            "Epoch 24/40\n",
            "1/1 [==============================] - 0s 9ms/step - loss: 0.0205 - accuracy: 1.0000\n",
            "Epoch 25/40\n",
            "1/1 [==============================] - 0s 9ms/step - loss: 0.0245 - accuracy: 1.0000\n",
            "Epoch 26/40\n",
            "1/1 [==============================] - 0s 11ms/step - loss: 0.0269 - accuracy: 1.0000\n",
            "Epoch 27/40\n",
            "1/1 [==============================] - 0s 13ms/step - loss: 0.0269 - accuracy: 1.0000\n",
            "Epoch 28/40\n",
            "1/1 [==============================] - 0s 8ms/step - loss: 0.0246 - accuracy: 1.0000\n",
            "Epoch 29/40\n",
            "1/1 [==============================] - 0s 8ms/step - loss: 0.0210 - accuracy: 1.0000\n",
            "Epoch 30/40\n",
            "1/1 [==============================] - 0s 10ms/step - loss: 0.0170 - accuracy: 1.0000\n",
            "Epoch 31/40\n",
            "1/1 [==============================] - 0s 8ms/step - loss: 0.0136 - accuracy: 1.0000\n",
            "Epoch 32/40\n",
            "1/1 [==============================] - 0s 9ms/step - loss: 0.0110 - accuracy: 1.0000\n",
            "Epoch 33/40\n",
            "1/1 [==============================] - 0s 9ms/step - loss: 0.0093 - accuracy: 1.0000\n",
            "Epoch 34/40\n",
            "1/1 [==============================] - 0s 10ms/step - loss: 0.0083 - accuracy: 1.0000\n",
            "Epoch 35/40\n",
            "1/1 [==============================] - 0s 15ms/step - loss: 0.0080 - accuracy: 1.0000\n",
            "Epoch 36/40\n",
            "1/1 [==============================] - 0s 13ms/step - loss: 0.0081 - accuracy: 1.0000\n",
            "Epoch 37/40\n",
            "1/1 [==============================] - 0s 25ms/step - loss: 0.0084 - accuracy: 1.0000\n",
            "Epoch 38/40\n",
            "1/1 [==============================] - 0s 12ms/step - loss: 0.0089 - accuracy: 1.0000\n",
            "Epoch 39/40\n",
            "1/1 [==============================] - 0s 10ms/step - loss: 0.0093 - accuracy: 1.0000\n",
            "Epoch 40/40\n",
            "1/1 [==============================] - 0s 11ms/step - loss: 0.0096 - accuracy: 1.0000\n"
          ]
        },
        {
          "output_type": "execute_result",
          "data": {
            "text/plain": [
              "<keras.callbacks.History at 0x7fae507ec7c0>"
            ]
          },
          "metadata": {},
          "execution_count": 23
        }
      ]
    },
    {
      "cell_type": "markdown",
      "source": [
        "###Test CNN \n"
      ],
      "metadata": {
        "id": "AfbygbGhGyHp"
      }
    },
    {
      "cell_type": "code",
      "source": [
        "\n",
        "for trial in range(len(X_test)):\n",
        "  pred=model.predict(np.array([X_test[trial]]), verbose=0)\n",
        "  res_test[trial]=pred[0][0]\n",
        "  #print(np.around(pred[0][0],1),y_test[trial],X_test[trial])\n",
        "  print(np.around(res_test[trial],1),y_test[trial],X_test[trial])\n",
        "\n",
        "print(res_test)\n"
      ],
      "metadata": {
        "colab": {
          "base_uri": "https://localhost:8080/"
        },
        "id": "JqozJP4KUx8p",
        "outputId": "47f003b3-eea9-4cac-9c08-85b675184675"
      },
      "execution_count": 25,
      "outputs": [
        {
          "output_type": "stream",
          "name": "stdout",
          "text": [
            "1.0 1 [  0   0   0   0   0   0   0   0   0   0   0   0   0   0   0   0   0   0\n",
            "   0   0  36   0   0   0   0   0   0   0   0   0   0   0   0   0   0   0\n",
            "   0   0   0   0   0   0   0   0   0   0   0   0   0   0   0   0   0   0\n",
            "   0   0   0   0   0   0 219   0   0   0   0   0   0   0   0   0   0   0\n",
            "   0   0   0   0   0   0   0   0]\n",
            "1.0 1 [  0   0   0   0   0   0   0   0   0   0   0   0   0   0   0   0   0   0\n",
            "   0   0  73   0   0   0   0   0   0   0   0   0   0   0   0   0   0   0\n",
            "   0   0   0   0   0   0   0   0   0   0   0   0   0   0   0   0   0   0\n",
            "   0   0   0   0   0   0 182   0   0   0   0   0   0   0   0   0   0   0\n",
            "   0   0   0   0   0   0   0   0]\n",
            "1.0 1 [  0   0   0   0   0   0   0   0   0   0   0   0   0   0   0   0   0   0\n",
            "   0   0 109   0   0   0   0   0   0   0   0   0   0   0   0   0   0   0\n",
            "   0   0   0   0   0   0   0   0   0   0   0   0   0   0   0   0   0   0\n",
            "   0   0   0   0   0   0 146   0   0   0   0   0   0   0   0   0   0   0\n",
            "   0   0   0   0   0   0   0   0]\n",
            "0.0 0 [  0   0   0   0   0   0   0   0   0   0   0   0   0   0   0   0   0   0\n",
            "   0   0 146   0   0   0   0   0   0   0   0   0   0   0   0   0   0   0\n",
            "   0   0   0   0   0   0   0   0   0   0   0   0   0   0   0   0   0   0\n",
            "   0   0   0   0   0   0 109   0   0   0   0   0   0   0   0   0   0   0\n",
            "   0   0   0   0   0   0   0   0]\n",
            "0.0 0 [  0   0   0   0   0   0   0   0   0   0   0   0   0   0   0   0   0   0\n",
            "   0   0 182   0   0   0   0   0   0   0   0   0   0   0   0   0   0   0\n",
            "   0   0   0   0   0   0   0   0   0   0   0   0   0   0   0   0   0   0\n",
            "   0   0   0   0   0   0  73   0   0   0   0   0   0   0   0   0   0   0\n",
            "   0   0   0   0   0   0   0   0]\n",
            "0.0 0 [  0   0   0   0   0   0   0   0   0   0   0   0   0   0   0   0   0   0\n",
            "   0   0 219   0   0   0   0   0   0   0   0   0   0   0   0   0   0   0\n",
            "   0   0   0   0   0   0   0   0   0   0   0   0   0   0   0   0   0   0\n",
            "   0   0   0   0   0   0  36   0   0   0   0   0   0   0   0   0   0   0\n",
            "   0   0   0   0   0   0   0   0]\n",
            "1.0 1 [  0   0   0   0   0   0   0   0   0   0   0   0   0   0   0   0   0   0\n",
            "   0  36   0   0   0   0   0   0   0   0   0   0   0   0   0   0   0   0\n",
            "   0   0   0   0   0   0   0   0   0   0   0   0   0   0   0   0   0   0\n",
            "   0   0   0   0   0   0   0 219   0   0   0   0   0   0   0   0   0   0\n",
            "   0   0   0   0   0   0   0   0]\n",
            "1.0 1 [  0   0   0   0   0   0   0   0   0   0   0   0   0   0   0   0   0   0\n",
            "   0  73   0   0   0   0   0   0   0   0   0   0   0   0   0   0   0   0\n",
            "   0   0   0   0   0   0   0   0   0   0   0   0   0   0   0   0   0   0\n",
            "   0   0   0   0   0   0   0 182   0   0   0   0   0   0   0   0   0   0\n",
            "   0   0   0   0   0   0   0   0]\n",
            "1.0 1 [  0   0   0   0   0   0   0   0   0   0   0   0   0   0   0   0   0   0\n",
            "   0 109   0   0   0   0   0   0   0   0   0   0   0   0   0   0   0   0\n",
            "   0   0   0   0   0   0   0   0   0   0   0   0   0   0   0   0   0   0\n",
            "   0   0   0   0   0   0   0 146   0   0   0   0   0   0   0   0   0   0\n",
            "   0   0   0   0   0   0   0   0]\n",
            "0.9 0 [  0   0   0   0   0   0   0   0   0   0   0   0   0   0   0   0   0   0\n",
            "   0 146   0   0   0   0   0   0   0   0   0   0   0   0   0   0   0   0\n",
            "   0   0   0   0   0   0   0   0   0   0   0   0   0   0   0   0   0   0\n",
            "   0   0   0   0   0   0   0 109   0   0   0   0   0   0   0   0   0   0\n",
            "   0   0   0   0   0   0   0   0]\n",
            "0.2 0 [  0   0   0   0   0   0   0   0   0   0   0   0   0   0   0   0   0   0\n",
            "   0 182   0   0   0   0   0   0   0   0   0   0   0   0   0   0   0   0\n",
            "   0   0   0   0   0   0   0   0   0   0   0   0   0   0   0   0   0   0\n",
            "   0   0   0   0   0   0   0  73   0   0   0   0   0   0   0   0   0   0\n",
            "   0   0   0   0   0   0   0   0]\n",
            "0.0 0 [  0   0   0   0   0   0   0   0   0   0   0   0   0   0   0   0   0   0\n",
            "   0 219   0   0   0   0   0   0   0   0   0   0   0   0   0   0   0   0\n",
            "   0   0   0   0   0   0   0   0   0   0   0   0   0   0   0   0   0   0\n",
            "   0   0   0   0   0   0   0  36   0   0   0   0   0   0   0   0   0   0\n",
            "   0   0   0   0   0   0   0   0]\n",
            "1.0 1 [  0   0   0   0   0   0   0   0   0   0   0   0   0   0   0   0   0   0\n",
            "  36   0   0   0   0   0   0   0   0   0   0   0   0   0   0   0   0   0\n",
            "   0   0   0   0   0   0   0   0   0   0   0   0   0   0   0   0   0   0\n",
            "   0   0   0   0   0   0   0   0 219   0   0   0   0   0   0   0   0   0\n",
            "   0   0   0   0   0   0   0   0]\n",
            "1.0 1 [  0   0   0   0   0   0   0   0   0   0   0   0   0   0   0   0   0   0\n",
            "  73   0   0   0   0   0   0   0   0   0   0   0   0   0   0   0   0   0\n",
            "   0   0   0   0   0   0   0   0   0   0   0   0   0   0   0   0   0   0\n",
            "   0   0   0   0   0   0   0   0 182   0   0   0   0   0   0   0   0   0\n",
            "   0   0   0   0   0   0   0   0]\n",
            "1.0 1 [  0   0   0   0   0   0   0   0   0   0   0   0   0   0   0   0   0   0\n",
            " 109   0   0   0   0   0   0   0   0   0   0   0   0   0   0   0   0   0\n",
            "   0   0   0   0   0   0   0   0   0   0   0   0   0   0   0   0   0   0\n",
            "   0   0   0   0   0   0   0   0 146   0   0   0   0   0   0   0   0   0\n",
            "   0   0   0   0   0   0   0   0]\n",
            "0.7 0 [  0   0   0   0   0   0   0   0   0   0   0   0   0   0   0   0   0   0\n",
            " 146   0   0   0   0   0   0   0   0   0   0   0   0   0   0   0   0   0\n",
            "   0   0   0   0   0   0   0   0   0   0   0   0   0   0   0   0   0   0\n",
            "   0   0   0   0   0   0   0   0 109   0   0   0   0   0   0   0   0   0\n",
            "   0   0   0   0   0   0   0   0]\n",
            "0.9 0 [  0   0   0   0   0   0   0   0   0   0   0   0   0   0   0   0   0   0\n",
            " 182   0   0   0   0   0   0   0   0   0   0   0   0   0   0   0   0   0\n",
            "   0   0   0   0   0   0   0   0   0   0   0   0   0   0   0   0   0   0\n",
            "   0   0   0   0   0   0   0   0  73   0   0   0   0   0   0   0   0   0\n",
            "   0   0   0   0   0   0   0   0]\n",
            "1.0 0 [  0   0   0   0   0   0   0   0   0   0   0   0   0   0   0   0   0   0\n",
            " 219   0   0   0   0   0   0   0   0   0   0   0   0   0   0   0   0   0\n",
            "   0   0   0   0   0   0   0   0   0   0   0   0   0   0   0   0   0   0\n",
            "   0   0   0   0   0   0   0   0  36   0   0   0   0   0   0   0   0   0\n",
            "   0   0   0   0   0   0   0   0]\n",
            "0.1 1 [  0   0   0   0   0   0   0   0   0   0   0   0   0   0   0   0   0  36\n",
            "   0   0   0   0   0   0   0   0   0   0   0   0   0   0   0   0   0   0\n",
            "   0   0   0   0   0   0   0   0   0   0   0   0   0   0   0   0   0   0\n",
            "   0   0   0   0   0   0   0   0   0 219   0   0   0   0   0   0   0   0\n",
            "   0   0   0   0   0   0   0   0]\n",
            "0.7 1 [  0   0   0   0   0   0   0   0   0   0   0   0   0   0   0   0   0  73\n",
            "   0   0   0   0   0   0   0   0   0   0   0   0   0   0   0   0   0   0\n",
            "   0   0   0   0   0   0   0   0   0   0   0   0   0   0   0   0   0   0\n",
            "   0   0   0   0   0   0   0   0   0 182   0   0   0   0   0   0   0   0\n",
            "   0   0   0   0   0   0   0   0]\n",
            "0.9 1 [  0   0   0   0   0   0   0   0   0   0   0   0   0   0   0   0   0 109\n",
            "   0   0   0   0   0   0   0   0   0   0   0   0   0   0   0   0   0   0\n",
            "   0   0   0   0   0   0   0   0   0   0   0   0   0   0   0   0   0   0\n",
            "   0   0   0   0   0   0   0   0   0 146   0   0   0   0   0   0   0   0\n",
            "   0   0   0   0   0   0   0   0]\n",
            "1.0 0 [  0   0   0   0   0   0   0   0   0   0   0   0   0   0   0   0   0 146\n",
            "   0   0   0   0   0   0   0   0   0   0   0   0   0   0   0   0   0   0\n",
            "   0   0   0   0   0   0   0   0   0   0   0   0   0   0   0   0   0   0\n",
            "   0   0   0   0   0   0   0   0   0 109   0   0   0   0   0   0   0   0\n",
            "   0   0   0   0   0   0   0   0]\n",
            "1.0 0 [  0   0   0   0   0   0   0   0   0   0   0   0   0   0   0   0   0 182\n",
            "   0   0   0   0   0   0   0   0   0   0   0   0   0   0   0   0   0   0\n",
            "   0   0   0   0   0   0   0   0   0   0   0   0   0   0   0   0   0   0\n",
            "   0   0   0   0   0   0   0   0   0  73   0   0   0   0   0   0   0   0\n",
            "   0   0   0   0   0   0   0   0]\n",
            "1.0 0 [  0   0   0   0   0   0   0   0   0   0   0   0   0   0   0   0   0 219\n",
            "   0   0   0   0   0   0   0   0   0   0   0   0   0   0   0   0   0   0\n",
            "   0   0   0   0   0   0   0   0   0   0   0   0   0   0   0   0   0   0\n",
            "   0   0   0   0   0   0   0   0   0  36   0   0   0   0   0   0   0   0\n",
            "   0   0   0   0   0   0   0   0]\n",
            "0.1 1 [  0   0   0   0   0   0   0   0   0   0   0   0   0   0   0   0  36   0\n",
            "   0   0   0   0   0   0   0   0   0   0   0   0   0   0   0   0   0   0\n",
            "   0   0   0   0   0   0   0   0   0   0   0   0   0   0   0   0   0   0\n",
            "   0   0   0   0   0   0   0   0   0   0 219   0   0   0   0   0   0   0\n",
            "   0   0   0   0   0   0   0   0]\n",
            "0.4 1 [  0   0   0   0   0   0   0   0   0   0   0   0   0   0   0   0  73   0\n",
            "   0   0   0   0   0   0   0   0   0   0   0   0   0   0   0   0   0   0\n",
            "   0   0   0   0   0   0   0   0   0   0   0   0   0   0   0   0   0   0\n",
            "   0   0   0   0   0   0   0   0   0   0 182   0   0   0   0   0   0   0\n",
            "   0   0   0   0   0   0   0   0]\n",
            "0.7 1 [  0   0   0   0   0   0   0   0   0   0   0   0   0   0   0   0 109   0\n",
            "   0   0   0   0   0   0   0   0   0   0   0   0   0   0   0   0   0   0\n",
            "   0   0   0   0   0   0   0   0   0   0   0   0   0   0   0   0   0   0\n",
            "   0   0   0   0   0   0   0   0   0   0 146   0   0   0   0   0   0   0\n",
            "   0   0   0   0   0   0   0   0]\n",
            "0.9 0 [  0   0   0   0   0   0   0   0   0   0   0   0   0   0   0   0 146   0\n",
            "   0   0   0   0   0   0   0   0   0   0   0   0   0   0   0   0   0   0\n",
            "   0   0   0   0   0   0   0   0   0   0   0   0   0   0   0   0   0   0\n",
            "   0   0   0   0   0   0   0   0   0   0 109   0   0   0   0   0   0   0\n",
            "   0   0   0   0   0   0   0   0]\n",
            "1.0 0 [  0   0   0   0   0   0   0   0   0   0   0   0   0   0   0   0 182   0\n",
            "   0   0   0   0   0   0   0   0   0   0   0   0   0   0   0   0   0   0\n",
            "   0   0   0   0   0   0   0   0   0   0   0   0   0   0   0   0   0   0\n",
            "   0   0   0   0   0   0   0   0   0   0  73   0   0   0   0   0   0   0\n",
            "   0   0   0   0   0   0   0   0]\n",
            "1.0 0 [  0   0   0   0   0   0   0   0   0   0   0   0   0   0   0   0 219   0\n",
            "   0   0   0   0   0   0   0   0   0   0   0   0   0   0   0   0   0   0\n",
            "   0   0   0   0   0   0   0   0   0   0   0   0   0   0   0   0   0   0\n",
            "   0   0   0   0   0   0   0   0   0   0  36   0   0   0   0   0   0   0\n",
            "   0   0   0   0   0   0   0   0]\n",
            "[1.00000000e+00 9.99998450e-01 9.83635783e-01 2.86414335e-03\n",
            " 4.64589391e-07 1.29450495e-09 1.00000000e+00 9.99998808e-01\n",
            " 9.99559343e-01 9.06645894e-01 1.75096348e-01 1.72138903e-02\n",
            " 9.97488439e-01 9.94250536e-01 9.65040147e-01 7.25825489e-01\n",
            " 8.91845465e-01 9.74864423e-01 1.26623198e-01 6.57563210e-01\n",
            " 8.89976501e-01 9.79183435e-01 9.99186635e-01 9.99879837e-01\n",
            " 1.42180249e-01 4.19517875e-01 6.98386490e-01 9.19434547e-01\n",
            " 9.92721260e-01 9.99407649e-01]\n"
          ]
        }
      ]
    },
    {
      "cell_type": "code",
      "source": [
        "#Plot predictions in case response=0 as a fn of Brightnesses\n",
        "#different lines are different retinal positions.\n",
        "\n",
        "if WhetherToShuffle==1:\n",
        "  encode(X_test,undo_shuffler)\n",
        "  encode(X_train,undo_shuffler)\n",
        "\n",
        "\n",
        "import matplotlib.pyplot as plt\n",
        "for lab in range(2):\n",
        "  Xlab=np.array(X_test[np.where(y_test==lab)])\n",
        "  res_testlab=np.array(res_test[np.where(y_test==lab)])\n",
        "  #print(Xlab)\n",
        "  \n",
        "  for retpos in LeftRetPosns:\n",
        "    #get column of trials in Xlab corresponding to retpos\n",
        "    temp=Xlab[:,retpos]\n",
        "    #extract the nonzero ones\n",
        "    inds=np.nonzero(temp)\n",
        "    #print(inds)\n",
        "    #get the brightnesses at those indices and use as x-coords\n",
        "    xs=np.array(temp[inds])\n",
        "    #and the predictions for those brightnesses as y-coords\n",
        "    ys=res_testlab[inds]\n",
        "    #print(xs)\n",
        "    #print(ys)\n",
        "    #plt.plot(xs,ys,label=retpos,marker=\"o\",lw=retpos/2)\n",
        "    jit=(retpos-Deltas-2)*Left/5000 #jitter for plotting to avoid overlaps\n",
        "    #print(retpos,jit)\n",
        "    plt.plot(xs,ys+jit,label=retpos,marker=\"o\")\n",
        "    #plt.plot(xs,ys,label=retpos,marker=\"o\")\n",
        "  print('response',lab, 'trained on brightnesses', X_train[lab,(Left,Right)], 'at location',Left)\n",
        "  plt.legend(loc=\"best\")\n",
        "  plt.xlabel('brightness')\n",
        "  plt.ylabel('prediction')\n",
        "  plt.ylim([-0.1,1.1])\n",
        "  plt.show()\n",
        "  print()\n",
        "\n",
        "\n"
      ],
      "metadata": {
        "id": "3kV-UL-xiQZG",
        "colab": {
          "base_uri": "https://localhost:8080/",
          "height": 612
        },
        "outputId": "4e8dabdb-ae1e-43de-e9cf-2c06f70ffd65"
      },
      "execution_count": 29,
      "outputs": [
        {
          "output_type": "stream",
          "name": "stdout",
          "text": [
            "response 0 trained on brightnesses [146 109] at location 20\n"
          ]
        },
        {
          "output_type": "display_data",
          "data": {
            "text/plain": [
              "<Figure size 432x288 with 1 Axes>"
            ],
            "image/png": "[encoded data removed]"
          },
          "metadata": {
            "needs_background": "light"
          }
        },
        {
          "output_type": "stream",
          "name": "stdout",
          "text": [
            "\n",
            "response 1 trained on brightnesses [109 146] at location 20\n"
          ]
        },
        {
          "output_type": "display_data",
          "data": {
            "text/plain": [
              "<Figure size 432x288 with 1 Axes>"
            ],
            "image/png": "[encoded data removed]"
          },
          "metadata": {
            "needs_background": "light"
          }
        },
        {
          "output_type": "stream",
          "name": "stdout",
          "text": [
            "\n"
          ]
        }
      ]
    },
    {
      "cell_type": "code",
      "source": [
        "#Plot results as a function of retinal position\n",
        "\n",
        "import matplotlib.pyplot as plt\n",
        "for lab in range(2):\n",
        "  Xlab=np.array(X_test[np.where(y_test==lab)])\n",
        "  res_testlab=np.array(res_test[np.where(y_test==lab)])\n",
        "  #print(Xlab)\n",
        "  #extract list of brightesses from nonzero elements of column Left\n",
        "  LeftCol=Xlab[:,Left]\n",
        "  NewBrightnesses=LeftCol[np.nonzero(LeftCol)]\n",
        "  LNewBrightnesses=len(NewBrightnesses)\n",
        "\n",
        "  LLeftRetPosns=len(LeftRetPosns)\n",
        "  Predicts=np.zeros((LNewBrightnesses,LLeftRetPosns),float)\n",
        "  for trial in range(len(Xlab)):\n",
        "      t=Xlab[trial]\n",
        "      #get index of 1st nonzero elt --> retpos\n",
        "      retpos=np.nonzero(t)[0][0]\n",
        "      #get brightness at that retpos \n",
        "      B=t[retpos]\n",
        "      #get index of that brightness in list of Brightnesses\n",
        "      b=np.where(NewBrightnesses==B)[0][0]\n",
        "      #get index of the retpos in the list of retposns\n",
        "      r=np.where(LeftRetPosns==retpos)\n",
        "      Predicts[b,r]=res_testlab[trial]\n",
        "\n",
        "  for b in range(LNewBrightnesses):\n",
        "    plt.plot(LeftRetPosns+0.05*b,Predicts[b,:]+0.02*b,label=NewBrightnesses[b],marker='o')\n",
        "    #plt.plot(LeftRetPosns,Predicts[b,:],label=NewBrightnesses[b],marker='o',lw=b/2)\n",
        "\n",
        "    plt.legend(loc=\"best\")\n",
        "    plt.xlabel('tested left retina position')\n",
        "    plt.ylabel('prediction')\n",
        "    #plt.ylim([-0.05,1.05])\n",
        "\n",
        "  \n",
        "  print('response',lab, 'trained on brightnesses', X_train[lab,(Left,Right)], 'at location',Left)\n",
        "  plt.show()\n",
        "  print()\n",
        "\n",
        "\n",
        "\n"
      ],
      "metadata": {
        "colab": {
          "base_uri": "https://localhost:8080/",
          "height": 612
        },
        "id": "-CZdNf9aOJX9",
        "outputId": "4978b334-9711-4e68-dc10-543af5874e8a"
      },
      "execution_count": 30,
      "outputs": [
        {
          "output_type": "stream",
          "name": "stdout",
          "text": [
            "response 0 trained on brightnesses [146 109] at location 20\n"
          ]
        },
        {
          "output_type": "display_data",
          "data": {
            "text/plain": [
              "<Figure size 432x288 with 1 Axes>"
            ],
            "image/png": "[encoded data removed]"
          },
          "metadata": {
            "needs_background": "light"
          }
        },
        {
          "output_type": "stream",
          "name": "stdout",
          "text": [
            "\n",
            "response 1 trained on brightnesses [109 146] at location 20\n"
          ]
        },
        {
          "output_type": "display_data",
          "data": {
            "text/plain": [
              "<Figure size 432x288 with 1 Axes>"
            ],
            "image/png": "[encoded data removed]"
          },
          "metadata": {
            "needs_background": "light"
          }
        },
        {
          "output_type": "stream",
          "name": "stdout",
          "text": [
            "\n"
          ]
        }
      ]
    }
  ]
}