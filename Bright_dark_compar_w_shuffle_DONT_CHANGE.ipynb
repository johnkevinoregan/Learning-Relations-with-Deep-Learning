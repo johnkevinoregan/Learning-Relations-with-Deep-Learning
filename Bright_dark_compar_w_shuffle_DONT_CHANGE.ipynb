{
  "nbformat": 4,
  "nbformat_minor": 0,
  "metadata": {
    "colab": {
      "provenance": [],
      "include_colab_link": true
    },
    "kernelspec": {
      "name": "python3",
      "display_name": "Python 3"
    },
    "language_info": {
      "name": "python"
    }
  },
  "cells": [
    {
      "cell_type": "markdown",
      "metadata": {
        "id": "view-in-github",
        "colab_type": "text"
      },
      "source": [
        "<a href=\"https://colab.research.google.com/github/johnkevinoregan/Learning-Relations-with-Deep-Learning/blob/main/Bright_dark_compar_w_shuffle_DONT_CHANGE.ipynb\" target=\"_parent\"><img src=\"https://colab.research.google.com/assets/colab-badge.svg\" alt=\"Open In Colab\"/></a>"
      ]
    },
    {
      "cell_type": "markdown",
      "source": [
        "# Bright vs dark comparison with generalization to different brightnesses and different retinal positions.\n",
        "\n",
        "With option to shuffle the brightness metric.\n",
        "\n",
        "\n",
        "18 Mar 2023\n",
        "\n",
        "The purpose is to show that a NN cant learn to compare two brightnesses. You teach it to say \"0\" when the left of two pixels is brighter than the right and 1 otherwise. You train using the list X_train on just two retinal positions and one pair of brightnesses. In the training, both brightnesses trained occur at each retinal locations, so the NN cant use brightness to make its judgement, and must really rely on the comparison.\n",
        "\n",
        "You then test it on a test list X_test, where the retinal positions are varied comparedd to the training set, and where the brightnesses are also varied.\n",
        "\n",
        "If you set the option WhetherToShuffle=1, then all brightnesses between 0 and 255 will be permuted randomly, thereby destroying the natural intensity metric. We expect this to destroy the ability of the NN to generalize from the training brightnesses to nearby brightnesses.  \n",
        "\n",
        "Results:\n",
        "Not as clear as I had hoped. The NN gets the decision right at the trained brightness and location. At the trained location, using nearby brightnesses there does seem to be a gradual degradation in performance, as expected. I think, but am not sure, that this goes away on shuffling the brightness metric. \n",
        "\n",
        "But for a given brightness, there ALSO seems to be a gradual degradation when you gradually change the retinal location tested. I should recheck whether this is really the case however... the graphs are a bit difficult to read. If it's true, this was not expected, since I assumed that the NN had no natural metric for retinal position. I should check whether in keras, the \"normal\" non-Conv net is really fully connected, or whether there is only local connectivity: this might explain the effect.\n",
        "\n",
        "(NB by switching what's commented in the plotting routine, you can plot the results as a function of brightness instead of as a function of retinal position.) \n",
        "\n",
        "(NB I'm not sure this whole thing is really working. Sometimes the testing doesnt give correct responses at the trained locations even though the error during training is zero.)\n",
        "\n"
      ],
      "metadata": {
        "id": "dpNBOy9U6vG1"
      }
    },
    {
      "cell_type": "markdown",
      "source": [
        "##Make training sets X_train and labels y_train"
      ],
      "metadata": {
        "id": "DEJCMNfpEqbg"
      }
    },
    {
      "cell_type": "code",
      "source": [
        "#initialize shuffler in case you want to destroy the natural brightness metric\n",
        "\n",
        "def encode(array,shuff):\n",
        "  [T,R]=np.shape(array)\n",
        "  for t in range(T):\n",
        "    for r in range(R):\n",
        "      array[t]=shuff[array[t]]\n",
        "  return(array)\n",
        "import numpy as np\n",
        "\n",
        "l=np.arange(255)\n",
        "\n",
        "#these two arrays allow the brightness scale to be randomly permuted.\n",
        "shuffler = np.random.permutation(len(l)) # returns indices to shuffle the list\n",
        "undo_shuffler = np.argsort(shuffler) # returns indices to undo the shuffle\n",
        "\n",
        "#to shuffle you do\n",
        "#encode(array,shuffler)\n",
        "#and to go back to original you do\n",
        "#encode(array,undo_shuffler)\n",
        "\n"
      ],
      "metadata": {
        "id": "kSuJvZyqFkyX"
      },
      "execution_count": 84,
      "outputs": []
    },
    {
      "cell_type": "code",
      "source": [
        "#prepare test and training sets\n",
        "\n",
        "import numpy as np\n",
        "\n",
        "#IMPORTANT !!\n",
        "WhetherToShuffle=0\n",
        "#IMPORTANT THE VALUE ABOVE DETERMINES WHETHER TO SHUFFLE THE BRIGHTNESS LEVELS RANDOMLY\n",
        "\n",
        "\n",
        "RetSize=18\n",
        "Left=int(RetSize/4)\n",
        "Right=3*Left\n",
        "TrainRepeats=3\n",
        "Deltas=3 #number of deviations from base retinal positions used in test\n",
        "\n",
        "W=2 #half the number of brightnesses in the test set\n",
        "W2=2*W\n",
        "\n",
        "Brightnesses=np.arange(-W2,W2)*16+125-8\n",
        "#print(Brightnesses)\n",
        "LBrightnesses=len(Brightnesses)\n",
        "#print('length',L)\n",
        "X_test=np.zeros((LBrightnesses*(1+Deltas),RetSize),int)\n",
        "y_test=np.zeros(LBrightnesses*(1+Deltas),int)\n",
        "res_test=np.zeros(LBrightnesses*(1+Deltas),float)\n",
        "\n",
        "X_train=np.zeros((2*TrainRepeats,RetSize),int)\n",
        "y_train=np.zeros(2*TrainRepeats,int)\n",
        "#print(X_train)\n",
        "\n",
        "#used in plot routine:\n",
        "LeftRetPosns=np.arange(Left-Deltas,Left+1)\n",
        "\n",
        "trial=0\n",
        "for DeltaPos in range(Deltas+1):\n",
        "  for trial in range(LBrightnesses):\n",
        "    T=trial+DeltaPos*LBrightnesses\n",
        "    #print(T,Left-DeltaPos)\n",
        "    X_test[T,Left-DeltaPos]=Brightnesses[trial]\n",
        "    k=LBrightnesses-trial-1\n",
        "    X_test[T,Right+DeltaPos]=Brightnesses[k]\n",
        "    if X_test[T,Left-DeltaPos]<X_test[T,Right+DeltaPos]:\n",
        "      y_test[T]=1\n",
        "print('test stimuli')\n",
        "print(X_test)\n",
        "print('test labels')\n",
        "print(y_test)\n",
        "\n",
        "trial=0\n",
        "while trial <= TrainRepeats+1:\n",
        "  X_train[trial,Left]=Brightnesses[W]\n",
        "  X_train[trial,Right]=Brightnesses[LBrightnesses-W-1]\n",
        "  if X_train[trial,Left]<X_train[trial,Right]:\n",
        "    y_train[trial]=1\n",
        "  trial += 1\n",
        "  X_train[trial,Left]=Brightnesses[LBrightnesses-W-1]\n",
        "  X_train[trial,Right]=Brightnesses[W]\n",
        "  if X_train[trial,Left]<X_train[trial,Right]:\n",
        "    y_train[trial]=1\n",
        "  trial +=1\n",
        "\n",
        "print('training stimuli')\n",
        "print(X_train)\n",
        "print('training labels')\n",
        "print(y_train)\n",
        "\n",
        "if WhetherToShuffle==1:\n",
        "  #only use this if you want to shuffle the brightness values\n",
        "  encode(X_train,shuffler)\n",
        "  print(X_train)\n",
        "  encode(X_test,shuffler)\n",
        "  print(X_test)"
      ],
      "metadata": {
        "id": "kiMlaDpwEAdp"
      },
      "execution_count": null,
      "outputs": []
    },
    {
      "cell_type": "markdown",
      "source": [
        "## Train with normal NN"
      ],
      "metadata": {
        "id": "TG23LV4t67V5"
      }
    },
    {
      "cell_type": "code",
      "source": [
        "# Build, compile and train the neural network model\n",
        "#there are two hidden layers with 64 and 32 values\n",
        "#The ReLU activation function is used in deep learning models to introduce non-linearity into the network\n",
        "#the sigmoid activation function produces a probability value between 0 and 1\n",
        "from tensorflow import keras\n",
        "import numpy as np\n",
        "#from sklearn.model_selection import train_test_split\n",
        "from keras.models import Sequential\n",
        "from keras.layers import Dense, Conv1D, MaxPooling1D, Flatten\n",
        "#from sklearn.model_selection import train_test_split\n",
        "#from tensorflow.keras.callbacks import EarlyStopping\n",
        "\n",
        "\n",
        "model = keras.models.Sequential([\n",
        "    keras.layers.Dense(64, activation=\"relu\", input_dim=len(X_train[0])),\n",
        "    keras.layers.Dense(32, activation=\"relu\"),\n",
        "    keras.layers.Dense(1, activation=\"sigmoid\")\n",
        "])\n",
        "\n",
        "# Compile the model\n",
        "model.compile(loss=\"binary_crossentropy\", optimizer=\"adam\", metrics=[\"accuracy\"])\n",
        "\n",
        "#model.fit(X_train, y_train, epochs=80, batch_size=32, validation_data=(X_test, y_test))\n",
        "model.fit(X_train, y_train, epochs=80, batch_size=32)\n",
        "\n",
        "\n"
      ],
      "metadata": {
        "id": "ioqyu3kb7Tn0"
      },
      "execution_count": null,
      "outputs": []
    },
    {
      "cell_type": "markdown",
      "source": [
        "# Test the model on the test data\n"
      ],
      "metadata": {
        "id": "kocjLFIKi26m"
      }
    },
    {
      "cell_type": "code",
      "source": [
        "\n",
        "for trial in range(len(X_test)):\n",
        "  pred=model.predict(np.array([X_test[trial]]), verbose=0)\n",
        "  res_test[trial]=pred[0][0]\n",
        "  #print(np.around(pred[0][0],1),y_test[trial],X_test[trial])\n",
        "  print(np.around(res_test[trial],2),y_test[trial],X_test[trial])\n",
        "\n",
        "print(res_test)\n"
      ],
      "metadata": {
        "colab": {
          "base_uri": "https://localhost:8080/"
        },
        "id": "WALjIVurdv1l",
        "outputId": "9a9c35da-48bc-482e-8f6e-3049e54b8b4c"
      },
      "execution_count": 90,
      "outputs": [
        {
          "output_type": "stream",
          "name": "stdout",
          "text": [
            "1.0 1 [  0   0   0   0  53   0   0   0   0   0   0   0 165   0   0   0   0   0]\n",
            "1.0 1 [  0   0   0   0  69   0   0   0   0   0   0   0 149   0   0   0   0   0]\n",
            "1.0 1 [  0   0   0   0  85   0   0   0   0   0   0   0 133   0   0   0   0   0]\n",
            "0.96 1 [  0   0   0   0 101   0   0   0   0   0   0   0 117   0   0   0   0   0]\n",
            "0.1 0 [  0   0   0   0 117   0   0   0   0   0   0   0 101   0   0   0   0   0]\n",
            "0.0 0 [  0   0   0   0 133   0   0   0   0   0   0   0  85   0   0   0   0   0]\n",
            "0.0 0 [  0   0   0   0 149   0   0   0   0   0   0   0  69   0   0   0   0   0]\n",
            "0.0 0 [  0   0   0   0 165   0   0   0   0   0   0   0  53   0   0   0   0   0]\n",
            "0.0 1 [  0   0   0  53   0   0   0   0   0   0   0   0   0 165   0   0   0   0]\n",
            "0.0 1 [  0   0   0  69   0   0   0   0   0   0   0   0   0 149   0   0   0   0]\n",
            "0.0 1 [  0   0   0  85   0   0   0   0   0   0   0   0   0 133   0   0   0   0]\n",
            "0.0 1 [  0   0   0 101   0   0   0   0   0   0   0   0   0 117   0   0   0   0]\n",
            "0.0 0 [  0   0   0 117   0   0   0   0   0   0   0   0   0 101   0   0   0   0]\n",
            "0.0 0 [  0   0   0 133   0   0   0   0   0   0   0   0   0  85   0   0   0   0]\n",
            "0.0 0 [  0   0   0 149   0   0   0   0   0   0   0   0   0  69   0   0   0   0]\n",
            "0.0 0 [  0   0   0 165   0   0   0   0   0   0   0   0   0  53   0   0   0   0]\n",
            "0.0 1 [  0   0  53   0   0   0   0   0   0   0   0   0   0   0 165   0   0   0]\n",
            "0.0 1 [  0   0  69   0   0   0   0   0   0   0   0   0   0   0 149   0   0   0]\n",
            "0.0 1 [  0   0  85   0   0   0   0   0   0   0   0   0   0   0 133   0   0   0]\n",
            "0.01 1 [  0   0 101   0   0   0   0   0   0   0   0   0   0   0 117   0   0   0]\n",
            "0.0 0 [  0   0 117   0   0   0   0   0   0   0   0   0   0   0 101   0   0   0]\n",
            "0.0 0 [  0   0 133   0   0   0   0   0   0   0   0   0   0   0  85   0   0   0]\n",
            "0.0 0 [  0   0 149   0   0   0   0   0   0   0   0   0   0   0  69   0   0   0]\n",
            "0.0 0 [  0   0 165   0   0   0   0   0   0   0   0   0   0   0  53   0   0   0]\n",
            "1.0 1 [  0  53   0   0   0   0   0   0   0   0   0   0   0   0   0 165   0   0]\n",
            "1.0 1 [  0  69   0   0   0   0   0   0   0   0   0   0   0   0   0 149   0   0]\n",
            "0.95 1 [  0  85   0   0   0   0   0   0   0   0   0   0   0   0   0 133   0   0]\n",
            "0.15 1 [  0 101   0   0   0   0   0   0   0   0   0   0   0   0   0 117   0   0]\n",
            "0.02 0 [  0 117   0   0   0   0   0   0   0   0   0   0   0   0   0 101   0   0]\n",
            "0.0 0 [  0 133   0   0   0   0   0   0   0   0   0   0   0   0   0  85   0   0]\n",
            "0.0 0 [  0 149   0   0   0   0   0   0   0   0   0   0   0   0   0  69   0   0]\n",
            "0.0 0 [  0 165   0   0   0   0   0   0   0   0   0   0   0   0   0  53   0   0]\n",
            "[9.99994040e-01 9.99943137e-01 9.99370456e-01 9.57608819e-01\n",
            " 9.61074978e-02 5.54527272e-04 2.79166966e-06 1.81709705e-08\n",
            " 1.12458118e-04 2.57639249e-06 1.14973034e-07 3.90017041e-09\n",
            " 2.63292634e-11 9.24210144e-13 1.84440191e-13 1.41569563e-13\n",
            " 3.07784881e-03 1.69715344e-03 2.19578668e-03 5.22780279e-03\n",
            " 1.46173895e-03 6.29325747e-04 1.73562512e-04 5.49300785e-06\n",
            " 9.99998927e-01 9.99641120e-01 9.52043295e-01 1.50724590e-01\n",
            " 1.57094151e-02 2.01706053e-03 1.30719409e-05 3.63868331e-08]\n"
          ]
        }
      ]
    },
    {
      "cell_type": "code",
      "source": [
        "#Plot predictions in case response=0 as a fn of Brightnesses\n",
        "#different lines are different retinal positions.\n",
        "\n",
        "if WhetherToShuffle==1:\n",
        "  encode(X_test,undo_shuffler)\n",
        "  encode(X_train,undo_shuffler)\n",
        "\n",
        "\n",
        "import matplotlib.pyplot as plt\n",
        "for lab in range(2):\n",
        "  Xlab=np.array(X_test[np.where(y_test==lab)])\n",
        "  res_testlab=np.array(res_test[np.where(y_test==lab)])\n",
        "  print(Xlab)\n",
        "  \n",
        "  for retpos in LeftRetPosns:\n",
        "    #get column of trials in Xlab corresponding to retpos\n",
        "    temp=Xlab[:,retpos]\n",
        "    #extract the nonzero ones\n",
        "    inds=np.nonzero(temp)\n",
        "    print(inds)\n",
        "    #get the brightnesses at those indices and use as x-coords\n",
        "    xs=np.array(temp[inds])\n",
        "    #and the predictions for those brightnesses as y-coords\n",
        "    ys=res_testlab[inds]\n",
        "    print(xs)\n",
        "    print(ys)\n",
        "    #plt.plot([1,2,3,4],ys,label=xs[retpos-1],marker=\"o\")\n",
        "    plt.plot(LeftRetPosns,ys,label=xs[retpos-1],marker=\"o\")\n",
        "    #plt.plot(xs,ys,label=retpos,marker=\"o\")\n",
        "  print('response',lab, 'trained on brightnesses', X_train[lab,(4,12)], 'at location 4')\n",
        "  plt.legend(loc=\"best\")\n",
        "  plt.show()\n",
        "\n"
      ],
      "metadata": {
        "colab": {
          "base_uri": "https://localhost:8080/",
          "height": 1000
        },
        "id": "kg8NgBNUm78D",
        "outputId": "07cf2e10-7ead-41d0-b2d2-7c7e2637b5e7"
      },
      "execution_count": 91,
      "outputs": [
        {
          "output_type": "stream",
          "name": "stdout",
          "text": [
            "[[  0   0   0   0 117   0   0   0   0   0   0   0 101   0   0   0   0   0]\n",
            " [  0   0   0   0 133   0   0   0   0   0   0   0  85   0   0   0   0   0]\n",
            " [  0   0   0   0 149   0   0   0   0   0   0   0  69   0   0   0   0   0]\n",
            " [  0   0   0   0 165   0   0   0   0   0   0   0  53   0   0   0   0   0]\n",
            " [  0   0   0 117   0   0   0   0   0   0   0   0   0 101   0   0   0   0]\n",
            " [  0   0   0 133   0   0   0   0   0   0   0   0   0  85   0   0   0   0]\n",
            " [  0   0   0 149   0   0   0   0   0   0   0   0   0  69   0   0   0   0]\n",
            " [  0   0   0 165   0   0   0   0   0   0   0   0   0  53   0   0   0   0]\n",
            " [  0   0 117   0   0   0   0   0   0   0   0   0   0   0 101   0   0   0]\n",
            " [  0   0 133   0   0   0   0   0   0   0   0   0   0   0  85   0   0   0]\n",
            " [  0   0 149   0   0   0   0   0   0   0   0   0   0   0  69   0   0   0]\n",
            " [  0   0 165   0   0   0   0   0   0   0   0   0   0   0  53   0   0   0]\n",
            " [  0 117   0   0   0   0   0   0   0   0   0   0   0   0   0 101   0   0]\n",
            " [  0 133   0   0   0   0   0   0   0   0   0   0   0   0   0  85   0   0]\n",
            " [  0 149   0   0   0   0   0   0   0   0   0   0   0   0   0  69   0   0]\n",
            " [  0 165   0   0   0   0   0   0   0   0   0   0   0   0   0  53   0   0]]\n",
            "(array([12, 13, 14, 15]),)\n",
            "[117 133 149 165]\n",
            "[1.57094151e-02 2.01706053e-03 1.30719409e-05 3.63868331e-08]\n",
            "(array([ 8,  9, 10, 11]),)\n",
            "[117 133 149 165]\n",
            "[1.46173895e-03 6.29325747e-04 1.73562512e-04 5.49300785e-06]\n",
            "(array([4, 5, 6, 7]),)\n",
            "[117 133 149 165]\n",
            "[2.63292634e-11 9.24210144e-13 1.84440191e-13 1.41569563e-13]\n",
            "(array([0, 1, 2, 3]),)\n",
            "[117 133 149 165]\n",
            "[9.61074978e-02 5.54527272e-04 2.79166966e-06 1.81709705e-08]\n",
            "response 0 trained on brightnesses [ 85 133] at location 4\n"
          ]
        },
        {
          "output_type": "display_data",
          "data": {
            "text/plain": [
              "<Figure size 432x288 with 1 Axes>"
            ],
            "image/png": "[encoded data removed]"
          },
          "metadata": {
            "needs_background": "light"
          }
        },
        {
          "output_type": "stream",
          "name": "stdout",
          "text": [
            "[[  0   0   0   0  53   0   0   0   0   0   0   0 165   0   0   0   0   0]\n",
            " [  0   0   0   0  69   0   0   0   0   0   0   0 149   0   0   0   0   0]\n",
            " [  0   0   0   0  85   0   0   0   0   0   0   0 133   0   0   0   0   0]\n",
            " [  0   0   0   0 101   0   0   0   0   0   0   0 117   0   0   0   0   0]\n",
            " [  0   0   0  53   0   0   0   0   0   0   0   0   0 165   0   0   0   0]\n",
            " [  0   0   0  69   0   0   0   0   0   0   0   0   0 149   0   0   0   0]\n",
            " [  0   0   0  85   0   0   0   0   0   0   0   0   0 133   0   0   0   0]\n",
            " [  0   0   0 101   0   0   0   0   0   0   0   0   0 117   0   0   0   0]\n",
            " [  0   0  53   0   0   0   0   0   0   0   0   0   0   0 165   0   0   0]\n",
            " [  0   0  69   0   0   0   0   0   0   0   0   0   0   0 149   0   0   0]\n",
            " [  0   0  85   0   0   0   0   0   0   0   0   0   0   0 133   0   0   0]\n",
            " [  0   0 101   0   0   0   0   0   0   0   0   0   0   0 117   0   0   0]\n",
            " [  0  53   0   0   0   0   0   0   0   0   0   0   0   0   0 165   0   0]\n",
            " [  0  69   0   0   0   0   0   0   0   0   0   0   0   0   0 149   0   0]\n",
            " [  0  85   0   0   0   0   0   0   0   0   0   0   0   0   0 133   0   0]\n",
            " [  0 101   0   0   0   0   0   0   0   0   0   0   0   0   0 117   0   0]]\n",
            "(array([12, 13, 14, 15]),)\n",
            "[ 53  69  85 101]\n",
            "[0.99999893 0.99964112 0.95204329 0.15072459]\n",
            "(array([ 8,  9, 10, 11]),)\n",
            "[ 53  69  85 101]\n",
            "[0.00307785 0.00169715 0.00219579 0.0052278 ]\n",
            "(array([4, 5, 6, 7]),)\n",
            "[ 53  69  85 101]\n",
            "[1.12458118e-04 2.57639249e-06 1.14973034e-07 3.90017041e-09]\n",
            "(array([0, 1, 2, 3]),)\n",
            "[ 53  69  85 101]\n",
            "[0.99999404 0.99994314 0.99937046 0.95760882]\n",
            "response 1 trained on brightnesses [133  85] at location 4\n"
          ]
        },
        {
          "output_type": "display_data",
          "data": {
            "text/plain": [
              "<Figure size 432x288 with 1 Axes>"
            ],
            "image/png": "[encoded data removed]"
          },
          "metadata": {
            "needs_background": "light"
          }
        }
      ]
    },
    {
      "cell_type": "code",
      "source": [],
      "metadata": {
        "id": "3ipO08sIs79z"
      },
      "execution_count": null,
      "outputs": []
    },
    {
      "cell_type": "markdown",
      "source": [
        "Comment on results:\n"
      ],
      "metadata": {
        "id": "QaKQ2E2_mm0O"
      }
    },
    {
      "cell_type": "markdown",
      "source": [
        "## Train with CNN"
      ],
      "metadata": {
        "id": "stPC6iIy3Z5S"
      }
    },
    {
      "cell_type": "code",
      "source": [
        "\n",
        "\n",
        "if WhetherToShuffle==1:\n",
        "  #only use this if you want to shuffle the brightness values\n",
        "  encode(X_train,shuffler)\n",
        "  print(X_train)\n",
        "  encode(X_test,shuffler)\n",
        "  print(X_test)\n",
        "\n",
        "model = Sequential()\n",
        "model.add(Conv1D(filters=32, kernel_size=4, activation='relu', input_shape=(len(X_train[0]), 1)))\n",
        "model.add(MaxPooling1D(pool_size=4))\n",
        "#model.add(Conv1D(filters=64, kernel_size=5, activation='relu'))\n",
        "#model.add(MaxPooling1D(pool_size=2))\n",
        "model.add(Flatten())\n",
        "model.add(Dense(64, activation='relu'))\n",
        "model.add(Dense(1, activation='sigmoid'))\n",
        "\n",
        "# Compile the model\n",
        "model.compile(loss='binary_crossentropy', optimizer='adam', metrics=['accuracy'])\n",
        "\n",
        "# Train the model\n",
        "model.fit(X_train, y_train, epochs=40, batch_size=32, verbose=1)\n",
        "\n",
        "#loss, accuracy = model.evaluate(X_test, y_test, verbose=1)\n",
        "#print(\"Accuracy:\", accuracy)"
      ],
      "metadata": {
        "id": "Rb8O58aCqQ4O",
        "colab": {
          "base_uri": "https://localhost:8080/"
        },
        "outputId": "feacf8a1-70df-4fa7-81bb-1068bbe34226"
      },
      "execution_count": null,
      "outputs": [
        {
          "output_type": "stream",
          "name": "stdout",
          "text": [
            "Epoch 1/40\n",
            "1/1 [==============================] - 1s 858ms/step - loss: 3.8117 - accuracy: 0.5000\n",
            "Epoch 2/40\n",
            "1/1 [==============================] - 0s 10ms/step - loss: 0.8611 - accuracy: 0.5000\n",
            "Epoch 3/40\n",
            "1/1 [==============================] - 0s 11ms/step - loss: 0.0311 - accuracy: 1.0000\n",
            "Epoch 4/40\n",
            "1/1 [==============================] - 0s 10ms/step - loss: 0.3575 - accuracy: 0.5000\n",
            "Epoch 5/40\n",
            "1/1 [==============================] - 0s 9ms/step - loss: 0.8174 - accuracy: 0.5000\n",
            "Epoch 6/40\n",
            "1/1 [==============================] - 0s 9ms/step - loss: 0.7302 - accuracy: 0.5000\n",
            "Epoch 7/40\n",
            "1/1 [==============================] - 0s 10ms/step - loss: 0.3543 - accuracy: 0.5000\n",
            "Epoch 8/40\n",
            "1/1 [==============================] - 0s 10ms/step - loss: 0.0943 - accuracy: 1.0000\n",
            "Epoch 9/40\n",
            "1/1 [==============================] - 0s 9ms/step - loss: 0.0203 - accuracy: 1.0000\n",
            "Epoch 10/40\n",
            "1/1 [==============================] - 0s 10ms/step - loss: 0.0051 - accuracy: 1.0000\n",
            "Epoch 11/40\n",
            "1/1 [==============================] - 0s 9ms/step - loss: 0.0025 - accuracy: 1.0000\n",
            "Epoch 12/40\n",
            "1/1 [==============================] - 0s 10ms/step - loss: 0.0036 - accuracy: 1.0000\n",
            "Epoch 13/40\n",
            "1/1 [==============================] - 0s 11ms/step - loss: 0.0080 - accuracy: 1.0000\n",
            "Epoch 14/40\n",
            "1/1 [==============================] - 0s 10ms/step - loss: 0.0170 - accuracy: 1.0000\n",
            "Epoch 15/40\n",
            "1/1 [==============================] - 0s 13ms/step - loss: 0.0321 - accuracy: 1.0000\n",
            "Epoch 16/40\n",
            "1/1 [==============================] - 0s 11ms/step - loss: 0.0534 - accuracy: 1.0000\n",
            "Epoch 17/40\n",
            "1/1 [==============================] - 0s 11ms/step - loss: 0.0732 - accuracy: 1.0000\n",
            "Epoch 18/40\n",
            "1/1 [==============================] - 0s 10ms/step - loss: 0.0801 - accuracy: 1.0000\n",
            "Epoch 19/40\n",
            "1/1 [==============================] - 0s 11ms/step - loss: 0.0699 - accuracy: 1.0000\n",
            "Epoch 20/40\n",
            "1/1 [==============================] - 0s 10ms/step - loss: 0.0507 - accuracy: 1.0000\n",
            "Epoch 21/40\n",
            "1/1 [==============================] - 0s 14ms/step - loss: 0.0325 - accuracy: 1.0000\n",
            "Epoch 22/40\n",
            "1/1 [==============================] - 0s 13ms/step - loss: 0.0195 - accuracy: 1.0000\n",
            "Epoch 23/40\n",
            "1/1 [==============================] - 0s 13ms/step - loss: 0.0116 - accuracy: 1.0000\n",
            "Epoch 24/40\n",
            "1/1 [==============================] - 0s 11ms/step - loss: 0.0069 - accuracy: 1.0000\n",
            "Epoch 25/40\n",
            "1/1 [==============================] - 0s 9ms/step - loss: 0.0042 - accuracy: 1.0000\n",
            "Epoch 26/40\n",
            "1/1 [==============================] - 0s 12ms/step - loss: 0.0027 - accuracy: 1.0000\n",
            "Epoch 27/40\n",
            "1/1 [==============================] - 0s 9ms/step - loss: 0.0018 - accuracy: 1.0000\n",
            "Epoch 28/40\n",
            "1/1 [==============================] - 0s 10ms/step - loss: 0.0012 - accuracy: 1.0000\n",
            "Epoch 29/40\n",
            "1/1 [==============================] - 0s 10ms/step - loss: 8.6455e-04 - accuracy: 1.0000\n",
            "Epoch 30/40\n",
            "1/1 [==============================] - 0s 12ms/step - loss: 6.5598e-04 - accuracy: 1.0000\n",
            "Epoch 31/40\n",
            "1/1 [==============================] - 0s 11ms/step - loss: 5.2652e-04 - accuracy: 1.0000\n",
            "Epoch 32/40\n",
            "1/1 [==============================] - 0s 14ms/step - loss: 4.4737e-04 - accuracy: 1.0000\n",
            "Epoch 33/40\n",
            "1/1 [==============================] - 0s 11ms/step - loss: 4.0110e-04 - accuracy: 1.0000\n",
            "Epoch 34/40\n",
            "1/1 [==============================] - 0s 9ms/step - loss: 3.7684e-04 - accuracy: 1.0000\n",
            "Epoch 35/40\n",
            "1/1 [==============================] - 0s 8ms/step - loss: 3.6762e-04 - accuracy: 1.0000\n",
            "Epoch 36/40\n",
            "1/1 [==============================] - 0s 8ms/step - loss: 3.6903e-04 - accuracy: 1.0000\n",
            "Epoch 37/40\n",
            "1/1 [==============================] - 0s 9ms/step - loss: 3.7852e-04 - accuracy: 1.0000\n",
            "Epoch 38/40\n",
            "1/1 [==============================] - 0s 9ms/step - loss: 3.9310e-04 - accuracy: 1.0000\n",
            "Epoch 39/40\n",
            "1/1 [==============================] - 0s 8ms/step - loss: 4.1109e-04 - accuracy: 1.0000\n",
            "Epoch 40/40\n",
            "1/1 [==============================] - 0s 9ms/step - loss: 4.3121e-04 - accuracy: 1.0000\n"
          ]
        },
        {
          "output_type": "execute_result",
          "data": {
            "text/plain": [
              "<keras.callbacks.History at 0x7f4de26abf10>"
            ]
          },
          "metadata": {},
          "execution_count": 56
        }
      ]
    },
    {
      "cell_type": "markdown",
      "source": [
        "###Test CNN \n"
      ],
      "metadata": {
        "id": "AfbygbGhGyHp"
      }
    },
    {
      "cell_type": "code",
      "source": [
        "\n",
        "for trial in range(len(X_test)):\n",
        "  pred=model.predict(np.array([X_test[trial]]), verbose=0)\n",
        "  res_test[trial]=pred[0][0]\n",
        "  #print(np.around(pred[0][0],1),y_test[trial],X_test[trial])\n",
        "  print(np.around(res_test[trial],1),y_test[trial],X_test[trial])\n",
        "\n",
        "print(res_test)\n"
      ],
      "metadata": {
        "colab": {
          "base_uri": "https://localhost:8080/"
        },
        "id": "JqozJP4KUx8p",
        "outputId": "cb6e6974-c682-4115-8757-a5f22cb49f1e"
      },
      "execution_count": null,
      "outputs": [
        {
          "output_type": "stream",
          "name": "stdout",
          "text": [
            "1.0 1 [  0   0   0   0  53   0   0   0   0   0   0   0 165   0   0   0   0   0]\n",
            "1.0 1 [  0   0   0   0  69   0   0   0   0   0   0   0 149   0   0   0   0   0]\n",
            "1.0 1 [  0   0   0   0  85   0   0   0   0   0   0   0 133   0   0   0   0   0]\n",
            "0.8 1 [  0   0   0   0 101   0   0   0   0   0   0   0 117   0   0   0   0   0]\n",
            "0.0 0 [  0   0   0   0 117   0   0   0   0   0   0   0 101   0   0   0   0   0]\n",
            "0.0 0 [  0   0   0   0 133   0   0   0   0   0   0   0  85   0   0   0   0   0]\n",
            "0.0 0 [  0   0   0   0 149   0   0   0   0   0   0   0  69   0   0   0   0   0]\n",
            "0.0 0 [  0   0   0   0 165   0   0   0   0   0   0   0  53   0   0   0   0   0]\n",
            "1.0 1 [  0   0   0  53   0   0   0   0   0   0   0   0   0 165   0   0   0   0]\n",
            "1.0 1 [  0   0   0  69   0   0   0   0   0   0   0   0   0 149   0   0   0   0]\n",
            "1.0 1 [  0   0   0  85   0   0   0   0   0   0   0   0   0 133   0   0   0   0]\n",
            "0.9 1 [  0   0   0 101   0   0   0   0   0   0   0   0   0 117   0   0   0   0]\n",
            "0.4 0 [  0   0   0 117   0   0   0   0   0   0   0   0   0 101   0   0   0   0]\n",
            "0.1 0 [  0   0   0 133   0   0   0   0   0   0   0   0   0  85   0   0   0   0]\n",
            "0.0 0 [  0   0   0 149   0   0   0   0   0   0   0   0   0  69   0   0   0   0]\n",
            "0.0 0 [  0   0   0 165   0   0   0   0   0   0   0   0   0  53   0   0   0   0]\n",
            "0.0 1 [  0   0  53   0   0   0   0   0   0   0   0   0   0   0 165   0   0   0]\n",
            "0.0 1 [  0   0  69   0   0   0   0   0   0   0   0   0   0   0 149   0   0   0]\n",
            "0.0 1 [  0   0  85   0   0   0   0   0   0   0   0   0   0   0 133   0   0   0]\n",
            "0.0 1 [  0   0 101   0   0   0   0   0   0   0   0   0   0   0 117   0   0   0]\n",
            "0.0 0 [  0   0 117   0   0   0   0   0   0   0   0   0   0   0 101   0   0   0]\n",
            "0.0 0 [  0   0 133   0   0   0   0   0   0   0   0   0   0   0  85   0   0   0]\n",
            "0.0 0 [  0   0 149   0   0   0   0   0   0   0   0   0   0   0  69   0   0   0]\n",
            "0.0 0 [  0   0 165   0   0   0   0   0   0   0   0   0   0   0  53   0   0   0]\n",
            "0.1 1 [  0  53   0   0   0   0   0   0   0   0   0   0   0   0   0 165   0   0]\n",
            "0.0 1 [  0  69   0   0   0   0   0   0   0   0   0   0   0   0   0 149   0   0]\n",
            "0.0 1 [  0  85   0   0   0   0   0   0   0   0   0   0   0   0   0 133   0   0]\n",
            "0.0 1 [  0 101   0   0   0   0   0   0   0   0   0   0   0   0   0 117   0   0]\n",
            "0.0 0 [  0 117   0   0   0   0   0   0   0   0   0   0   0   0   0 101   0   0]\n",
            "0.0 0 [  0 133   0   0   0   0   0   0   0   0   0   0   0   0   0  85   0   0]\n",
            "0.0 0 [  0 149   0   0   0   0   0   0   0   0   0   0   0   0   0  69   0   0]\n",
            "0.0 0 [  0 165   0   0   0   0   0   0   0   0   0   0   0   0   0  53   0   0]\n",
            "[1.00000000e+00 9.99996781e-01 9.99212027e-01 8.48397732e-01\n",
            " 2.40856595e-02 1.16697134e-04 7.58208159e-07 7.49378160e-09\n",
            " 9.99945521e-01 9.99322712e-01 9.92984176e-01 9.00221109e-01\n",
            " 3.68505985e-01 9.30937231e-02 8.88361037e-03 6.19214785e-04\n",
            " 8.82409886e-03 4.43348568e-03 2.63509038e-03 1.25300977e-03\n",
            " 7.17420713e-04 2.76976090e-04 1.40109158e-04 8.43174494e-05\n",
            " 9.19190049e-02 4.83737327e-02 2.48919036e-02 1.26571646e-02\n",
            " 6.39650784e-03 3.22248088e-03 1.62087835e-03 8.14636005e-04]\n"
          ]
        }
      ]
    },
    {
      "cell_type": "code",
      "source": [
        "#Plot predictions in case response=0 as a fn of Brightnesses\n",
        "#different lines are different retinal positions.\n",
        "\n",
        "if WhetherToShuffle==1:\n",
        "  encode(X_test,undo_shuffler)\n",
        "  encode(X_train,undo_shuffler)\n",
        "\n",
        "\n",
        "import matplotlib.pyplot as plt\n",
        "for lab in range(2):\n",
        "  Xlab=np.array(X_test[np.where(y_test==lab)])\n",
        "  res_testlab=np.array(res_test[np.where(y_test==lab)])\n",
        "  print(Xlab)\n",
        "  \n",
        "  for retpos in LeftRetPosns:\n",
        "    #get column of trials in Xlab corresponding to retpos\n",
        "    temp=Xlab[:,retpos]\n",
        "    #extract the nonzero ones\n",
        "    inds=np.nonzero(temp)\n",
        "    print(inds)\n",
        "    #get the brightnesses at those indices and use as x-coords\n",
        "    xs=np.array(temp[inds])\n",
        "    #and the predictions for those brightnesses as y-coords\n",
        "    ys=res_testlab[inds]\n",
        "    print(xs)\n",
        "    print(ys)\n",
        "    plt.plot(LeftRetPosns,ys,label=xs[retpos-1],marker=\"o\")\n",
        "    #plt.plot(xs,ys,label=retpos,marker=\"o\")\n",
        "  print('response',lab, 'trained on brightnesses', X_train[lab,(4,12)], 'at location 4')\n",
        "  plt.legend(loc=\"best\")\n",
        "  plt.show()\n",
        "\n"
      ],
      "metadata": {
        "id": "u72BYCUinqhU"
      },
      "execution_count": null,
      "outputs": []
    },
    {
      "cell_type": "markdown",
      "source": [
        "Comment on results:\n"
      ],
      "metadata": {
        "id": "OyZvgc1qOK4j"
      }
    },
    {
      "cell_type": "code",
      "source": [],
      "metadata": {
        "id": "3kV-UL-xiQZG"
      },
      "execution_count": null,
      "outputs": []
    },
    {
      "cell_type": "markdown",
      "source": [
        "# EXTRA OLD STUFF BELOW"
      ],
      "metadata": {
        "id": "GQH46BVWiRI9"
      }
    },
    {
      "cell_type": "code",
      "source": [
        "#Plot the prediction for each Brightness level\n",
        "#NB I should really separate them depending on whether the correct answer is 0 or 1, but I havent done it.\n",
        "#Also I should separate out according to retinal position..\n",
        "import matplotlib.pyplot as plt\n",
        "x_vals=np.zeros(len(X_test),int)\n",
        "for trial in range(len(X_test)):\n",
        "  x=np.where(X_test[trial]>0)[0][0]\n",
        "  x_vals[trial]=X_test[trial][x]\n",
        "print(x_vals)\n",
        "print(np.around(res_test,2))\n",
        "plt.scatter(x_vals,res_test)"
      ],
      "metadata": {
        "colab": {
          "base_uri": "https://localhost:8080/",
          "height": 408
        },
        "id": "0DKN_c14UuD1",
        "outputId": "9aaff701-f365-4aff-cebc-51bdc10620ba"
      },
      "execution_count": null,
      "outputs": [
        {
          "output_type": "stream",
          "name": "stdout",
          "text": [
            "[ 21  37  53  69  85 101 117 133 149 165 181 197 213  21  37  53  69  85\n",
            " 101 117 133 149 165 181 197 213  21  37  53  69  85 101 117 133 149 165\n",
            " 181 197 213  21  37  53  69  85 101 117 133 149 165 181 197 213]\n",
            "[1.   1.   1.   1.   1.   1.   1.   0.44 0.   0.   0.   0.   0.   1.\n",
            " 1.   1.   1.   1.   1.   1.   0.97 0.55 0.04 0.   0.   0.   1.   1.\n",
            " 1.   1.   1.   1.   1.   1.   0.98 0.86 0.58 0.27 0.12 0.41 0.33 0.27\n",
            " 0.21 0.16 0.12 0.09 0.07 0.05 0.04 0.03 0.02 0.02]\n"
          ]
        },
        {
          "output_type": "execute_result",
          "data": {
            "text/plain": [
              "<matplotlib.collections.PathCollection at 0x7fd811463d00>"
            ]
          },
          "metadata": {},
          "execution_count": 84
        },
        {
          "output_type": "display_data",
          "data": {
            "text/plain": [
              "<Figure size 432x288 with 1 Axes>"
            ],
            "image/png": "[encoded data removed]"
          },
          "metadata": {
            "needs_background": "light"
          }
        }
      ]
    },
    {
      "cell_type": "code",
      "source": [
        "#plotting brightnesses on x-axis and color as retinal pos\n",
        "import matplotlib.pyplot as plt\n",
        "#make new X_test array with just cases where label==lab\n",
        "#print('locs',np.where(y_test==lab))\n",
        "for lab in range(2):\n",
        "  X_0=np.array(X_test[np.where(y_test==lab)])\n",
        "  #print(X_0)\n",
        "  res_test0=res_test[np.where(y_test==lab)]\n",
        "  #print(res_test0)\n",
        "  xs=np.zeros(len(X_0), int)\n",
        "  ys=np.zeros(len(X_0), float)\n",
        "  cols=xs.copy()\n",
        "\n",
        "  for trial in range(len(X_0)):\n",
        "    Pos=(np.where(X_0[trial]>0))[0][0]\n",
        "    xs[trial]=X_0[trial,Pos]\n",
        "    ys[trial]=res_test0[trial]\n",
        "    #print(trial, Pos)\n",
        "    cols[trial]=Pos\n",
        "    #cols[trial]=np.where(Brightnesses==X_0[trial,Pos])[0]\n",
        "    #print(xs[trial],ys[trial],cols[trial])\n",
        "  print(xs)\n",
        "  print(np.around(ys,2))\n",
        "  print(cols)\n",
        "\n",
        "\n",
        "  plt.scatter(xs,ys,c=cols)\n",
        "  plt.show()"
      ],
      "metadata": {
        "id": "-qSS3-VKgjP9"
      },
      "execution_count": null,
      "outputs": []
    },
    {
      "cell_type": "code",
      "source": [
        "\n",
        "if WhetherToShuffle==1:\n",
        "  #unshuffle now if you previously shuffled\n",
        "  encode(X_test,undo_shuffler)\n",
        "  print(X_test)\n",
        "\n",
        "#plotting retinal pos as x-axis and brightness as color\n",
        "import matplotlib.pyplot as plt\n",
        "#make new X_test array with just cases where label==lab\n",
        "#print('locs',np.where(y_test==lab))\n",
        "for lab in range(2):\n",
        "  X_0=np.array(X_test[np.where(y_test==lab)])\n",
        "  #print(X_0)\n",
        "  res_test0=res_test[np.where(y_test==lab)]\n",
        "  #print(res_test0)\n",
        "  xs=np.zeros(len(X_0), int)\n",
        "  ys=np.zeros(len(X_0), float)\n",
        "  cols=xs.copy()\n",
        "\n",
        "  for trial in range(len(X_0)):\n",
        "    Pos=(np.where(X_0[trial]>0))[0][0]\n",
        "    xs[trial]=Pos\n",
        "    ys[trial]=res_test0[trial]\n",
        "    #print(trial, Pos)\n",
        "    cols[trial]=X_0[trial,Pos]\n",
        "    #cols[trial]=np.where(Brightnesses==X_0[trial,Pos])[0]\n",
        "    #print(xs[trial],ys[trial],cols[trial])\n",
        "  print(xs,ys,cols)\n",
        "\n",
        "\n",
        "  plt.scatter(xs,ys,c=cols)\n",
        "  plt.show()"
      ],
      "metadata": {
        "colab": {
          "base_uri": "https://localhost:8080/",
          "height": 676
        },
        "id": "9uzWS2YQ1toe",
        "outputId": "ee5af3b5-fa1c-41ba-b45c-221c275486aa"
      },
      "execution_count": null,
      "outputs": [
        {
          "output_type": "stream",
          "name": "stdout",
          "text": [
            "[4 4 4 4 3 3 3 3 2 2 2 2 1 1 1 1] [1.35788438e-03 1.58618808e-01 2.81287008e-04 9.00020957e-01\n",
            " 1.00000000e+00 9.99997735e-01 1.99722573e-02 1.00000000e+00\n",
            " 3.71716852e-10 1.05307457e-07 1.20874483e-03 1.72568058e-12\n",
            " 2.03454911e-04 3.94408475e-04 1.19937537e-02 6.46831188e-03] [117 133 149 165 117 133 149 165 117 133 149 165 117 133 149 165]\n"
          ]
        },
        {
          "output_type": "display_data",
          "data": {
            "text/plain": [
              "<Figure size 432x288 with 1 Axes>"
            ],
            "image/png": "[encoded data removed]"
          },
          "metadata": {
            "needs_background": "light"
          }
        },
        {
          "output_type": "stream",
          "name": "stdout",
          "text": [
            "[4 4 4 4 3 3 3 3 2 2 2 2 1 1 1 1] [1.12211652e-01 8.76822472e-02 8.58184636e-01 9.99304473e-01\n",
            " 1.00000000e+00 3.44770178e-02 9.99989450e-01 9.99981403e-01\n",
            " 4.94652496e-13 3.92273813e-03 3.87841908e-07 1.55491918e-07\n",
            " 5.43226581e-03 7.11521483e-04 2.70219112e-04 3.63955070e-04] [ 53  69  85 101  53  69  85 101  53  69  85 101  53  69  85 101]\n"
          ]
        },
        {
          "output_type": "display_data",
          "data": {
            "text/plain": [
              "<Figure size 432x288 with 1 Axes>"
            ],
            "image/png": "[encoded data removed]"
          },
          "metadata": {
            "needs_background": "light"
          }
        }
      ]
    }
  ]
}