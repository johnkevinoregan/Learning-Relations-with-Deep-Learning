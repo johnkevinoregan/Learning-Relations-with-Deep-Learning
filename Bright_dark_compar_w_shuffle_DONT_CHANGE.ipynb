{
  "nbformat": 4,
  "nbformat_minor": 0,
  "metadata": {
    "colab": {
      "provenance": [],
      "include_colab_link": true
    },
    "kernelspec": {
      "name": "python3",
      "display_name": "Python 3"
    },
    "language_info": {
      "name": "python"
    }
  },
  "cells": [
    {
      "cell_type": "markdown",
      "metadata": {
        "id": "view-in-github",
        "colab_type": "text"
      },
      "source": [
        "<a href=\"https://colab.research.google.com/github/johnkevinoregan/Learning-Relations-with-Deep-Learning/blob/main/Bright_dark_compar_w_shuffle_DONT_CHANGE.ipynb\" target=\"_parent\"><img src=\"https://colab.research.google.com/assets/colab-badge.svg\" alt=\"Open In Colab\"/></a>"
      ]
    },
    {
      "cell_type": "markdown",
      "source": [
        "\n",
        "# Bright vs dark comparison with generalization to different brightnesses and different retinal positions.\n",
        "\n",
        "With option to shuffle the brightness metric.\n",
        "\n",
        "\n",
        "19 Mar 2023\n",
        "\n",
        "The purpose is to show that a NN cant learn to compare two brightnesses. You teach it to say \"0\" when the left of two pixels is brighter than the right and 1 otherwise. You train using the list X_train on just two retinal positions and one pair of brightnesses. In the training, both brightnesses trained occur at each retinal locations, so the NN cant use brightness to make its judgement, and must really rely on the comparison.\n",
        "\n",
        "You then test it on a test list X_test, where the retinal positions are varied comparedd to the training set, and where the brightnesses are also varied.\n",
        "\n",
        "If you set the option WhetherToShuffle=1, then all brightnesses between 0 and 255 will be permuted randomly, thereby destroying the natural intensity metric. We expect this to destroy the ability of the NN to generalize from the training brightnesses to nearby brightnesses.  \n",
        "\n",
        "Results:\n",
        "I'm a bit bothered by the variability of the results. The parameters I've used for the normal NN and CNN might not be ideal. Sometimes in the training you get immediate convergence to accuracy=1 and sometimes not. Even if accuracy =1, it seems that in the test set, the results for the training values may not be accurate! Have I not correctly understood what \"accuracy=1\" means?\n",
        "\n",
        "But sometimes i can get results that are consistent with my hypotheses: For these:\n",
        "\n",
        "### for normal NN: \n",
        "As seen from the smoothness of the plots as a fn of brightness, results for brightnesses near the training values resemble the training value results but get worse as brightnesses deviate from training brightness.\n",
        "\n",
        "this is not so in the plots as a fn of retinal position. These are much more bumpy, showing that there is no natural metric along the retina.\n",
        "\n",
        "But sometimes the results are not so clear.\n",
        "\n",
        "### for CNN\n",
        "Not so clear that the results generalize better over several retinal positions. But maybe I've misunderstood how to parameterize the CNN. I've put the number of filters=32... is that reasonable? I assume this number is the number of possible convolutions. I assume that the number of neurons in the input layer is equal to the retinal size? "
      ],
      "metadata": {
        "id": "dpNBOy9U6vG1"
      }
    },
    {
      "cell_type": "markdown",
      "source": [
        "##Make training sets X_train and labels y_train"
      ],
      "metadata": {
        "id": "DEJCMNfpEqbg"
      }
    },
    {
      "cell_type": "code",
      "source": [
        "#initialize shuffler in case you want to destroy the natural brightness metric\n",
        "\n",
        "def encode(array,shuff):\n",
        "  [T,R]=np.shape(array)\n",
        "  for t in range(T):\n",
        "    for r in range(R):\n",
        "      array[t]=shuff[array[t]]\n",
        "  return(array)\n",
        "import numpy as np\n",
        "\n",
        "l=np.arange(255)\n",
        "\n",
        "#these two arrays allow the brightness scale to be randomly permuted.\n",
        "shuffler = np.random.permutation(len(l)) # returns indices to shuffle the list\n",
        "undo_shuffler = np.argsort(shuffler) # returns indices to undo the shuffle\n",
        "\n",
        "#to shuffle you do\n",
        "#encode(array,shuffler)\n",
        "#and to go back to original you do\n",
        "#encode(array,undo_shuffler)\n",
        "\n"
      ],
      "metadata": {
        "id": "kSuJvZyqFkyX"
      },
      "execution_count": 87,
      "outputs": []
    },
    {
      "cell_type": "code",
      "source": [
        "#prepare test and training sets\n",
        "\n",
        "import numpy as np\n",
        "\n",
        "#IMPORTANT !!\n",
        "WhetherToShuffle=0\n",
        "#IMPORTANT THE VALUE ABOVE DETERMINES WHETHER TO SHUFFLE THE BRIGHTNESS LEVELS RANDOMLY\n",
        "\n",
        "\n",
        "RetSize=40\n",
        "Left=int(RetSize/4)\n",
        "Right=3*Left\n",
        "TrainRepeats=3\n",
        "Deltas=4 #number of deviations from base retinal positions used in test\n",
        "\n",
        "W=3 #half the number of brightnesses in the test set\n",
        "#the choice of the two training brightnesses will be the middle of the set (I think)\n",
        "W2=2*W\n",
        "#Brightnesses=np.arange(-W2,W2)*16+125-8 #this was a kludge. \n",
        "\n",
        "Brightnesses=(np.rint(np.linspace(0,255,W2+2))).astype(int)[1:-1] #it took me several hours to find this trick!\n",
        "\n",
        "#print(Brightnesses)\n",
        "LBrightnesses=len(Brightnesses)\n",
        "#print('length',L)\n",
        "X_test=np.zeros((LBrightnesses*(1+Deltas),RetSize),int)\n",
        "y_test=np.zeros(LBrightnesses*(1+Deltas),int)\n",
        "res_test=np.zeros(LBrightnesses*(1+Deltas),float)\n",
        "\n",
        "X_train=np.zeros((2*TrainRepeats,RetSize),int)\n",
        "y_train=np.zeros(2*TrainRepeats,int)\n",
        "#print(X_train)\n",
        "\n",
        "#used in plot routine:\n",
        "LeftRetPosns=np.arange(Left-Deltas,Left+1)\n",
        "\n",
        "trial=0\n",
        "for DeltaPos in range(Deltas+1):\n",
        "  for trial in range(LBrightnesses):\n",
        "    T=trial+DeltaPos*LBrightnesses\n",
        "    #print(T,Left-DeltaPos)\n",
        "    X_test[T,Left-DeltaPos]=Brightnesses[trial]\n",
        "    k=LBrightnesses-trial-1\n",
        "    X_test[T,Right+DeltaPos]=Brightnesses[k]\n",
        "    if X_test[T,Left-DeltaPos]<X_test[T,Right+DeltaPos]:\n",
        "      y_test[T]=1\n",
        "print('test stimuli')\n",
        "print(X_test)\n",
        "print('test labels')\n",
        "print(y_test)\n",
        "\n",
        "trial=0\n",
        "while trial <= TrainRepeats+1:\n",
        "  X_train[trial,Left]=Brightnesses[W]\n",
        "  X_train[trial,Right]=Brightnesses[LBrightnesses-W-1]\n",
        "  if X_train[trial,Left]<X_train[trial,Right]:\n",
        "    y_train[trial]=1\n",
        "  trial += 1\n",
        "  X_train[trial,Left]=Brightnesses[LBrightnesses-W-1]\n",
        "  X_train[trial,Right]=Brightnesses[W]\n",
        "  if X_train[trial,Left]<X_train[trial,Right]:\n",
        "    y_train[trial]=1\n",
        "  trial +=1\n",
        "\n",
        "print('training stimuli')\n",
        "print(X_train)\n",
        "print('training labels')\n",
        "print(y_train)\n",
        "\n",
        "if WhetherToShuffle==1:\n",
        "  #only use this if you want to shuffle the brightness values\n",
        "  encode(X_train,shuffler)\n",
        "  print(X_train)\n",
        "  encode(X_test,shuffler)\n",
        "  print(X_test)"
      ],
      "metadata": {
        "id": "kiMlaDpwEAdp",
        "colab": {
          "base_uri": "https://localhost:8080/"
        },
        "outputId": "1d0124f1-6e54-4ed2-ebe0-6e323348d71f"
      },
      "execution_count": 88,
      "outputs": [
        {
          "output_type": "stream",
          "name": "stdout",
          "text": [
            "test stimuli\n",
            "[[0 0 0 ... 0 0 0]\n",
            " [0 0 0 ... 0 0 0]\n",
            " [0 0 0 ... 0 0 0]\n",
            " ...\n",
            " [0 0 0 ... 0 0 0]\n",
            " [0 0 0 ... 0 0 0]\n",
            " [0 0 0 ... 0 0 0]]\n",
            "test labels\n",
            "[1 1 1 0 0 0 1 1 1 0 0 0 1 1 1 0 0 0 1 1 1 0 0 0 1 1 1 0 0 0]\n",
            "training stimuli\n",
            "[[  0   0   0   0   0   0   0   0   0   0 146   0   0   0   0   0   0   0\n",
            "    0   0   0   0   0   0   0   0   0   0   0   0 109   0   0   0   0   0\n",
            "    0   0   0   0]\n",
            " [  0   0   0   0   0   0   0   0   0   0 109   0   0   0   0   0   0   0\n",
            "    0   0   0   0   0   0   0   0   0   0   0   0 146   0   0   0   0   0\n",
            "    0   0   0   0]\n",
            " [  0   0   0   0   0   0   0   0   0   0 146   0   0   0   0   0   0   0\n",
            "    0   0   0   0   0   0   0   0   0   0   0   0 109   0   0   0   0   0\n",
            "    0   0   0   0]\n",
            " [  0   0   0   0   0   0   0   0   0   0 109   0   0   0   0   0   0   0\n",
            "    0   0   0   0   0   0   0   0   0   0   0   0 146   0   0   0   0   0\n",
            "    0   0   0   0]\n",
            " [  0   0   0   0   0   0   0   0   0   0 146   0   0   0   0   0   0   0\n",
            "    0   0   0   0   0   0   0   0   0   0   0   0 109   0   0   0   0   0\n",
            "    0   0   0   0]\n",
            " [  0   0   0   0   0   0   0   0   0   0 109   0   0   0   0   0   0   0\n",
            "    0   0   0   0   0   0   0   0   0   0   0   0 146   0   0   0   0   0\n",
            "    0   0   0   0]]\n",
            "training labels\n",
            "[0 1 0 1 0 1]\n"
          ]
        }
      ]
    },
    {
      "cell_type": "markdown",
      "source": [
        "## Train with normal NN"
      ],
      "metadata": {
        "id": "TG23LV4t67V5"
      }
    },
    {
      "cell_type": "code",
      "source": [
        "# Build, compile and train the neural network model\n",
        "#there are two hidden layers with 64 and 32 values\n",
        "#The ReLU activation function is used in deep learning models to introduce non-linearity into the network\n",
        "#the sigmoid activation function produces a probability value between 0 and 1\n",
        "from tensorflow import keras\n",
        "import numpy as np\n",
        "#from sklearn.model_selection import train_test_split\n",
        "from keras.models import Sequential\n",
        "from keras.layers import Dense, Conv1D, MaxPooling1D, Flatten\n",
        "#from sklearn.model_selection import train_test_split\n",
        "#from tensorflow.keras.callbacks import EarlyStopping\n",
        "\n",
        "\n",
        "model = keras.models.Sequential([\n",
        "    keras.layers.Dense(RetSize, activation=\"relu\", input_dim=len(X_train[0])),\n",
        "    keras.layers.Dense(RetSize/2, activation=\"relu\"),\n",
        "    keras.layers.Dense(1, activation=\"sigmoid\")\n",
        "])\n",
        "\n",
        "# Compile the model\n",
        "model.compile(loss=\"binary_crossentropy\", optimizer=\"adam\", metrics=[\"accuracy\"])\n",
        "\n",
        "#model.fit(X_train, y_train, epochs=80, batch_size=32, validation_data=(X_test, y_test))\n",
        "model.fit(X_train, y_train, epochs=100, batch_size=32)\n",
        "\n",
        "\n"
      ],
      "metadata": {
        "id": "ioqyu3kb7Tn0",
        "colab": {
          "base_uri": "https://localhost:8080/"
        },
        "outputId": "3149ab39-fc23-4aaf-cdfa-20964de41203"
      },
      "execution_count": 89,
      "outputs": [
        {
          "output_type": "stream",
          "name": "stdout",
          "text": [
            "Epoch 1/100\n",
            "1/1 [==============================] - 1s 904ms/step - loss: 6.9752 - accuracy: 0.5000\n",
            "Epoch 2/100\n",
            "1/1 [==============================] - 0s 14ms/step - loss: 5.5988 - accuracy: 0.5000\n",
            "Epoch 3/100\n",
            "1/1 [==============================] - 0s 11ms/step - loss: 4.2557 - accuracy: 0.5000\n",
            "Epoch 4/100\n",
            "1/1 [==============================] - 0s 16ms/step - loss: 3.0409 - accuracy: 0.5000\n",
            "Epoch 5/100\n",
            "1/1 [==============================] - 0s 11ms/step - loss: 1.8487 - accuracy: 0.5000\n",
            "Epoch 6/100\n",
            "1/1 [==============================] - 0s 14ms/step - loss: 0.7837 - accuracy: 0.5000\n",
            "Epoch 7/100\n",
            "1/1 [==============================] - 0s 12ms/step - loss: 0.3295 - accuracy: 1.0000\n",
            "Epoch 8/100\n",
            "1/1 [==============================] - 0s 10ms/step - loss: 0.6413 - accuracy: 0.5000\n",
            "Epoch 9/100\n",
            "1/1 [==============================] - 0s 11ms/step - loss: 1.0317 - accuracy: 0.5000\n",
            "Epoch 10/100\n",
            "1/1 [==============================] - 0s 11ms/step - loss: 1.2065 - accuracy: 0.5000\n",
            "Epoch 11/100\n",
            "1/1 [==============================] - 0s 12ms/step - loss: 1.2530 - accuracy: 0.5000\n",
            "Epoch 12/100\n",
            "1/1 [==============================] - 0s 11ms/step - loss: 1.1054 - accuracy: 0.5000\n",
            "Epoch 13/100\n",
            "1/1 [==============================] - 0s 11ms/step - loss: 0.8213 - accuracy: 0.5000\n",
            "Epoch 14/100\n",
            "1/1 [==============================] - 0s 9ms/step - loss: 0.4952 - accuracy: 0.5000\n",
            "Epoch 15/100\n",
            "1/1 [==============================] - 0s 11ms/step - loss: 0.2366 - accuracy: 1.0000\n",
            "Epoch 16/100\n",
            "1/1 [==============================] - 0s 11ms/step - loss: 0.0963 - accuracy: 1.0000\n",
            "Epoch 17/100\n",
            "1/1 [==============================] - 0s 11ms/step - loss: 0.0419 - accuracy: 1.0000\n",
            "Epoch 18/100\n",
            "1/1 [==============================] - 0s 13ms/step - loss: 0.0273 - accuracy: 1.0000\n",
            "Epoch 19/100\n",
            "1/1 [==============================] - 0s 9ms/step - loss: 0.0268 - accuracy: 1.0000\n",
            "Epoch 20/100\n",
            "1/1 [==============================] - 0s 13ms/step - loss: 0.0327 - accuracy: 1.0000\n",
            "Epoch 21/100\n",
            "1/1 [==============================] - 0s 12ms/step - loss: 0.0414 - accuracy: 1.0000\n",
            "Epoch 22/100\n",
            "1/1 [==============================] - 0s 12ms/step - loss: 0.0501 - accuracy: 1.0000\n",
            "Epoch 23/100\n",
            "1/1 [==============================] - 0s 11ms/step - loss: 0.0564 - accuracy: 1.0000\n",
            "Epoch 24/100\n",
            "1/1 [==============================] - 0s 11ms/step - loss: 0.0585 - accuracy: 1.0000\n",
            "Epoch 25/100\n",
            "1/1 [==============================] - 0s 12ms/step - loss: 0.0563 - accuracy: 1.0000\n",
            "Epoch 26/100\n",
            "1/1 [==============================] - 0s 10ms/step - loss: 0.0511 - accuracy: 1.0000\n",
            "Epoch 27/100\n",
            "1/1 [==============================] - 0s 10ms/step - loss: 0.0435 - accuracy: 1.0000\n",
            "Epoch 28/100\n",
            "1/1 [==============================] - 0s 9ms/step - loss: 0.0351 - accuracy: 1.0000\n",
            "Epoch 29/100\n",
            "1/1 [==============================] - 0s 9ms/step - loss: 0.0273 - accuracy: 1.0000\n",
            "Epoch 30/100\n",
            "1/1 [==============================] - 0s 9ms/step - loss: 0.0208 - accuracy: 1.0000\n",
            "Epoch 31/100\n",
            "1/1 [==============================] - 0s 10ms/step - loss: 0.0157 - accuracy: 1.0000\n",
            "Epoch 32/100\n",
            "1/1 [==============================] - 0s 10ms/step - loss: 0.0120 - accuracy: 1.0000\n",
            "Epoch 33/100\n",
            "1/1 [==============================] - 0s 10ms/step - loss: 0.0093 - accuracy: 1.0000\n",
            "Epoch 34/100\n",
            "1/1 [==============================] - 0s 12ms/step - loss: 0.0075 - accuracy: 1.0000\n",
            "Epoch 35/100\n",
            "1/1 [==============================] - 0s 12ms/step - loss: 0.0063 - accuracy: 1.0000\n",
            "Epoch 36/100\n",
            "1/1 [==============================] - 0s 10ms/step - loss: 0.0055 - accuracy: 1.0000\n",
            "Epoch 37/100\n",
            "1/1 [==============================] - 2s 2s/step - loss: 0.0050 - accuracy: 1.0000\n",
            "Epoch 38/100\n",
            "1/1 [==============================] - 0s 9ms/step - loss: 0.0048 - accuracy: 1.0000\n",
            "Epoch 39/100\n",
            "1/1 [==============================] - 0s 13ms/step - loss: 0.0047 - accuracy: 1.0000\n",
            "Epoch 40/100\n",
            "1/1 [==============================] - 0s 10ms/step - loss: 0.0047 - accuracy: 1.0000\n",
            "Epoch 41/100\n",
            "1/1 [==============================] - 0s 11ms/step - loss: 0.0048 - accuracy: 1.0000\n",
            "Epoch 42/100\n",
            "1/1 [==============================] - 1s 800ms/step - loss: 0.0049 - accuracy: 1.0000\n",
            "Epoch 43/100\n",
            "1/1 [==============================] - 0s 10ms/step - loss: 0.0050 - accuracy: 1.0000\n",
            "Epoch 44/100\n",
            "1/1 [==============================] - 0s 11ms/step - loss: 0.0051 - accuracy: 1.0000\n",
            "Epoch 45/100\n",
            "1/1 [==============================] - 0s 11ms/step - loss: 0.0051 - accuracy: 1.0000\n",
            "Epoch 46/100\n",
            "1/1 [==============================] - 0s 11ms/step - loss: 0.0051 - accuracy: 1.0000\n",
            "Epoch 47/100\n",
            "1/1 [==============================] - 0s 11ms/step - loss: 0.0051 - accuracy: 1.0000\n",
            "Epoch 48/100\n",
            "1/1 [==============================] - 1s 807ms/step - loss: 0.0050 - accuracy: 1.0000\n",
            "Epoch 49/100\n",
            "1/1 [==============================] - 0s 12ms/step - loss: 0.0049 - accuracy: 1.0000\n",
            "Epoch 50/100\n",
            "1/1 [==============================] - 0s 16ms/step - loss: 0.0048 - accuracy: 1.0000\n",
            "Epoch 51/100\n",
            "1/1 [==============================] - 0s 12ms/step - loss: 0.0046 - accuracy: 1.0000\n",
            "Epoch 52/100\n",
            "1/1 [==============================] - 0s 13ms/step - loss: 0.0044 - accuracy: 1.0000\n",
            "Epoch 53/100\n",
            "1/1 [==============================] - 0s 215ms/step - loss: 0.0042 - accuracy: 1.0000\n",
            "Epoch 54/100\n",
            "1/1 [==============================] - 0s 14ms/step - loss: 0.0040 - accuracy: 1.0000\n",
            "Epoch 55/100\n",
            "1/1 [==============================] - 0s 10ms/step - loss: 0.0038 - accuracy: 1.0000\n",
            "Epoch 56/100\n",
            "1/1 [==============================] - 0s 10ms/step - loss: 0.0036 - accuracy: 1.0000\n",
            "Epoch 57/100\n",
            "1/1 [==============================] - 0s 10ms/step - loss: 0.0034 - accuracy: 1.0000\n",
            "Epoch 58/100\n",
            "1/1 [==============================] - 0s 12ms/step - loss: 0.0033 - accuracy: 1.0000\n",
            "Epoch 59/100\n",
            "1/1 [==============================] - 0s 10ms/step - loss: 0.0031 - accuracy: 1.0000\n",
            "Epoch 60/100\n",
            "1/1 [==============================] - 0s 10ms/step - loss: 0.0030 - accuracy: 1.0000\n",
            "Epoch 61/100\n",
            "1/1 [==============================] - 0s 11ms/step - loss: 0.0029 - accuracy: 1.0000\n",
            "Epoch 62/100\n",
            "1/1 [==============================] - 0s 10ms/step - loss: 0.0027 - accuracy: 1.0000\n",
            "Epoch 63/100\n",
            "1/1 [==============================] - 0s 10ms/step - loss: 0.0026 - accuracy: 1.0000\n",
            "Epoch 64/100\n",
            "1/1 [==============================] - 0s 10ms/step - loss: 0.0026 - accuracy: 1.0000\n",
            "Epoch 65/100\n",
            "1/1 [==============================] - 0s 13ms/step - loss: 0.0025 - accuracy: 1.0000\n",
            "Epoch 66/100\n",
            "1/1 [==============================] - 0s 10ms/step - loss: 0.0024 - accuracy: 1.0000\n",
            "Epoch 67/100\n",
            "1/1 [==============================] - 0s 10ms/step - loss: 0.0024 - accuracy: 1.0000\n",
            "Epoch 68/100\n",
            "1/1 [==============================] - 0s 12ms/step - loss: 0.0023 - accuracy: 1.0000\n",
            "Epoch 69/100\n",
            "1/1 [==============================] - 0s 11ms/step - loss: 0.0023 - accuracy: 1.0000\n",
            "Epoch 70/100\n",
            "1/1 [==============================] - 0s 10ms/step - loss: 0.0022 - accuracy: 1.0000\n",
            "Epoch 71/100\n",
            "1/1 [==============================] - 0s 11ms/step - loss: 0.0022 - accuracy: 1.0000\n",
            "Epoch 72/100\n",
            "1/1 [==============================] - 0s 11ms/step - loss: 0.0022 - accuracy: 1.0000\n",
            "Epoch 73/100\n",
            "1/1 [==============================] - 0s 10ms/step - loss: 0.0021 - accuracy: 1.0000\n",
            "Epoch 74/100\n",
            "1/1 [==============================] - 0s 10ms/step - loss: 0.0021 - accuracy: 1.0000\n",
            "Epoch 75/100\n",
            "1/1 [==============================] - 0s 11ms/step - loss: 0.0021 - accuracy: 1.0000\n",
            "Epoch 76/100\n",
            "1/1 [==============================] - 0s 11ms/step - loss: 0.0021 - accuracy: 1.0000\n",
            "Epoch 77/100\n",
            "1/1 [==============================] - 0s 10ms/step - loss: 0.0021 - accuracy: 1.0000\n",
            "Epoch 78/100\n",
            "1/1 [==============================] - 0s 11ms/step - loss: 0.0020 - accuracy: 1.0000\n",
            "Epoch 79/100\n",
            "1/1 [==============================] - 0s 10ms/step - loss: 0.0020 - accuracy: 1.0000\n",
            "Epoch 80/100\n",
            "1/1 [==============================] - 0s 10ms/step - loss: 0.0020 - accuracy: 1.0000\n",
            "Epoch 81/100\n",
            "1/1 [==============================] - 0s 9ms/step - loss: 0.0020 - accuracy: 1.0000\n",
            "Epoch 82/100\n",
            "1/1 [==============================] - 0s 9ms/step - loss: 0.0020 - accuracy: 1.0000\n",
            "Epoch 83/100\n",
            "1/1 [==============================] - 0s 10ms/step - loss: 0.0020 - accuracy: 1.0000\n",
            "Epoch 84/100\n",
            "1/1 [==============================] - 0s 10ms/step - loss: 0.0019 - accuracy: 1.0000\n",
            "Epoch 85/100\n",
            "1/1 [==============================] - 0s 10ms/step - loss: 0.0019 - accuracy: 1.0000\n",
            "Epoch 86/100\n",
            "1/1 [==============================] - 0s 10ms/step - loss: 0.0019 - accuracy: 1.0000\n",
            "Epoch 87/100\n",
            "1/1 [==============================] - 0s 10ms/step - loss: 0.0019 - accuracy: 1.0000\n",
            "Epoch 88/100\n",
            "1/1 [==============================] - 0s 9ms/step - loss: 0.0019 - accuracy: 1.0000\n",
            "Epoch 89/100\n",
            "1/1 [==============================] - 0s 10ms/step - loss: 0.0019 - accuracy: 1.0000\n",
            "Epoch 90/100\n",
            "1/1 [==============================] - 0s 10ms/step - loss: 0.0019 - accuracy: 1.0000\n",
            "Epoch 91/100\n",
            "1/1 [==============================] - 0s 10ms/step - loss: 0.0018 - accuracy: 1.0000\n",
            "Epoch 92/100\n",
            "1/1 [==============================] - 0s 10ms/step - loss: 0.0018 - accuracy: 1.0000\n",
            "Epoch 93/100\n",
            "1/1 [==============================] - 0s 10ms/step - loss: 0.0018 - accuracy: 1.0000\n",
            "Epoch 94/100\n",
            "1/1 [==============================] - 0s 10ms/step - loss: 0.0018 - accuracy: 1.0000\n",
            "Epoch 95/100\n",
            "1/1 [==============================] - 0s 11ms/step - loss: 0.0018 - accuracy: 1.0000\n",
            "Epoch 96/100\n",
            "1/1 [==============================] - 0s 10ms/step - loss: 0.0018 - accuracy: 1.0000\n",
            "Epoch 97/100\n",
            "1/1 [==============================] - 0s 10ms/step - loss: 0.0017 - accuracy: 1.0000\n",
            "Epoch 98/100\n",
            "1/1 [==============================] - 0s 10ms/step - loss: 0.0017 - accuracy: 1.0000\n",
            "Epoch 99/100\n",
            "1/1 [==============================] - 0s 10ms/step - loss: 0.0017 - accuracy: 1.0000\n",
            "Epoch 100/100\n",
            "1/1 [==============================] - 0s 9ms/step - loss: 0.0017 - accuracy: 1.0000\n"
          ]
        },
        {
          "output_type": "execute_result",
          "data": {
            "text/plain": [
              "<keras.callbacks.History at 0x7f371e0f3730>"
            ]
          },
          "metadata": {},
          "execution_count": 89
        }
      ]
    },
    {
      "cell_type": "markdown",
      "source": [
        "# Test the model on the test data\n"
      ],
      "metadata": {
        "id": "kocjLFIKi26m"
      }
    },
    {
      "cell_type": "code",
      "source": [
        "\n",
        "for trial in range(len(X_test)):\n",
        "  pred=model.predict(np.array([X_test[trial]]), verbose=0)\n",
        "  res_test[trial]=pred[0][0]\n",
        "  #print(np.around(pred[0][0],1),y_test[trial],X_test[trial])\n",
        "  print(np.around(res_test[trial],2),y_test[trial],X_test[trial])\n",
        "\n",
        "print(res_test)\n"
      ],
      "metadata": {
        "colab": {
          "base_uri": "https://localhost:8080/"
        },
        "id": "WALjIVurdv1l",
        "outputId": "00df5be9-5a03-407f-e2d6-ea6ab8c224c2"
      },
      "execution_count": 90,
      "outputs": [
        {
          "output_type": "stream",
          "name": "stdout",
          "text": [
            "1.0 1 [  0   0   0   0   0   0   0   0   0   0  36   0   0   0   0   0   0   0\n",
            "   0   0   0   0   0   0   0   0   0   0   0   0 219   0   0   0   0   0\n",
            "   0   0   0   0]\n",
            "1.0 1 [  0   0   0   0   0   0   0   0   0   0  73   0   0   0   0   0   0   0\n",
            "   0   0   0   0   0   0   0   0   0   0   0   0 182   0   0   0   0   0\n",
            "   0   0   0   0]\n",
            "1.0 1 [  0   0   0   0   0   0   0   0   0   0 109   0   0   0   0   0   0   0\n",
            "   0   0   0   0   0   0   0   0   0   0   0   0 146   0   0   0   0   0\n",
            "   0   0   0   0]\n",
            "0.0 0 [  0   0   0   0   0   0   0   0   0   0 146   0   0   0   0   0   0   0\n",
            "   0   0   0   0   0   0   0   0   0   0   0   0 109   0   0   0   0   0\n",
            "   0   0   0   0]\n",
            "0.0 0 [  0   0   0   0   0   0   0   0   0   0 182   0   0   0   0   0   0   0\n",
            "   0   0   0   0   0   0   0   0   0   0   0   0  73   0   0   0   0   0\n",
            "   0   0   0   0]\n",
            "0.0 0 [  0   0   0   0   0   0   0   0   0   0 219   0   0   0   0   0   0   0\n",
            "   0   0   0   0   0   0   0   0   0   0   0   0  36   0   0   0   0   0\n",
            "   0   0   0   0]\n",
            "0.0 1 [  0   0   0   0   0   0   0   0   0  36   0   0   0   0   0   0   0   0\n",
            "   0   0   0   0   0   0   0   0   0   0   0   0   0 219   0   0   0   0\n",
            "   0   0   0   0]\n",
            "0.0 1 [  0   0   0   0   0   0   0   0   0  73   0   0   0   0   0   0   0   0\n",
            "   0   0   0   0   0   0   0   0   0   0   0   0   0 182   0   0   0   0\n",
            "   0   0   0   0]\n",
            "0.0 1 [  0   0   0   0   0   0   0   0   0 109   0   0   0   0   0   0   0   0\n",
            "   0   0   0   0   0   0   0   0   0   0   0   0   0 146   0   0   0   0\n",
            "   0   0   0   0]\n",
            "0.0 0 [  0   0   0   0   0   0   0   0   0 146   0   0   0   0   0   0   0   0\n",
            "   0   0   0   0   0   0   0   0   0   0   0   0   0 109   0   0   0   0\n",
            "   0   0   0   0]\n",
            "0.0 0 [  0   0   0   0   0   0   0   0   0 182   0   0   0   0   0   0   0   0\n",
            "   0   0   0   0   0   0   0   0   0   0   0   0   0  73   0   0   0   0\n",
            "   0   0   0   0]\n",
            "0.0 0 [  0   0   0   0   0   0   0   0   0 219   0   0   0   0   0   0   0   0\n",
            "   0   0   0   0   0   0   0   0   0   0   0   0   0  36   0   0   0   0\n",
            "   0   0   0   0]\n",
            "0.17 1 [  0   0   0   0   0   0   0   0  36   0   0   0   0   0   0   0   0   0\n",
            "   0   0   0   0   0   0   0   0   0   0   0   0   0   0 219   0   0   0\n",
            "   0   0   0   0]\n",
            "0.0 1 [  0   0   0   0   0   0   0   0  73   0   0   0   0   0   0   0   0   0\n",
            "   0   0   0   0   0   0   0   0   0   0   0   0   0   0 182   0   0   0\n",
            "   0   0   0   0]\n",
            "0.0 1 [  0   0   0   0   0   0   0   0 109   0   0   0   0   0   0   0   0   0\n",
            "   0   0   0   0   0   0   0   0   0   0   0   0   0   0 146   0   0   0\n",
            "   0   0   0   0]\n",
            "0.0 0 [  0   0   0   0   0   0   0   0 146   0   0   0   0   0   0   0   0   0\n",
            "   0   0   0   0   0   0   0   0   0   0   0   0   0   0 109   0   0   0\n",
            "   0   0   0   0]\n",
            "0.0 0 [  0   0   0   0   0   0   0   0 182   0   0   0   0   0   0   0   0   0\n",
            "   0   0   0   0   0   0   0   0   0   0   0   0   0   0  73   0   0   0\n",
            "   0   0   0   0]\n",
            "0.03 0 [  0   0   0   0   0   0   0   0 219   0   0   0   0   0   0   0   0   0\n",
            "   0   0   0   0   0   0   0   0   0   0   0   0   0   0  36   0   0   0\n",
            "   0   0   0   0]\n",
            "0.0 1 [  0   0   0   0   0   0   0  36   0   0   0   0   0   0   0   0   0   0\n",
            "   0   0   0   0   0   0   0   0   0   0   0   0   0   0   0 219   0   0\n",
            "   0   0   0   0]\n",
            "0.0 1 [  0   0   0   0   0   0   0  73   0   0   0   0   0   0   0   0   0   0\n",
            "   0   0   0   0   0   0   0   0   0   0   0   0   0   0   0 182   0   0\n",
            "   0   0   0   0]\n",
            "0.04 1 [  0   0   0   0   0   0   0 109   0   0   0   0   0   0   0   0   0   0\n",
            "   0   0   0   0   0   0   0   0   0   0   0   0   0   0   0 146   0   0\n",
            "   0   0   0   0]\n",
            "0.96 0 [  0   0   0   0   0   0   0 146   0   0   0   0   0   0   0   0   0   0\n",
            "   0   0   0   0   0   0   0   0   0   0   0   0   0   0   0 109   0   0\n",
            "   0   0   0   0]\n",
            "0.29 0 [  0   0   0   0   0   0   0 182   0   0   0   0   0   0   0   0   0   0\n",
            "   0   0   0   0   0   0   0   0   0   0   0   0   0   0   0  73   0   0\n",
            "   0   0   0   0]\n",
            "0.0 0 [  0   0   0   0   0   0   0 219   0   0   0   0   0   0   0   0   0   0\n",
            "   0   0   0   0   0   0   0   0   0   0   0   0   0   0   0  36   0   0\n",
            "   0   0   0   0]\n",
            "1.0 1 [  0   0   0   0   0   0  36   0   0   0   0   0   0   0   0   0   0   0\n",
            "   0   0   0   0   0   0   0   0   0   0   0   0   0   0   0   0 219   0\n",
            "   0   0   0   0]\n",
            "1.0 1 [  0   0   0   0   0   0  73   0   0   0   0   0   0   0   0   0   0   0\n",
            "   0   0   0   0   0   0   0   0   0   0   0   0   0   0   0   0 182   0\n",
            "   0   0   0   0]\n",
            "1.0 1 [  0   0   0   0   0   0 109   0   0   0   0   0   0   0   0   0   0   0\n",
            "   0   0   0   0   0   0   0   0   0   0   0   0   0   0   0   0 146   0\n",
            "   0   0   0   0]\n",
            "1.0 0 [  0   0   0   0   0   0 146   0   0   0   0   0   0   0   0   0   0   0\n",
            "   0   0   0   0   0   0   0   0   0   0   0   0   0   0   0   0 109   0\n",
            "   0   0   0   0]\n",
            "0.69 0 [  0   0   0   0   0   0 182   0   0   0   0   0   0   0   0   0   0   0\n",
            "   0   0   0   0   0   0   0   0   0   0   0   0   0   0   0   0  73   0\n",
            "   0   0   0   0]\n",
            "0.0 0 [  0   0   0   0   0   0 219   0   0   0   0   0   0   0   0   0   0   0\n",
            "   0   0   0   0   0   0   0   0   0   0   0   0   0   0   0   0  36   0\n",
            "   0   0   0   0]\n",
            "[9.99977171e-01 9.99549568e-01 9.98090208e-01 1.47515687e-03\n",
            " 3.00424399e-05 2.15982908e-07 1.37289252e-14 6.41925887e-11\n",
            " 9.23091861e-08 4.21390567e-09 2.49690424e-09 1.15942000e-09\n",
            " 1.68533862e-01 1.24944796e-04 4.32384667e-07 2.59104163e-05\n",
            " 2.41586793e-04 2.55324766e-02 1.46113234e-06 2.44408352e-06\n",
            " 4.47710678e-02 9.55890298e-01 2.89985836e-01 5.42920097e-05\n",
            " 1.00000000e+00 1.00000000e+00 1.00000000e+00 1.00000000e+00\n",
            " 6.93667889e-01 7.84703661e-05]\n"
          ]
        }
      ]
    },
    {
      "cell_type": "code",
      "source": [
        "#Plot predictions in case response=0 as a fn of Brightnesses\n",
        "#different lines are different retinal positions.\n",
        "\n",
        "if WhetherToShuffle==1:\n",
        "  encode(X_test,undo_shuffler)\n",
        "  encode(X_train,undo_shuffler)\n",
        "\n",
        "\n",
        "import matplotlib.pyplot as plt\n",
        "for lab in range(2):\n",
        "  Xlab=np.array(X_test[np.where(y_test==lab)])\n",
        "  res_testlab=np.array(res_test[np.where(y_test==lab)])\n",
        "  #print(Xlab)\n",
        "  \n",
        "  for retpos in LeftRetPosns:\n",
        "    #get column of trials in Xlab corresponding to retpos\n",
        "    temp=Xlab[:,retpos]\n",
        "    #extract the nonzero ones\n",
        "    inds=np.nonzero(temp)\n",
        "    #print(inds)\n",
        "    #get the brightnesses at those indices and use as x-coords\n",
        "    xs=np.array(temp[inds])\n",
        "    #and the predictions for those brightnesses as y-coords\n",
        "    ys=res_testlab[inds]\n",
        "    #print(xs)\n",
        "    #print(ys)\n",
        "    #plt.plot(xs,ys,label=retpos,marker=\"o\",lw=retpos/2)\n",
        "    jit=(retpos-Deltas-2)*Left/1000 #jitter for plotting to avoid overlaps\n",
        "    #print(retpos,jit)\n",
        "    plt.plot(xs,ys+jit,label=retpos,marker=\"o\")\n",
        "    #plt.plot(xs,ys,label=retpos,marker=\"o\")\n",
        "  print('response',lab, 'trained on brightnesses', X_train[lab,(Left,Right)], 'at location',Left)\n",
        "  plt.legend(loc=\"best\")\n",
        "  plt.xlabel('brightness')\n",
        "  plt.ylabel('prediction')\n",
        "  plt.ylim([-0.1,1.1])\n",
        "  plt.show()\n",
        "  print()\n",
        "\n"
      ],
      "metadata": {
        "colab": {
          "base_uri": "https://localhost:8080/",
          "height": 612
        },
        "id": "kg8NgBNUm78D",
        "outputId": "d29afcca-ffc6-4991-8cc0-e4ac8619dff6"
      },
      "execution_count": 92,
      "outputs": [
        {
          "output_type": "stream",
          "name": "stdout",
          "text": [
            "response 0 trained on brightnesses [146 109] at location 10\n"
          ]
        },
        {
          "output_type": "display_data",
          "data": {
            "text/plain": [
              "<Figure size 432x288 with 1 Axes>"
            ],
            "image/png": "[encoded data removed]"
          },
          "metadata": {
            "needs_background": "light"
          }
        },
        {
          "output_type": "stream",
          "name": "stdout",
          "text": [
            "\n",
            "response 1 trained on brightnesses [109 146] at location 10\n"
          ]
        },
        {
          "output_type": "display_data",
          "data": {
            "text/plain": [
              "<Figure size 432x288 with 1 Axes>"
            ],
            "image/png": "[encoded data removed]"
          },
          "metadata": {
            "needs_background": "light"
          }
        },
        {
          "output_type": "stream",
          "name": "stdout",
          "text": [
            "\n"
          ]
        }
      ]
    },
    {
      "cell_type": "code",
      "source": [
        "#Plot results as a function of retinal position\n",
        "\n",
        "import matplotlib.pyplot as plt\n",
        "for lab in range(2):\n",
        "  Xlab=np.array(X_test[np.where(y_test==lab)])\n",
        "  res_testlab=np.array(res_test[np.where(y_test==lab)])\n",
        "  #print(Xlab)\n",
        "  #extract list of brightesses from nonzero elements of column Left\n",
        "  LeftCol=Xlab[:,Left]\n",
        "  NewBrightnesses=LeftCol[np.nonzero(LeftCol)]\n",
        "  LNewBrightnesses=len(NewBrightnesses)\n",
        "\n",
        "  LLeftRetPosns=len(LeftRetPosns)\n",
        "  Predicts=np.zeros((LNewBrightnesses,LLeftRetPosns),float)\n",
        "  for trial in range(len(Xlab)):\n",
        "      t=Xlab[trial]\n",
        "      #get index of 1st nonzero elt --> retpos\n",
        "      retpos=np.nonzero(t)[0][0]\n",
        "      #get brightness at that retpos \n",
        "      B=t[retpos]\n",
        "      #get index of that brightness in list of Brightnesses\n",
        "      b=np.where(NewBrightnesses==B)[0][0]\n",
        "      #get index of the retpos in the list of retposns\n",
        "      r=np.where(LeftRetPosns==retpos)\n",
        "      Predicts[b,r]=res_testlab[trial]\n",
        "\n",
        "  for b in range(LNewBrightnesses):\n",
        "    plt.plot(LeftRetPosns+0.05*b,Predicts[b,:]+0.02*b,label=NewBrightnesses[b],marker='o')\n",
        "    #plt.plot(LeftRetPosns,Predicts[b,:],label=NewBrightnesses[b],marker='o',lw=b/2)\n",
        "\n",
        "    plt.legend(loc=\"best\")\n",
        "    plt.xlabel('tested left retina position')\n",
        "    plt.ylabel('prediction')\n",
        "    plt.ylim([-0.05,1.05])\n",
        "\n",
        "  \n",
        "  print('response',lab, 'trained on brightnesses', X_train[lab,(Left,Right)], 'at location',Left)\n",
        "  plt.show()\n",
        "  print()\n",
        "\n",
        "\n"
      ],
      "metadata": {
        "colab": {
          "base_uri": "https://localhost:8080/",
          "height": 612
        },
        "id": "EeG0Xjntk9ca",
        "outputId": "c9c44b80-5399-47cf-cba2-41e4b83f888a"
      },
      "execution_count": 93,
      "outputs": [
        {
          "output_type": "stream",
          "name": "stdout",
          "text": [
            "response 0 trained on brightnesses [146 109] at location 10\n"
          ]
        },
        {
          "output_type": "display_data",
          "data": {
            "text/plain": [
              "<Figure size 432x288 with 1 Axes>"
            ],
            "image/png": "[encoded data removed]"
          },
          "metadata": {
            "needs_background": "light"
          }
        },
        {
          "output_type": "stream",
          "name": "stdout",
          "text": [
            "\n",
            "response 1 trained on brightnesses [109 146] at location 10\n"
          ]
        },
        {
          "output_type": "display_data",
          "data": {
            "text/plain": [
              "<Figure size 432x288 with 1 Axes>"
            ],
            "image/png": "[encoded data removed]"
          },
          "metadata": {
            "needs_background": "light"
          }
        },
        {
          "output_type": "stream",
          "name": "stdout",
          "text": [
            "\n"
          ]
        }
      ]
    },
    {
      "cell_type": "markdown",
      "source": [
        "Comment on results:\n"
      ],
      "metadata": {
        "id": "QaKQ2E2_mm0O"
      }
    },
    {
      "cell_type": "markdown",
      "source": [
        "## Train with CNN"
      ],
      "metadata": {
        "id": "stPC6iIy3Z5S"
      }
    },
    {
      "cell_type": "code",
      "source": [
        "\n",
        "\n",
        "if WhetherToShuffle==1:\n",
        "  #only use this if you want to shuffle the brightness values\n",
        "  encode(X_train,shuffler)\n",
        "  print(X_train)\n",
        "  encode(X_test,shuffler)\n",
        "  print(X_test)\n",
        "\n",
        "model = Sequential()\n",
        "model.add(Conv1D(filters=32, kernel_size=5, activation='relu', input_shape=(len(X_train[0]), 1)))\n",
        "model.add(MaxPooling1D(pool_size=4))\n",
        "#model.add(Conv1D(filters=64, kernel_size=5, activation='relu'))\n",
        "#model.add(MaxPooling1D(pool_size=2))\n",
        "model.add(Flatten())\n",
        "model.add(Dense(RetSize/2, activation='relu'))\n",
        "model.add(Dense(1, activation='sigmoid'))\n",
        "\n",
        "# Compile the model\n",
        "model.compile(loss='binary_crossentropy', optimizer='adam', metrics=['accuracy'])\n",
        "\n",
        "# Train the model\n",
        "model.fit(X_train, y_train, epochs=40, batch_size=32, verbose=1)\n",
        "\n",
        "#loss, accuracy = model.evaluate(X_test, y_test, verbose=1)\n",
        "#print(\"Accuracy:\", accuracy)"
      ],
      "metadata": {
        "id": "Rb8O58aCqQ4O",
        "colab": {
          "base_uri": "https://localhost:8080/"
        },
        "outputId": "7cc20fee-522c-4b26-900f-9df26ea49061"
      },
      "execution_count": 103,
      "outputs": [
        {
          "output_type": "stream",
          "name": "stdout",
          "text": [
            "Epoch 1/40\n",
            "1/1 [==============================] - 1s 890ms/step - loss: 1.4486 - accuracy: 0.5000\n",
            "Epoch 2/40\n",
            "1/1 [==============================] - 0s 14ms/step - loss: 0.3662 - accuracy: 1.0000\n",
            "Epoch 3/40\n",
            "1/1 [==============================] - 0s 14ms/step - loss: 0.8821 - accuracy: 0.5000\n",
            "Epoch 4/40\n",
            "1/1 [==============================] - 0s 14ms/step - loss: 0.6625 - accuracy: 0.5000\n",
            "Epoch 5/40\n",
            "1/1 [==============================] - 0s 11ms/step - loss: 0.2944 - accuracy: 1.0000\n",
            "Epoch 6/40\n",
            "1/1 [==============================] - 0s 12ms/step - loss: 0.3203 - accuracy: 1.0000\n",
            "Epoch 7/40\n",
            "1/1 [==============================] - 0s 12ms/step - loss: 0.4685 - accuracy: 0.5000\n",
            "Epoch 8/40\n",
            "1/1 [==============================] - 0s 13ms/step - loss: 0.3530 - accuracy: 1.0000\n",
            "Epoch 9/40\n",
            "1/1 [==============================] - 0s 13ms/step - loss: 0.1777 - accuracy: 1.0000\n",
            "Epoch 10/40\n",
            "1/1 [==============================] - 0s 12ms/step - loss: 0.1338 - accuracy: 1.0000\n",
            "Epoch 11/40\n",
            "1/1 [==============================] - 0s 10ms/step - loss: 0.1885 - accuracy: 1.0000\n",
            "Epoch 12/40\n",
            "1/1 [==============================] - 0s 12ms/step - loss: 0.2256 - accuracy: 1.0000\n",
            "Epoch 13/40\n",
            "1/1 [==============================] - 0s 12ms/step - loss: 0.1862 - accuracy: 1.0000\n",
            "Epoch 14/40\n",
            "1/1 [==============================] - 0s 11ms/step - loss: 0.1187 - accuracy: 1.0000\n",
            "Epoch 15/40\n",
            "1/1 [==============================] - 0s 11ms/step - loss: 0.0787 - accuracy: 1.0000\n",
            "Epoch 16/40\n",
            "1/1 [==============================] - 0s 13ms/step - loss: 0.0741 - accuracy: 1.0000\n",
            "Epoch 17/40\n",
            "1/1 [==============================] - 0s 15ms/step - loss: 0.0876 - accuracy: 1.0000\n",
            "Epoch 18/40\n",
            "1/1 [==============================] - 0s 12ms/step - loss: 0.0993 - accuracy: 1.0000\n",
            "Epoch 19/40\n",
            "1/1 [==============================] - 0s 12ms/step - loss: 0.0956 - accuracy: 1.0000\n",
            "Epoch 20/40\n",
            "1/1 [==============================] - 0s 13ms/step - loss: 0.0783 - accuracy: 1.0000\n",
            "Epoch 21/40\n",
            "1/1 [==============================] - 0s 15ms/step - loss: 0.0583 - accuracy: 1.0000\n",
            "Epoch 22/40\n",
            "1/1 [==============================] - 0s 12ms/step - loss: 0.0441 - accuracy: 1.0000\n",
            "Epoch 23/40\n",
            "1/1 [==============================] - 0s 11ms/step - loss: 0.0375 - accuracy: 1.0000\n",
            "Epoch 24/40\n",
            "1/1 [==============================] - 0s 11ms/step - loss: 0.0370 - accuracy: 1.0000\n",
            "Epoch 25/40\n",
            "1/1 [==============================] - 0s 12ms/step - loss: 0.0394 - accuracy: 1.0000\n",
            "Epoch 26/40\n",
            "1/1 [==============================] - 0s 11ms/step - loss: 0.0418 - accuracy: 1.0000\n",
            "Epoch 27/40\n",
            "1/1 [==============================] - 0s 10ms/step - loss: 0.0418 - accuracy: 1.0000\n",
            "Epoch 28/40\n",
            "1/1 [==============================] - 0s 10ms/step - loss: 0.0390 - accuracy: 1.0000\n",
            "Epoch 29/40\n",
            "1/1 [==============================] - 0s 10ms/step - loss: 0.0343 - accuracy: 1.0000\n",
            "Epoch 30/40\n",
            "1/1 [==============================] - 0s 9ms/step - loss: 0.0292 - accuracy: 1.0000\n",
            "Epoch 31/40\n",
            "1/1 [==============================] - 0s 12ms/step - loss: 0.0249 - accuracy: 1.0000\n",
            "Epoch 32/40\n",
            "1/1 [==============================] - 0s 12ms/step - loss: 0.0221 - accuracy: 1.0000\n",
            "Epoch 33/40\n",
            "1/1 [==============================] - 0s 14ms/step - loss: 0.0206 - accuracy: 1.0000\n",
            "Epoch 34/40\n",
            "1/1 [==============================] - 0s 16ms/step - loss: 0.0201 - accuracy: 1.0000\n",
            "Epoch 35/40\n",
            "1/1 [==============================] - 0s 13ms/step - loss: 0.0201 - accuracy: 1.0000\n",
            "Epoch 36/40\n",
            "1/1 [==============================] - 0s 10ms/step - loss: 0.0204 - accuracy: 1.0000\n",
            "Epoch 37/40\n",
            "1/1 [==============================] - 0s 12ms/step - loss: 0.0203 - accuracy: 1.0000\n",
            "Epoch 38/40\n",
            "1/1 [==============================] - 0s 12ms/step - loss: 0.0199 - accuracy: 1.0000\n",
            "Epoch 39/40\n",
            "1/1 [==============================] - 0s 10ms/step - loss: 0.0190 - accuracy: 1.0000\n",
            "Epoch 40/40\n",
            "1/1 [==============================] - 0s 11ms/step - loss: 0.0178 - accuracy: 1.0000\n"
          ]
        },
        {
          "output_type": "execute_result",
          "data": {
            "text/plain": [
              "<keras.callbacks.History at 0x7f36fd66aac0>"
            ]
          },
          "metadata": {},
          "execution_count": 103
        }
      ]
    },
    {
      "cell_type": "markdown",
      "source": [
        "###Test CNN \n"
      ],
      "metadata": {
        "id": "AfbygbGhGyHp"
      }
    },
    {
      "cell_type": "code",
      "source": [
        "\n",
        "for trial in range(len(X_test)):\n",
        "  pred=model.predict(np.array([X_test[trial]]), verbose=0)\n",
        "  res_test[trial]=pred[0][0]\n",
        "  #print(np.around(pred[0][0],1),y_test[trial],X_test[trial])\n",
        "  print(np.around(res_test[trial],1),y_test[trial],X_test[trial])\n",
        "\n",
        "print(res_test)\n"
      ],
      "metadata": {
        "colab": {
          "base_uri": "https://localhost:8080/"
        },
        "id": "JqozJP4KUx8p",
        "outputId": "8eab8973-96b6-4f15-a88e-d464d5e60d95"
      },
      "execution_count": 104,
      "outputs": [
        {
          "output_type": "stream",
          "name": "stdout",
          "text": [
            "1.0 1 [  0   0   0   0   0   0   0   0   0   0  36   0   0   0   0   0   0   0\n",
            "   0   0   0   0   0   0   0   0   0   0   0   0 219   0   0   0   0   0\n",
            "   0   0   0   0]\n",
            "1.0 1 [  0   0   0   0   0   0   0   0   0   0  73   0   0   0   0   0   0   0\n",
            "   0   0   0   0   0   0   0   0   0   0   0   0 182   0   0   0   0   0\n",
            "   0   0   0   0]\n",
            "1.0 1 [  0   0   0   0   0   0   0   0   0   0 109   0   0   0   0   0   0   0\n",
            "   0   0   0   0   0   0   0   0   0   0   0   0 146   0   0   0   0   0\n",
            "   0   0   0   0]\n",
            "0.0 0 [  0   0   0   0   0   0   0   0   0   0 146   0   0   0   0   0   0   0\n",
            "   0   0   0   0   0   0   0   0   0   0   0   0 109   0   0   0   0   0\n",
            "   0   0   0   0]\n",
            "0.0 0 [  0   0   0   0   0   0   0   0   0   0 182   0   0   0   0   0   0   0\n",
            "   0   0   0   0   0   0   0   0   0   0   0   0  73   0   0   0   0   0\n",
            "   0   0   0   0]\n",
            "0.0 0 [  0   0   0   0   0   0   0   0   0   0 219   0   0   0   0   0   0   0\n",
            "   0   0   0   0   0   0   0   0   0   0   0   0  36   0   0   0   0   0\n",
            "   0   0   0   0]\n",
            "1.0 1 [  0   0   0   0   0   0   0   0   0  36   0   0   0   0   0   0   0   0\n",
            "   0   0   0   0   0   0   0   0   0   0   0   0   0 219   0   0   0   0\n",
            "   0   0   0   0]\n",
            "0.7 1 [  0   0   0   0   0   0   0   0   0  73   0   0   0   0   0   0   0   0\n",
            "   0   0   0   0   0   0   0   0   0   0   0   0   0 182   0   0   0   0\n",
            "   0   0   0   0]\n",
            "0.0 1 [  0   0   0   0   0   0   0   0   0 109   0   0   0   0   0   0   0   0\n",
            "   0   0   0   0   0   0   0   0   0   0   0   0   0 146   0   0   0   0\n",
            "   0   0   0   0]\n",
            "0.0 0 [  0   0   0   0   0   0   0   0   0 146   0   0   0   0   0   0   0   0\n",
            "   0   0   0   0   0   0   0   0   0   0   0   0   0 109   0   0   0   0\n",
            "   0   0   0   0]\n",
            "0.0 0 [  0   0   0   0   0   0   0   0   0 182   0   0   0   0   0   0   0   0\n",
            "   0   0   0   0   0   0   0   0   0   0   0   0   0  73   0   0   0   0\n",
            "   0   0   0   0]\n",
            "0.0 0 [  0   0   0   0   0   0   0   0   0 219   0   0   0   0   0   0   0   0\n",
            "   0   0   0   0   0   0   0   0   0   0   0   0   0  36   0   0   0   0\n",
            "   0   0   0   0]\n",
            "0.0 1 [  0   0   0   0   0   0   0   0  36   0   0   0   0   0   0   0   0   0\n",
            "   0   0   0   0   0   0   0   0   0   0   0   0   0   0 219   0   0   0\n",
            "   0   0   0   0]\n",
            "0.0 1 [  0   0   0   0   0   0   0   0  73   0   0   0   0   0   0   0   0   0\n",
            "   0   0   0   0   0   0   0   0   0   0   0   0   0   0 182   0   0   0\n",
            "   0   0   0   0]\n",
            "0.0 1 [  0   0   0   0   0   0   0   0 109   0   0   0   0   0   0   0   0   0\n",
            "   0   0   0   0   0   0   0   0   0   0   0   0   0   0 146   0   0   0\n",
            "   0   0   0   0]\n",
            "0.0 0 [  0   0   0   0   0   0   0   0 146   0   0   0   0   0   0   0   0   0\n",
            "   0   0   0   0   0   0   0   0   0   0   0   0   0   0 109   0   0   0\n",
            "   0   0   0   0]\n",
            "0.0 0 [  0   0   0   0   0   0   0   0 182   0   0   0   0   0   0   0   0   0\n",
            "   0   0   0   0   0   0   0   0   0   0   0   0   0   0  73   0   0   0\n",
            "   0   0   0   0]\n",
            "0.0 0 [  0   0   0   0   0   0   0   0 219   0   0   0   0   0   0   0   0   0\n",
            "   0   0   0   0   0   0   0   0   0   0   0   0   0   0  36   0   0   0\n",
            "   0   0   0   0]\n",
            "0.0 1 [  0   0   0   0   0   0   0  36   0   0   0   0   0   0   0   0   0   0\n",
            "   0   0   0   0   0   0   0   0   0   0   0   0   0   0   0 219   0   0\n",
            "   0   0   0   0]\n",
            "0.0 1 [  0   0   0   0   0   0   0  73   0   0   0   0   0   0   0   0   0   0\n",
            "   0   0   0   0   0   0   0   0   0   0   0   0   0   0   0 182   0   0\n",
            "   0   0   0   0]\n",
            "0.0 1 [  0   0   0   0   0   0   0 109   0   0   0   0   0   0   0   0   0   0\n",
            "   0   0   0   0   0   0   0   0   0   0   0   0   0   0   0 146   0   0\n",
            "   0   0   0   0]\n",
            "0.0 0 [  0   0   0   0   0   0   0 146   0   0   0   0   0   0   0   0   0   0\n",
            "   0   0   0   0   0   0   0   0   0   0   0   0   0   0   0 109   0   0\n",
            "   0   0   0   0]\n",
            "0.0 0 [  0   0   0   0   0   0   0 182   0   0   0   0   0   0   0   0   0   0\n",
            "   0   0   0   0   0   0   0   0   0   0   0   0   0   0   0  73   0   0\n",
            "   0   0   0   0]\n",
            "0.0 0 [  0   0   0   0   0   0   0 219   0   0   0   0   0   0   0   0   0   0\n",
            "   0   0   0   0   0   0   0   0   0   0   0   0   0   0   0  36   0   0\n",
            "   0   0   0   0]\n",
            "0.0 1 [  0   0   0   0   0   0  36   0   0   0   0   0   0   0   0   0   0   0\n",
            "   0   0   0   0   0   0   0   0   0   0   0   0   0   0   0   0 219   0\n",
            "   0   0   0   0]\n",
            "0.0 1 [  0   0   0   0   0   0  73   0   0   0   0   0   0   0   0   0   0   0\n",
            "   0   0   0   0   0   0   0   0   0   0   0   0   0   0   0   0 182   0\n",
            "   0   0   0   0]\n",
            "0.0 1 [  0   0   0   0   0   0 109   0   0   0   0   0   0   0   0   0   0   0\n",
            "   0   0   0   0   0   0   0   0   0   0   0   0   0   0   0   0 146   0\n",
            "   0   0   0   0]\n",
            "0.0 0 [  0   0   0   0   0   0 146   0   0   0   0   0   0   0   0   0   0   0\n",
            "   0   0   0   0   0   0   0   0   0   0   0   0   0   0   0   0 109   0\n",
            "   0   0   0   0]\n",
            "0.0 0 [  0   0   0   0   0   0 182   0   0   0   0   0   0   0   0   0   0   0\n",
            "   0   0   0   0   0   0   0   0   0   0   0   0   0   0   0   0  73   0\n",
            "   0   0   0   0]\n",
            "0.0 0 [  0   0   0   0   0   0 219   0   0   0   0   0   0   0   0   0   0   0\n",
            "   0   0   0   0   0   0   0   0   0   0   0   0   0   0   0   0  36   0\n",
            "   0   0   0   0]\n",
            "[1.00000000e+00 9.99999225e-01 9.90795195e-01 2.35080123e-02\n",
            " 9.20242746e-06 4.06450518e-08 9.99472201e-01 7.46048510e-01\n",
            " 1.58274285e-02 3.38409824e-04 7.56558757e-06 1.33283706e-07\n",
            " 3.70272710e-06 1.98801260e-08 2.58730815e-09 1.64723635e-09\n",
            " 1.02811237e-09 5.55917090e-10 4.33944303e-09 1.26222686e-08\n",
            " 4.18535997e-08 1.29162544e-07 5.91173318e-07 5.11442113e-06\n",
            " 2.67655736e-07 8.05361424e-07 3.87119826e-06 3.10610667e-05\n",
            " 3.82056751e-04 2.59493769e-04]\n"
          ]
        }
      ]
    },
    {
      "cell_type": "code",
      "source": [
        "#Plot predictions in case response=0 as a fn of Brightnesses\n",
        "#different lines are different retinal positions.\n",
        "\n",
        "if WhetherToShuffle==1:\n",
        "  encode(X_test,undo_shuffler)\n",
        "  encode(X_train,undo_shuffler)\n",
        "\n",
        "\n",
        "import matplotlib.pyplot as plt\n",
        "for lab in range(2):\n",
        "  Xlab=np.array(X_test[np.where(y_test==lab)])\n",
        "  res_testlab=np.array(res_test[np.where(y_test==lab)])\n",
        "  #print(Xlab)\n",
        "  \n",
        "  for retpos in LeftRetPosns:\n",
        "    #get column of trials in Xlab corresponding to retpos\n",
        "    temp=Xlab[:,retpos]\n",
        "    #extract the nonzero ones\n",
        "    inds=np.nonzero(temp)\n",
        "    #print(inds)\n",
        "    #get the brightnesses at those indices and use as x-coords\n",
        "    xs=np.array(temp[inds])\n",
        "    #and the predictions for those brightnesses as y-coords\n",
        "    ys=res_testlab[inds]\n",
        "    #print(xs)\n",
        "    #print(ys)\n",
        "    #plt.plot(xs,ys,label=retpos,marker=\"o\",lw=retpos/2)\n",
        "    jit=(retpos-Deltas-2)*Left/1000 #jitter for plotting to avoid overlaps\n",
        "    #print(retpos,jit)\n",
        "    plt.plot(xs,ys+jit,label=retpos,marker=\"o\")\n",
        "    #plt.plot(xs,ys,label=retpos,marker=\"o\")\n",
        "  print('response',lab, 'trained on brightnesses', X_train[lab,(Left,Right)], 'at location',Left)\n",
        "  plt.legend(loc=\"best\")\n",
        "  plt.xlabel('brightness')\n",
        "  plt.ylabel('prediction')\n",
        "  plt.ylim([-0.1,1.1])\n",
        "  plt.show()\n",
        "  print()\n",
        "\n",
        "\n"
      ],
      "metadata": {
        "id": "3kV-UL-xiQZG",
        "colab": {
          "base_uri": "https://localhost:8080/",
          "height": 612
        },
        "outputId": "b7db5e0d-e90e-4c32-c889-3dc0361b15c1"
      },
      "execution_count": 105,
      "outputs": [
        {
          "output_type": "stream",
          "name": "stdout",
          "text": [
            "response 0 trained on brightnesses [146 109] at location 10\n"
          ]
        },
        {
          "output_type": "display_data",
          "data": {
            "text/plain": [
              "<Figure size 432x288 with 1 Axes>"
            ],
            "image/png": "[encoded data removed]"
          },
          "metadata": {
            "needs_background": "light"
          }
        },
        {
          "output_type": "stream",
          "name": "stdout",
          "text": [
            "\n",
            "response 1 trained on brightnesses [109 146] at location 10\n"
          ]
        },
        {
          "output_type": "display_data",
          "data": {
            "text/plain": [
              "<Figure size 432x288 with 1 Axes>"
            ],
            "image/png": "[encoded data removed]"
          },
          "metadata": {
            "needs_background": "light"
          }
        },
        {
          "output_type": "stream",
          "name": "stdout",
          "text": [
            "\n"
          ]
        }
      ]
    },
    {
      "cell_type": "code",
      "source": [
        "#Plot results as a function of retinal position\n",
        "\n",
        "import matplotlib.pyplot as plt\n",
        "for lab in range(2):\n",
        "  Xlab=np.array(X_test[np.where(y_test==lab)])\n",
        "  res_testlab=np.array(res_test[np.where(y_test==lab)])\n",
        "  #print(Xlab)\n",
        "  #extract list of brightesses from nonzero elements of column Left\n",
        "  LeftCol=Xlab[:,Left]\n",
        "  NewBrightnesses=LeftCol[np.nonzero(LeftCol)]\n",
        "  LNewBrightnesses=len(NewBrightnesses)\n",
        "\n",
        "  LLeftRetPosns=len(LeftRetPosns)\n",
        "  Predicts=np.zeros((LNewBrightnesses,LLeftRetPosns),float)\n",
        "  for trial in range(len(Xlab)):\n",
        "      t=Xlab[trial]\n",
        "      #get index of 1st nonzero elt --> retpos\n",
        "      retpos=np.nonzero(t)[0][0]\n",
        "      #get brightness at that retpos \n",
        "      B=t[retpos]\n",
        "      #get index of that brightness in list of Brightnesses\n",
        "      b=np.where(NewBrightnesses==B)[0][0]\n",
        "      #get index of the retpos in the list of retposns\n",
        "      r=np.where(LeftRetPosns==retpos)\n",
        "      Predicts[b,r]=res_testlab[trial]\n",
        "\n",
        "  for b in range(LNewBrightnesses):\n",
        "    plt.plot(LeftRetPosns+0.05*b,Predicts[b,:]+0.02*b,label=NewBrightnesses[b],marker='o')\n",
        "    #plt.plot(LeftRetPosns,Predicts[b,:],label=NewBrightnesses[b],marker='o',lw=b/2)\n",
        "\n",
        "    plt.legend(loc=\"best\")\n",
        "    plt.xlabel('tested left retina position')\n",
        "    plt.ylabel('prediction')\n",
        "    plt.ylim([-0.05,1.05])\n",
        "\n",
        "  \n",
        "  print('response',lab, 'trained on brightnesses', X_train[lab,(Left,Right)], 'at location',Left)\n",
        "  plt.show()\n",
        "  print()\n",
        "\n",
        "\n",
        "\n"
      ],
      "metadata": {
        "colab": {
          "base_uri": "https://localhost:8080/",
          "height": 612
        },
        "id": "-CZdNf9aOJX9",
        "outputId": "11878aa3-87d5-4616-953c-cbde080e8d4d"
      },
      "execution_count": 106,
      "outputs": [
        {
          "output_type": "stream",
          "name": "stdout",
          "text": [
            "response 0 trained on brightnesses [146 109] at location 10\n"
          ]
        },
        {
          "output_type": "display_data",
          "data": {
            "text/plain": [
              "<Figure size 432x288 with 1 Axes>"
            ],
            "image/png": "[encoded data removed]"
          },
          "metadata": {
            "needs_background": "light"
          }
        },
        {
          "output_type": "stream",
          "name": "stdout",
          "text": [
            "\n",
            "response 1 trained on brightnesses [109 146] at location 10\n"
          ]
        },
        {
          "output_type": "display_data",
          "data": {
            "text/plain": [
              "<Figure size 432x288 with 1 Axes>"
            ],
            "image/png": "[encoded data removed]"
          },
          "metadata": {
            "needs_background": "light"
          }
        },
        {
          "output_type": "stream",
          "name": "stdout",
          "text": [
            "\n"
          ]
        }
      ]
    }
  ]
}