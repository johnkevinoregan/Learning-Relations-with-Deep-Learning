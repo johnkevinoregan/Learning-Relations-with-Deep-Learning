{
  "nbformat": 4,
  "nbformat_minor": 0,
  "metadata": {
    "colab": {
      "provenance": [],
      "include_colab_link": true
    },
    "kernelspec": {
      "name": "python3",
      "display_name": "Python 3"
    },
    "language_info": {
      "name": "python"
    }
  },
  "cells": [
    {
      "cell_type": "markdown",
      "metadata": {
        "id": "view-in-github",
        "colab_type": "text"
      },
      "source": [
        "<a href=\"https://colab.research.google.com/github/johnkevinoregan/Learning-Relations-with-Deep-Learning/blob/main/Bright_dark_comparison_task_DONT_CHANGE.ipynb\" target=\"_parent\"><img src=\"https://colab.research.google.com/assets/colab-badge.svg\" alt=\"Open In Colab\"/></a>"
      ]
    },
    {
      "cell_type": "markdown",
      "source": [
        "# Brightness comparison on 1D retina: generalization untrained brightnesses\n",
        "15 Mar 2023 -- work in prog\n",
        "\n",
        "---\n",
        "\n",
        "This program is not yet finished. \n",
        "\n",
        "The idea: There are two pixels lit up on the Left and Right of the retina. The NN is to respond 1 when the left one is brighter than the Right one. I train on a collection of Brightnesses with equal numbers of 0 and 1 responses. I then test on these plus the same combinations at retinal positions more widely separated by distance DeltaPos in range(Deltas) from the training locations.  \n",
        "\n",
        "problems: \n",
        "\n",
        "the test set contains the case when the two brightnesses are equal. I should get rid of that.\n",
        "\n",
        "In plotting the results: at the moment I've just plotted the prediction for different values of brightness of the left-hand pixel. But I should do this separately for different retinal positions, and for different values of the correct answer (ie whether it was brighter or dimmer than the right-hand pixel). \n",
        "\n",
        "There's something funny about the results in the normal NN case!!??"
      ],
      "metadata": {
        "id": "dpNBOy9U6vG1"
      }
    },
    {
      "cell_type": "code",
      "source": [
        "import numpy as np\n",
        "RetSize=18\n",
        "Left=int(RetSize/4)\n",
        "Right=3*Left\n",
        "TrainRepeats=3\n",
        "Deltas=3 #number of deviations from base retinal positions used in test\n",
        "\n",
        "W=3 #half the number of brightnesses in the test set\n",
        "W2=2*W\n",
        "\n",
        "Brightnesses=np.arange(-W2,W2+1)*16+125-8\n",
        "#print(Brightnesses)\n",
        "LBrightnesses=len(Brightnesses)\n",
        "#print('length',L)\n",
        "X_test=np.zeros((LBrightnesses*(1+Deltas),RetSize),int)\n",
        "y_test=np.zeros(LBrightnesses*(1+Deltas),int)\n",
        "res_test=np.zeros(LBrightnesses*(1+Deltas),float)\n",
        "\n",
        "X_train=np.zeros((2*TrainRepeats,RetSize),int)\n",
        "y_train=np.zeros(2*TrainRepeats,int)\n",
        "#print(X_train)\n",
        "\n",
        "#there's a problem in this loop since it \n",
        "trial=0\n",
        "for DeltaPos in range(Deltas+1):\n",
        "  for trial in range(LBrightnesses):\n",
        "    T=trial+DeltaPos*LBrightnesses\n",
        "    #print(T,Left-DeltaPos)\n",
        "    X_test[T,Left-DeltaPos]=Brightnesses[trial]\n",
        "    k=LBrightnesses-trial-1\n",
        "    X_test[T,Right+DeltaPos]=Brightnesses[k]\n",
        "    if X_test[T,Left-DeltaPos]<X_test[T,Right+DeltaPos]:\n",
        "      y_test[T]=1\n",
        "print('test stimuli')\n",
        "print(X_test)\n",
        "print('test labels')\n",
        "print(y_test)\n",
        "\n",
        "trial=0\n",
        "while trial <= TrainRepeats+1:\n",
        "  X_train[trial,Left]=Brightnesses[W]\n",
        "  X_train[trial,Right]=Brightnesses[LBrightnesses-W-1]\n",
        "  if X_train[trial,Left]<X_train[trial,Right]:\n",
        "    y_train[trial]=1\n",
        "  trial += 1\n",
        "  X_train[trial,Left]=Brightnesses[LBrightnesses-W-1]\n",
        "  X_train[trial,Right]=Brightnesses[W]\n",
        "  if X_train[trial,Left]<X_train[trial,Right]:\n",
        "    y_train[trial]=1\n",
        "  trial +=1\n",
        "\n",
        "print('training stimuli')\n",
        "print(X_train)\n",
        "print('training labels')\n",
        "print(y_train)\n"
      ],
      "metadata": {
        "colab": {
          "base_uri": "https://localhost:8080/"
        },
        "id": "kiMlaDpwEAdp",
        "outputId": "7da4a826-2cf6-42e0-86d6-80a237880674"
      },
      "execution_count": 74,
      "outputs": [
        {
          "output_type": "stream",
          "name": "stdout",
          "text": [
            "test stimuli\n",
            "[[  0   0   0   0  21   0   0   0   0   0   0   0 213   0   0   0   0   0]\n",
            " [  0   0   0   0  37   0   0   0   0   0   0   0 197   0   0   0   0   0]\n",
            " [  0   0   0   0  53   0   0   0   0   0   0   0 181   0   0   0   0   0]\n",
            " [  0   0   0   0  69   0   0   0   0   0   0   0 165   0   0   0   0   0]\n",
            " [  0   0   0   0  85   0   0   0   0   0   0   0 149   0   0   0   0   0]\n",
            " [  0   0   0   0 101   0   0   0   0   0   0   0 133   0   0   0   0   0]\n",
            " [  0   0   0   0 117   0   0   0   0   0   0   0 117   0   0   0   0   0]\n",
            " [  0   0   0   0 133   0   0   0   0   0   0   0 101   0   0   0   0   0]\n",
            " [  0   0   0   0 149   0   0   0   0   0   0   0  85   0   0   0   0   0]\n",
            " [  0   0   0   0 165   0   0   0   0   0   0   0  69   0   0   0   0   0]\n",
            " [  0   0   0   0 181   0   0   0   0   0   0   0  53   0   0   0   0   0]\n",
            " [  0   0   0   0 197   0   0   0   0   0   0   0  37   0   0   0   0   0]\n",
            " [  0   0   0   0 213   0   0   0   0   0   0   0  21   0   0   0   0   0]\n",
            " [  0   0   0  21   0   0   0   0   0   0   0   0   0 213   0   0   0   0]\n",
            " [  0   0   0  37   0   0   0   0   0   0   0   0   0 197   0   0   0   0]\n",
            " [  0   0   0  53   0   0   0   0   0   0   0   0   0 181   0   0   0   0]\n",
            " [  0   0   0  69   0   0   0   0   0   0   0   0   0 165   0   0   0   0]\n",
            " [  0   0   0  85   0   0   0   0   0   0   0   0   0 149   0   0   0   0]\n",
            " [  0   0   0 101   0   0   0   0   0   0   0   0   0 133   0   0   0   0]\n",
            " [  0   0   0 117   0   0   0   0   0   0   0   0   0 117   0   0   0   0]\n",
            " [  0   0   0 133   0   0   0   0   0   0   0   0   0 101   0   0   0   0]\n",
            " [  0   0   0 149   0   0   0   0   0   0   0   0   0  85   0   0   0   0]\n",
            " [  0   0   0 165   0   0   0   0   0   0   0   0   0  69   0   0   0   0]\n",
            " [  0   0   0 181   0   0   0   0   0   0   0   0   0  53   0   0   0   0]\n",
            " [  0   0   0 197   0   0   0   0   0   0   0   0   0  37   0   0   0   0]\n",
            " [  0   0   0 213   0   0   0   0   0   0   0   0   0  21   0   0   0   0]\n",
            " [  0   0  21   0   0   0   0   0   0   0   0   0   0   0 213   0   0   0]\n",
            " [  0   0  37   0   0   0   0   0   0   0   0   0   0   0 197   0   0   0]\n",
            " [  0   0  53   0   0   0   0   0   0   0   0   0   0   0 181   0   0   0]\n",
            " [  0   0  69   0   0   0   0   0   0   0   0   0   0   0 165   0   0   0]\n",
            " [  0   0  85   0   0   0   0   0   0   0   0   0   0   0 149   0   0   0]\n",
            " [  0   0 101   0   0   0   0   0   0   0   0   0   0   0 133   0   0   0]\n",
            " [  0   0 117   0   0   0   0   0   0   0   0   0   0   0 117   0   0   0]\n",
            " [  0   0 133   0   0   0   0   0   0   0   0   0   0   0 101   0   0   0]\n",
            " [  0   0 149   0   0   0   0   0   0   0   0   0   0   0  85   0   0   0]\n",
            " [  0   0 165   0   0   0   0   0   0   0   0   0   0   0  69   0   0   0]\n",
            " [  0   0 181   0   0   0   0   0   0   0   0   0   0   0  53   0   0   0]\n",
            " [  0   0 197   0   0   0   0   0   0   0   0   0   0   0  37   0   0   0]\n",
            " [  0   0 213   0   0   0   0   0   0   0   0   0   0   0  21   0   0   0]\n",
            " [  0  21   0   0   0   0   0   0   0   0   0   0   0   0   0 213   0   0]\n",
            " [  0  37   0   0   0   0   0   0   0   0   0   0   0   0   0 197   0   0]\n",
            " [  0  53   0   0   0   0   0   0   0   0   0   0   0   0   0 181   0   0]\n",
            " [  0  69   0   0   0   0   0   0   0   0   0   0   0   0   0 165   0   0]\n",
            " [  0  85   0   0   0   0   0   0   0   0   0   0   0   0   0 149   0   0]\n",
            " [  0 101   0   0   0   0   0   0   0   0   0   0   0   0   0 133   0   0]\n",
            " [  0 117   0   0   0   0   0   0   0   0   0   0   0   0   0 117   0   0]\n",
            " [  0 133   0   0   0   0   0   0   0   0   0   0   0   0   0 101   0   0]\n",
            " [  0 149   0   0   0   0   0   0   0   0   0   0   0   0   0  85   0   0]\n",
            " [  0 165   0   0   0   0   0   0   0   0   0   0   0   0   0  69   0   0]\n",
            " [  0 181   0   0   0   0   0   0   0   0   0   0   0   0   0  53   0   0]\n",
            " [  0 197   0   0   0   0   0   0   0   0   0   0   0   0   0  37   0   0]\n",
            " [  0 213   0   0   0   0   0   0   0   0   0   0   0   0   0  21   0   0]]\n",
            "test labels\n",
            "[1 1 1 1 1 1 0 0 0 0 0 0 0 1 1 1 1 1 1 0 0 0 0 0 0 0 1 1 1 1 1 1 0 0 0 0 0\n",
            " 0 0 1 1 1 1 1 1 0 0 0 0 0 0 0]\n",
            "training stimuli\n",
            "[[  0   0   0   0  69   0   0   0   0   0   0   0 165   0   0   0   0   0]\n",
            " [  0   0   0   0 165   0   0   0   0   0   0   0  69   0   0   0   0   0]\n",
            " [  0   0   0   0  69   0   0   0   0   0   0   0 165   0   0   0   0   0]\n",
            " [  0   0   0   0 165   0   0   0   0   0   0   0  69   0   0   0   0   0]\n",
            " [  0   0   0   0  69   0   0   0   0   0   0   0 165   0   0   0   0   0]\n",
            " [  0   0   0   0 165   0   0   0   0   0   0   0  69   0   0   0   0   0]]\n",
            "training labels\n",
            "[1 0 1 0 1 0]\n"
          ]
        }
      ]
    },
    {
      "cell_type": "markdown",
      "source": [
        "##Make training sets X_train and labels y_train"
      ],
      "metadata": {
        "id": "DEJCMNfpEqbg"
      }
    },
    {
      "cell_type": "markdown",
      "source": [
        "## Train with normal NN"
      ],
      "metadata": {
        "id": "TG23LV4t67V5"
      }
    },
    {
      "cell_type": "code",
      "source": [
        "# Build, compile and train the neural network model\n",
        "#there are two hidden layers with 64 and 32 values\n",
        "#The ReLU activation function is used in deep learning models to introduce non-linearity into the network\n",
        "#the sigmoid activation function produces a probability value between 0 and 1\n",
        "from tensorflow import keras\n",
        "import numpy as np\n",
        "#from sklearn.model_selection import train_test_split\n",
        "from keras.models import Sequential\n",
        "from keras.layers import Dense, Conv1D, MaxPooling1D, Flatten\n",
        "#from sklearn.model_selection import train_test_split\n",
        "#from tensorflow.keras.callbacks import EarlyStopping\n",
        "\n",
        "\n",
        "model = keras.models.Sequential([\n",
        "    keras.layers.Dense(64, activation=\"relu\", input_dim=len(X_train[0])),\n",
        "    keras.layers.Dense(32, activation=\"relu\"),\n",
        "    keras.layers.Dense(1, activation=\"sigmoid\")\n",
        "])\n",
        "\n",
        "# Compile the model\n",
        "model.compile(loss=\"binary_crossentropy\", optimizer=\"adam\", metrics=[\"accuracy\"])\n",
        "\n",
        "#model.fit(X_train, y_train, epochs=20, batch_size=32, validation_data=(X_test, y_test))\n",
        "model.fit(X_train, y_train, epochs=6, batch_size=32)\n",
        "\n",
        "\n"
      ],
      "metadata": {
        "id": "ioqyu3kb7Tn0",
        "colab": {
          "base_uri": "https://localhost:8080/"
        },
        "outputId": "082695a2-cb92-4743-b63a-8ceb1ee7fd57"
      },
      "execution_count": 75,
      "outputs": [
        {
          "output_type": "stream",
          "name": "stdout",
          "text": [
            "Epoch 1/6\n",
            "1/1 [==============================] - 1s 773ms/step - loss: 2.7365 - accuracy: 0.0000e+00\n",
            "Epoch 2/6\n",
            "1/1 [==============================] - 0s 13ms/step - loss: 1.5709 - accuracy: 0.0000e+00\n",
            "Epoch 3/6\n",
            "1/1 [==============================] - 0s 11ms/step - loss: 0.7144 - accuracy: 0.5000\n",
            "Epoch 4/6\n",
            "1/1 [==============================] - 0s 11ms/step - loss: 0.2559 - accuracy: 1.0000\n",
            "Epoch 5/6\n",
            "1/1 [==============================] - 0s 12ms/step - loss: 0.0912 - accuracy: 1.0000\n",
            "Epoch 6/6\n",
            "1/1 [==============================] - 0s 13ms/step - loss: 0.0387 - accuracy: 1.0000\n"
          ]
        },
        {
          "output_type": "execute_result",
          "data": {
            "text/plain": [
              "<keras.callbacks.History at 0x7fd81105b100>"
            ]
          },
          "metadata": {},
          "execution_count": 75
        }
      ]
    },
    {
      "cell_type": "code",
      "source": [
        "\n",
        "for trial in range(len(X_test)):\n",
        "  pred=model.predict(np.array([X_test[trial]]), verbose=0)\n",
        "  res_test[trial]=pred[0][0]\n",
        "  #print(np.around(pred[0][0],1),y_test[trial],X_test[trial])\n",
        "  print(np.around(res_test[trial],1),y_test[trial],X_test[trial])\n",
        "\n",
        "print(res_test)\n"
      ],
      "metadata": {
        "colab": {
          "base_uri": "https://localhost:8080/"
        },
        "id": "WALjIVurdv1l",
        "outputId": "5a2ea85c-8db4-4d42-fd0d-aea0a9f36984"
      },
      "execution_count": 76,
      "outputs": [
        {
          "output_type": "stream",
          "name": "stdout",
          "text": [
            "0.9 1 [  0   0   0   0  21   0   0   0   0   0   0   0 213   0   0   0   0   0]\n",
            "0.9 1 [  0   0   0   0  37   0   0   0   0   0   0   0 197   0   0   0   0   0]\n",
            "1.0 1 [  0   0   0   0  53   0   0   0   0   0   0   0 181   0   0   0   0   0]\n",
            "1.0 1 [  0   0   0   0  69   0   0   0   0   0   0   0 165   0   0   0   0   0]\n",
            "1.0 1 [  0   0   0   0  85   0   0   0   0   0   0   0 149   0   0   0   0   0]\n",
            "0.8 1 [  0   0   0   0 101   0   0   0   0   0   0   0 133   0   0   0   0   0]\n",
            "0.3 0 [  0   0   0   0 117   0   0   0   0   0   0   0 117   0   0   0   0   0]\n",
            "0.0 0 [  0   0   0   0 133   0   0   0   0   0   0   0 101   0   0   0   0   0]\n",
            "0.0 0 [  0   0   0   0 149   0   0   0   0   0   0   0  85   0   0   0   0   0]\n",
            "0.0 0 [  0   0   0   0 165   0   0   0   0   0   0   0  69   0   0   0   0   0]\n",
            "0.1 0 [  0   0   0   0 181   0   0   0   0   0   0   0  53   0   0   0   0   0]\n",
            "0.2 0 [  0   0   0   0 197   0   0   0   0   0   0   0  37   0   0   0   0   0]\n",
            "0.5 0 [  0   0   0   0 213   0   0   0   0   0   0   0  21   0   0   0   0   0]\n",
            "0.1 1 [  0   0   0  21   0   0   0   0   0   0   0   0   0 213   0   0   0   0]\n",
            "0.0 1 [  0   0   0  37   0   0   0   0   0   0   0   0   0 197   0   0   0   0]\n",
            "0.0 1 [  0   0   0  53   0   0   0   0   0   0   0   0   0 181   0   0   0   0]\n",
            "0.0 1 [  0   0   0  69   0   0   0   0   0   0   0   0   0 165   0   0   0   0]\n",
            "0.0 1 [  0   0   0  85   0   0   0   0   0   0   0   0   0 149   0   0   0   0]\n",
            "0.0 1 [  0   0   0 101   0   0   0   0   0   0   0   0   0 133   0   0   0   0]\n",
            "0.1 0 [  0   0   0 117   0   0   0   0   0   0   0   0   0 117   0   0   0   0]\n",
            "0.6 0 [  0   0   0 133   0   0   0   0   0   0   0   0   0 101   0   0   0   0]\n",
            "0.8 0 [  0   0   0 149   0   0   0   0   0   0   0   0   0  85   0   0   0   0]\n",
            "0.7 0 [  0   0   0 165   0   0   0   0   0   0   0   0   0  69   0   0   0   0]\n",
            "0.7 0 [  0   0   0 181   0   0   0   0   0   0   0   0   0  53   0   0   0   0]\n",
            "0.9 0 [  0   0   0 197   0   0   0   0   0   0   0   0   0  37   0   0   0   0]\n",
            "1.0 0 [  0   0   0 213   0   0   0   0   0   0   0   0   0  21   0   0   0   0]\n",
            "0.0 1 [  0   0  21   0   0   0   0   0   0   0   0   0   0   0 213   0   0   0]\n",
            "0.0 1 [  0   0  37   0   0   0   0   0   0   0   0   0   0   0 197   0   0   0]\n",
            "0.0 1 [  0   0  53   0   0   0   0   0   0   0   0   0   0   0 181   0   0   0]\n",
            "0.0 1 [  0   0  69   0   0   0   0   0   0   0   0   0   0   0 165   0   0   0]\n",
            "0.0 1 [  0   0  85   0   0   0   0   0   0   0   0   0   0   0 149   0   0   0]\n",
            "0.0 1 [  0   0 101   0   0   0   0   0   0   0   0   0   0   0 133   0   0   0]\n",
            "0.0 0 [  0   0 117   0   0   0   0   0   0   0   0   0   0   0 117   0   0   0]\n",
            "0.0 0 [  0   0 133   0   0   0   0   0   0   0   0   0   0   0 101   0   0   0]\n",
            "0.0 0 [  0   0 149   0   0   0   0   0   0   0   0   0   0   0  85   0   0   0]\n",
            "0.0 0 [  0   0 165   0   0   0   0   0   0   0   0   0   0   0  69   0   0   0]\n",
            "0.0 0 [  0   0 181   0   0   0   0   0   0   0   0   0   0   0  53   0   0   0]\n",
            "0.0 0 [  0   0 197   0   0   0   0   0   0   0   0   0   0   0  37   0   0   0]\n",
            "0.0 0 [  0   0 213   0   0   0   0   0   0   0   0   0   0   0  21   0   0   0]\n",
            "1.0 1 [  0  21   0   0   0   0   0   0   0   0   0   0   0   0   0 213   0   0]\n",
            "1.0 1 [  0  37   0   0   0   0   0   0   0   0   0   0   0   0   0 197   0   0]\n",
            "1.0 1 [  0  53   0   0   0   0   0   0   0   0   0   0   0   0   0 181   0   0]\n",
            "1.0 1 [  0  69   0   0   0   0   0   0   0   0   0   0   0   0   0 165   0   0]\n",
            "1.0 1 [  0  85   0   0   0   0   0   0   0   0   0   0   0   0   0 149   0   0]\n",
            "1.0 1 [  0 101   0   0   0   0   0   0   0   0   0   0   0   0   0 133   0   0]\n",
            "1.0 0 [  0 117   0   0   0   0   0   0   0   0   0   0   0   0   0 117   0   0]\n",
            "1.0 0 [  0 133   0   0   0   0   0   0   0   0   0   0   0   0   0 101   0   0]\n",
            "1.0 0 [  0 149   0   0   0   0   0   0   0   0   0   0   0   0   0  85   0   0]\n",
            "1.0 0 [  0 165   0   0   0   0   0   0   0   0   0   0   0   0   0  69   0   0]\n",
            "1.0 0 [  0 181   0   0   0   0   0   0   0   0   0   0   0   0   0  53   0   0]\n",
            "1.0 0 [  0 197   0   0   0   0   0   0   0   0   0   0   0   0   0  37   0   0]\n",
            "1.0 0 [  0 213   0   0   0   0   0   0   0   0   0   0   0   0   0  21   0   0]\n",
            "[8.64319265e-01 9.46550906e-01 9.73417819e-01 9.84729409e-01\n",
            " 9.66516078e-01 7.99909770e-01 2.70931363e-01 3.53705883e-02\n",
            " 1.84284858e-02 1.98976211e-02 6.74195215e-02 2.41010904e-01\n",
            " 4.95603681e-01 8.09001476e-02 3.25481929e-02 1.23490803e-02\n",
            " 4.59416443e-03 5.41019905e-03 2.42098253e-02 8.37437510e-02\n",
            " 6.10352874e-01 7.56966293e-01 7.12101638e-01 7.42877185e-01\n",
            " 9.26549315e-01 9.96839523e-01 1.59099477e-06 6.56051498e-06\n",
            " 4.00143945e-05 6.96021016e-05 4.19490061e-05 1.52908960e-05\n",
            " 1.80075112e-05 1.98512480e-05 7.20673052e-05 1.75782276e-04\n",
            " 1.95221844e-04 8.74673016e-04 1.57708842e-02 1.00000000e+00\n",
            " 1.00000000e+00 1.00000000e+00 1.00000000e+00 1.00000000e+00\n",
            " 1.00000000e+00 1.00000000e+00 1.00000000e+00 1.00000000e+00\n",
            " 1.00000000e+00 1.00000000e+00 1.00000000e+00 1.00000000e+00]\n"
          ]
        }
      ]
    },
    {
      "cell_type": "code",
      "source": [
        "#Plot the prediction for each Brightness level\n",
        "#NB I should really separate them depending on whether the correct answer is 0 or 1, but I havent done it.\n",
        "#Also I should separate out according to retinal position..\n",
        "import matplotlib.pyplot as plt\n",
        "x_vals=np.zeros(len(X_test),int)\n",
        "for trial in range(len(X_test)):\n",
        "  x=np.where(X_test[trial]>0)[0][0]\n",
        "  x_vals[trial]=X_test[trial][x]\n",
        "print(x_vals)\n",
        "print(np.around(res_test,2))\n",
        "plt.scatter(x_vals,res_test)"
      ],
      "metadata": {
        "colab": {
          "base_uri": "https://localhost:8080/",
          "height": 408
        },
        "id": "xVAHrZ8AI7nh",
        "outputId": "e2f3fb80-1d6d-4efa-97ad-8495141d7188"
      },
      "execution_count": 77,
      "outputs": [
        {
          "output_type": "stream",
          "name": "stdout",
          "text": [
            "[ 21  37  53  69  85 101 117 133 149 165 181 197 213  21  37  53  69  85\n",
            " 101 117 133 149 165 181 197 213  21  37  53  69  85 101 117 133 149 165\n",
            " 181 197 213  21  37  53  69  85 101 117 133 149 165 181 197 213]\n",
            "[0.86 0.95 0.97 0.98 0.97 0.8  0.27 0.04 0.02 0.02 0.07 0.24 0.5  0.08\n",
            " 0.03 0.01 0.   0.01 0.02 0.08 0.61 0.76 0.71 0.74 0.93 1.   0.   0.\n",
            " 0.   0.   0.   0.   0.   0.   0.   0.   0.   0.   0.02 1.   1.   1.\n",
            " 1.   1.   1.   1.   1.   1.   1.   1.   1.   1.  ]\n"
          ]
        },
        {
          "output_type": "execute_result",
          "data": {
            "text/plain": [
              "<matplotlib.collections.PathCollection at 0x7fd80e67b760>"
            ]
          },
          "metadata": {},
          "execution_count": 77
        },
        {
          "output_type": "display_data",
          "data": {
            "text/plain": [
              "<Figure size 432x288 with 1 Axes>"
            ],
            "image/png": "[encoded data removed]"
          },
          "metadata": {
            "needs_background": "light"
          }
        }
      ]
    },
    {
      "cell_type": "markdown",
      "source": [
        "Comment on results:\n",
        "This is quite surprising. I was expecting the NN would not succeed in generalizing to non-trained brightnesses or \\retinal positions. In fact it does it pretty well. The trained brightnesses are 69 and 165. There's something I dont understand here."
      ],
      "metadata": {
        "id": "QaKQ2E2_mm0O"
      }
    },
    {
      "cell_type": "markdown",
      "source": [
        "## Train with CNN"
      ],
      "metadata": {
        "id": "stPC6iIy3Z5S"
      }
    },
    {
      "cell_type": "code",
      "source": [
        "model = Sequential()\n",
        "model.add(Conv1D(filters=32, kernel_size=4, activation='relu', input_shape=(len(X_train[0]), 1)))\n",
        "model.add(MaxPooling1D(pool_size=4))\n",
        "#model.add(Conv1D(filters=64, kernel_size=5, activation='relu'))\n",
        "#model.add(MaxPooling1D(pool_size=2))\n",
        "model.add(Flatten())\n",
        "model.add(Dense(64, activation='relu'))\n",
        "model.add(Dense(1, activation='sigmoid'))\n",
        "\n",
        "# Compile the model\n",
        "model.compile(loss='binary_crossentropy', optimizer='adam', metrics=['accuracy'])\n",
        "\n",
        "# Train the model\n",
        "model.fit(X_train, y_train, epochs=40, batch_size=32, verbose=1)\n",
        "\n",
        "#loss, accuracy = model.evaluate(X_test, y_test, verbose=1)\n",
        "#print(\"Accuracy:\", accuracy)"
      ],
      "metadata": {
        "id": "Rb8O58aCqQ4O",
        "colab": {
          "base_uri": "https://localhost:8080/"
        },
        "outputId": "94c18702-c8fe-446b-ec23-279d43743fb9"
      },
      "execution_count": 82,
      "outputs": [
        {
          "output_type": "stream",
          "name": "stdout",
          "text": [
            "Epoch 1/40\n",
            "1/1 [==============================] - 1s 809ms/step - loss: 8.8570 - accuracy: 0.0000e+00\n",
            "Epoch 2/40\n",
            "1/1 [==============================] - 0s 10ms/step - loss: 5.6070 - accuracy: 0.0000e+00\n",
            "Epoch 3/40\n",
            "1/1 [==============================] - 0s 11ms/step - loss: 2.8526 - accuracy: 0.0000e+00\n",
            "Epoch 4/40\n",
            "1/1 [==============================] - 0s 12ms/step - loss: 1.3750 - accuracy: 0.5000\n",
            "Epoch 5/40\n",
            "1/1 [==============================] - 0s 10ms/step - loss: 0.3002 - accuracy: 1.0000\n",
            "Epoch 6/40\n",
            "1/1 [==============================] - 0s 9ms/step - loss: 0.0215 - accuracy: 1.0000\n",
            "Epoch 7/40\n",
            "1/1 [==============================] - 0s 9ms/step - loss: 0.0035 - accuracy: 1.0000\n",
            "Epoch 8/40\n",
            "1/1 [==============================] - 0s 11ms/step - loss: 0.0018 - accuracy: 1.0000\n",
            "Epoch 9/40\n",
            "1/1 [==============================] - 0s 12ms/step - loss: 0.0013 - accuracy: 1.0000\n",
            "Epoch 10/40\n",
            "1/1 [==============================] - 0s 10ms/step - loss: 0.0011 - accuracy: 1.0000\n",
            "Epoch 11/40\n",
            "1/1 [==============================] - 0s 10ms/step - loss: 8.6114e-04 - accuracy: 1.0000\n",
            "Epoch 12/40\n",
            "1/1 [==============================] - 0s 10ms/step - loss: 7.1474e-04 - accuracy: 1.0000\n",
            "Epoch 13/40\n",
            "1/1 [==============================] - 0s 9ms/step - loss: 6.0234e-04 - accuracy: 1.0000\n",
            "Epoch 14/40\n",
            "1/1 [==============================] - 0s 8ms/step - loss: 5.1461e-04 - accuracy: 1.0000\n",
            "Epoch 15/40\n",
            "1/1 [==============================] - 0s 10ms/step - loss: 4.4513e-04 - accuracy: 1.0000\n",
            "Epoch 16/40\n",
            "1/1 [==============================] - 0s 10ms/step - loss: 3.8943e-04 - accuracy: 1.0000\n",
            "Epoch 17/40\n",
            "1/1 [==============================] - 0s 9ms/step - loss: 3.5793e-04 - accuracy: 1.0000\n",
            "Epoch 18/40\n",
            "1/1 [==============================] - 0s 8ms/step - loss: 3.3928e-04 - accuracy: 1.0000\n",
            "Epoch 19/40\n",
            "1/1 [==============================] - 0s 10ms/step - loss: 3.2257e-04 - accuracy: 1.0000\n",
            "Epoch 20/40\n",
            "1/1 [==============================] - 0s 8ms/step - loss: 3.0751e-04 - accuracy: 1.0000\n",
            "Epoch 21/40\n",
            "1/1 [==============================] - 0s 11ms/step - loss: 2.9389e-04 - accuracy: 1.0000\n",
            "Epoch 22/40\n",
            "1/1 [==============================] - 0s 10ms/step - loss: 2.8150e-04 - accuracy: 1.0000\n",
            "Epoch 23/40\n",
            "1/1 [==============================] - 0s 10ms/step - loss: 2.7021e-04 - accuracy: 1.0000\n",
            "Epoch 24/40\n",
            "1/1 [==============================] - 0s 10ms/step - loss: 2.5987e-04 - accuracy: 1.0000\n",
            "Epoch 25/40\n",
            "1/1 [==============================] - 0s 10ms/step - loss: 2.5018e-04 - accuracy: 1.0000\n",
            "Epoch 26/40\n",
            "1/1 [==============================] - 0s 10ms/step - loss: 2.2116e-04 - accuracy: 1.0000\n",
            "Epoch 27/40\n",
            "1/1 [==============================] - 0s 9ms/step - loss: 1.8983e-04 - accuracy: 1.0000\n",
            "Epoch 28/40\n",
            "1/1 [==============================] - 0s 9ms/step - loss: 1.5987e-04 - accuracy: 1.0000\n",
            "Epoch 29/40\n",
            "1/1 [==============================] - 0s 11ms/step - loss: 1.3291e-04 - accuracy: 1.0000\n",
            "Epoch 30/40\n",
            "1/1 [==============================] - 0s 9ms/step - loss: 1.0955e-04 - accuracy: 1.0000\n",
            "Epoch 31/40\n",
            "1/1 [==============================] - 0s 9ms/step - loss: 8.9850e-05 - accuracy: 1.0000\n",
            "Epoch 32/40\n",
            "1/1 [==============================] - 0s 10ms/step - loss: 7.3528e-05 - accuracy: 1.0000\n",
            "Epoch 33/40\n",
            "1/1 [==============================] - 0s 9ms/step - loss: 6.0176e-05 - accuracy: 1.0000\n",
            "Epoch 34/40\n",
            "1/1 [==============================] - 0s 9ms/step - loss: 4.9345e-05 - accuracy: 1.0000\n",
            "Epoch 35/40\n",
            "1/1 [==============================] - 0s 8ms/step - loss: 4.0603e-05 - accuracy: 1.0000\n",
            "Epoch 36/40\n",
            "1/1 [==============================] - 0s 9ms/step - loss: 3.3564e-05 - accuracy: 1.0000\n",
            "Epoch 37/40\n",
            "1/1 [==============================] - 0s 9ms/step - loss: 2.7900e-05 - accuracy: 1.0000\n",
            "Epoch 38/40\n",
            "1/1 [==============================] - 0s 13ms/step - loss: 2.3335e-05 - accuracy: 1.0000\n",
            "Epoch 39/40\n",
            "1/1 [==============================] - 0s 10ms/step - loss: 1.9649e-05 - accuracy: 1.0000\n",
            "Epoch 40/40\n",
            "1/1 [==============================] - 0s 9ms/step - loss: 1.6662e-05 - accuracy: 1.0000\n"
          ]
        },
        {
          "output_type": "execute_result",
          "data": {
            "text/plain": [
              "<keras.callbacks.History at 0x7fd80e63d0d0>"
            ]
          },
          "metadata": {},
          "execution_count": 82
        }
      ]
    },
    {
      "cell_type": "code",
      "source": [
        "\n",
        "for trial in range(len(X_test)):\n",
        "  pred=model.predict(np.array([X_test[trial]]), verbose=0)\n",
        "  res_test[trial]=pred[0][0]\n",
        "  #print(np.around(pred[0][0],1),y_test[trial],X_test[trial])\n",
        "  print(np.around(res_test[trial],1),y_test[trial],X_test[trial])\n",
        "\n",
        "print(res_test)\n"
      ],
      "metadata": {
        "colab": {
          "base_uri": "https://localhost:8080/"
        },
        "id": "JqozJP4KUx8p",
        "outputId": "91f09f31-36a3-44f3-c598-95c241f26146"
      },
      "execution_count": 83,
      "outputs": [
        {
          "output_type": "stream",
          "name": "stdout",
          "text": [
            "1.0 1 [  0   0   0   0  21   0   0   0   0   0   0   0 213   0   0   0   0   0]\n",
            "1.0 1 [  0   0   0   0  37   0   0   0   0   0   0   0 197   0   0   0   0   0]\n",
            "1.0 1 [  0   0   0   0  53   0   0   0   0   0   0   0 181   0   0   0   0   0]\n",
            "1.0 1 [  0   0   0   0  69   0   0   0   0   0   0   0 165   0   0   0   0   0]\n",
            "1.0 1 [  0   0   0   0  85   0   0   0   0   0   0   0 149   0   0   0   0   0]\n",
            "1.0 1 [  0   0   0   0 101   0   0   0   0   0   0   0 133   0   0   0   0   0]\n",
            "1.0 0 [  0   0   0   0 117   0   0   0   0   0   0   0 117   0   0   0   0   0]\n",
            "0.4 0 [  0   0   0   0 133   0   0   0   0   0   0   0 101   0   0   0   0   0]\n",
            "0.0 0 [  0   0   0   0 149   0   0   0   0   0   0   0  85   0   0   0   0   0]\n",
            "0.0 0 [  0   0   0   0 165   0   0   0   0   0   0   0  69   0   0   0   0   0]\n",
            "0.0 0 [  0   0   0   0 181   0   0   0   0   0   0   0  53   0   0   0   0   0]\n",
            "0.0 0 [  0   0   0   0 197   0   0   0   0   0   0   0  37   0   0   0   0   0]\n",
            "0.0 0 [  0   0   0   0 213   0   0   0   0   0   0   0  21   0   0   0   0   0]\n",
            "1.0 1 [  0   0   0  21   0   0   0   0   0   0   0   0   0 213   0   0   0   0]\n",
            "1.0 1 [  0   0   0  37   0   0   0   0   0   0   0   0   0 197   0   0   0   0]\n",
            "1.0 1 [  0   0   0  53   0   0   0   0   0   0   0   0   0 181   0   0   0   0]\n",
            "1.0 1 [  0   0   0  69   0   0   0   0   0   0   0   0   0 165   0   0   0   0]\n",
            "1.0 1 [  0   0   0  85   0   0   0   0   0   0   0   0   0 149   0   0   0   0]\n",
            "1.0 1 [  0   0   0 101   0   0   0   0   0   0   0   0   0 133   0   0   0   0]\n",
            "1.0 0 [  0   0   0 117   0   0   0   0   0   0   0   0   0 117   0   0   0   0]\n",
            "1.0 0 [  0   0   0 133   0   0   0   0   0   0   0   0   0 101   0   0   0   0]\n",
            "0.5 0 [  0   0   0 149   0   0   0   0   0   0   0   0   0  85   0   0   0   0]\n",
            "0.0 0 [  0   0   0 165   0   0   0   0   0   0   0   0   0  69   0   0   0   0]\n",
            "0.0 0 [  0   0   0 181   0   0   0   0   0   0   0   0   0  53   0   0   0   0]\n",
            "0.0 0 [  0   0   0 197   0   0   0   0   0   0   0   0   0  37   0   0   0   0]\n",
            "0.0 0 [  0   0   0 213   0   0   0   0   0   0   0   0   0  21   0   0   0   0]\n",
            "1.0 1 [  0   0  21   0   0   0   0   0   0   0   0   0   0   0 213   0   0   0]\n",
            "1.0 1 [  0   0  37   0   0   0   0   0   0   0   0   0   0   0 197   0   0   0]\n",
            "1.0 1 [  0   0  53   0   0   0   0   0   0   0   0   0   0   0 181   0   0   0]\n",
            "1.0 1 [  0   0  69   0   0   0   0   0   0   0   0   0   0   0 165   0   0   0]\n",
            "1.0 1 [  0   0  85   0   0   0   0   0   0   0   0   0   0   0 149   0   0   0]\n",
            "1.0 1 [  0   0 101   0   0   0   0   0   0   0   0   0   0   0 133   0   0   0]\n",
            "1.0 0 [  0   0 117   0   0   0   0   0   0   0   0   0   0   0 117   0   0   0]\n",
            "1.0 0 [  0   0 133   0   0   0   0   0   0   0   0   0   0   0 101   0   0   0]\n",
            "1.0 0 [  0   0 149   0   0   0   0   0   0   0   0   0   0   0  85   0   0   0]\n",
            "0.9 0 [  0   0 165   0   0   0   0   0   0   0   0   0   0   0  69   0   0   0]\n",
            "0.6 0 [  0   0 181   0   0   0   0   0   0   0   0   0   0   0  53   0   0   0]\n",
            "0.3 0 [  0   0 197   0   0   0   0   0   0   0   0   0   0   0  37   0   0   0]\n",
            "0.1 0 [  0   0 213   0   0   0   0   0   0   0   0   0   0   0  21   0   0   0]\n",
            "0.4 1 [  0  21   0   0   0   0   0   0   0   0   0   0   0   0   0 213   0   0]\n",
            "0.3 1 [  0  37   0   0   0   0   0   0   0   0   0   0   0   0   0 197   0   0]\n",
            "0.3 1 [  0  53   0   0   0   0   0   0   0   0   0   0   0   0   0 181   0   0]\n",
            "0.2 1 [  0  69   0   0   0   0   0   0   0   0   0   0   0   0   0 165   0   0]\n",
            "0.2 1 [  0  85   0   0   0   0   0   0   0   0   0   0   0   0   0 149   0   0]\n",
            "0.1 1 [  0 101   0   0   0   0   0   0   0   0   0   0   0   0   0 133   0   0]\n",
            "0.1 0 [  0 117   0   0   0   0   0   0   0   0   0   0   0   0   0 117   0   0]\n",
            "0.1 0 [  0 133   0   0   0   0   0   0   0   0   0   0   0   0   0 101   0   0]\n",
            "0.1 0 [  0 149   0   0   0   0   0   0   0   0   0   0   0   0   0  85   0   0]\n",
            "0.0 0 [  0 165   0   0   0   0   0   0   0   0   0   0   0   0   0  69   0   0]\n",
            "0.0 0 [  0 181   0   0   0   0   0   0   0   0   0   0   0   0   0  53   0   0]\n",
            "0.0 0 [  0 197   0   0   0   0   0   0   0   0   0   0   0   0   0  37   0   0]\n",
            "0.0 0 [  0 213   0   0   0   0   0   0   0   0   0   0   0   0   0  21   0   0]\n",
            "[1.00000000e+00 1.00000000e+00 1.00000000e+00 1.00000000e+00\n",
            " 1.00000000e+00 9.99994278e-01 9.97328162e-01 4.43114161e-01\n",
            " 3.56746512e-03 2.84615908e-05 2.33303027e-07 6.34734709e-09\n",
            " 1.75401166e-10 1.00000000e+00 1.00000000e+00 1.00000000e+00\n",
            " 1.00000000e+00 1.00000000e+00 9.99996603e-01 9.99663711e-01\n",
            " 9.74898875e-01 5.49853086e-01 4.05626372e-02 2.12597544e-03\n",
            " 2.03750955e-04 2.38742123e-05 9.99999344e-01 9.99999821e-01\n",
            " 9.99999881e-01 9.99999821e-01 9.99998569e-01 9.99980748e-01\n",
            " 9.99737084e-01 9.97198522e-01 9.77375805e-01 8.61456156e-01\n",
            " 5.83324373e-01 2.65279919e-01 1.19875364e-01 4.05179054e-01\n",
            " 3.32136244e-01 2.66364694e-01 2.09531218e-01 1.62143812e-01\n",
            " 1.23795502e-01 9.35045332e-02 7.00328797e-02 5.21144904e-02\n",
            " 3.85904610e-02 2.84703821e-02 2.09466759e-02 1.53795090e-02]\n"
          ]
        }
      ]
    },
    {
      "cell_type": "code",
      "source": [
        "#Plot the prediction for each Brightness level\n",
        "#NB I should really separate them depending on whether the correct answer is 0 or 1, but I havent done it.\n",
        "#Also I should separate out according to retinal position..\n",
        "import matplotlib.pyplot as plt\n",
        "x_vals=np.zeros(len(X_test),int)\n",
        "for trial in range(len(X_test)):\n",
        "  x=np.where(X_test[trial]>0)[0][0]\n",
        "  x_vals[trial]=X_test[trial][x]\n",
        "print(x_vals)\n",
        "print(np.around(res_test,2))\n",
        "plt.scatter(x_vals,res_test)"
      ],
      "metadata": {
        "colab": {
          "base_uri": "https://localhost:8080/",
          "height": 408
        },
        "id": "0DKN_c14UuD1",
        "outputId": "9aaff701-f365-4aff-cebc-51bdc10620ba"
      },
      "execution_count": 84,
      "outputs": [
        {
          "output_type": "stream",
          "name": "stdout",
          "text": [
            "[ 21  37  53  69  85 101 117 133 149 165 181 197 213  21  37  53  69  85\n",
            " 101 117 133 149 165 181 197 213  21  37  53  69  85 101 117 133 149 165\n",
            " 181 197 213  21  37  53  69  85 101 117 133 149 165 181 197 213]\n",
            "[1.   1.   1.   1.   1.   1.   1.   0.44 0.   0.   0.   0.   0.   1.\n",
            " 1.   1.   1.   1.   1.   1.   0.97 0.55 0.04 0.   0.   0.   1.   1.\n",
            " 1.   1.   1.   1.   1.   1.   0.98 0.86 0.58 0.27 0.12 0.41 0.33 0.27\n",
            " 0.21 0.16 0.12 0.09 0.07 0.05 0.04 0.03 0.02 0.02]\n"
          ]
        },
        {
          "output_type": "execute_result",
          "data": {
            "text/plain": [
              "<matplotlib.collections.PathCollection at 0x7fd811463d00>"
            ]
          },
          "metadata": {},
          "execution_count": 84
        },
        {
          "output_type": "display_data",
          "data": {
            "text/plain": [
              "<Figure size 432x288 with 1 Axes>"
            ],
            "image/png": "[encoded data removed]"
          },
          "metadata": {
            "needs_background": "light"
          }
        }
      ]
    },
    {
      "cell_type": "markdown",
      "source": [
        "###Test CNN \n"
      ],
      "metadata": {
        "id": "AfbygbGhGyHp"
      }
    },
    {
      "cell_type": "markdown",
      "source": [
        "Comment on results:\n",
        "Very odd that the CNN does worse than the NN, with results for the higher brightnesses completely wrong."
      ],
      "metadata": {
        "id": "OyZvgc1qOK4j"
      }
    }
  ]
}