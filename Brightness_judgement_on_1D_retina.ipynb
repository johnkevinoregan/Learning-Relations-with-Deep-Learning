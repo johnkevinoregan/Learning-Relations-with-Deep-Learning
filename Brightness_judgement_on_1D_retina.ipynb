{
  "nbformat": 4,
  "nbformat_minor": 0,
  "metadata": {
    "colab": {
      "provenance": [],
      "include_colab_link": true
    },
    "kernelspec": {
      "name": "python3",
      "display_name": "Python 3"
    },
    "language_info": {
      "name": "python"
    }
  },
  "cells": [
    {
      "cell_type": "markdown",
      "metadata": {
        "id": "view-in-github",
        "colab_type": "text"
      },
      "source": [
        "<a href=\"https://colab.research.google.com/github/johnkevinoregan/Learning-Relations-with-Deep-Learning/blob/main/Brightness_judgement_on_1D_retina.ipynb\" target=\"_parent\"><img src=\"https://colab.research.google.com/assets/colab-badge.svg\" alt=\"Open In Colab\"/></a>"
      ]
    },
    {
      "cell_type": "markdown",
      "source": [
        "# Brightness judgement on 1D retina\n",
        "##Functions used to Create Training Examples with holes which are not trained"
      ],
      "metadata": {
        "id": "dpNBOy9U6vG1"
      }
    },
    {
      "cell_type": "code",
      "source": [
        "#K Generate training samples for Brightness judgement\n",
        "#PixToSkip is the number of retinal pixels inbetween two successive retinal locations where there can be a training sample. You can use the value 0 if you dont want to skip locations.\n",
        "#LeftNumToTrain is the number of retinal locations on the left side of the retina you want to train\n",
        "#NumInHole is the number of those retinal locations in the center of the retina where you choose not to train (in order to test generalization)\n",
        "#RightNumToTrain is the number of retinal locations on the right side of the retina you want to train\n",
        "#As an example : generate_training_set(0,4,0,4) generates a training set with a retina of size 8 where all locations will be trained (+'s) and there is no hole: ++++++++ \n",
        "#generate_training_set(0,4,3,4) does the same except now there is a hole where there is no training (.'s): ++++...++++ (the retina is now of length 11)\n",
        "#generate_training_set(1,4,3,4) does the same again, except now there are also skipped pixels inbetween all the training locations: +.+.+.+......+.+.+.+\n",
        "\n",
        "#For this brightness task, each retinal locations gets 1 example with high brightness, and 1 with low brightness. \n",
        "#At each retinal location, the array X_locs_trained[] is updated by 0.5 for each brightness, so should equal 1 if the arrays are properly filled.\n",
        "\n",
        "def generate_bright_training_set(Brightnesses,PixToSkip,LeftNumToTrain,NumInHole,RightNumToTrain): \n",
        "  TotNumToTrain=LeftNumToTrain+RightNumToTrain\n",
        "  LastRetinaPixel=(TotNumToTrain+NumInHole-1)*(PixToSkip+1)\n",
        "  Midpoint=LastRetinaPixel/2\n",
        "  #print(Midpoint)\n",
        "  X_trials=[[0 for col in range(LastRetinaPixel+1)] for row in range(2*TotNumToTrain)]\n",
        "  X_locs_trained=[0 for col in range(LastRetinaPixel+1)]\n",
        "  StepInterval=PixToSkip+1\n",
        "  i=0\n",
        "  for b in range(0,2):\n",
        "    #print('b', b)\n",
        "    for j in range(LeftNumToTrain):\n",
        "      RetPos=j*StepInterval\n",
        "      #print(i,RetPos)\n",
        "      X_trials[i][RetPos]=Brightnesses[b]\n",
        "      X_locs_trained[RetPos]+=0.5\n",
        "      #print(X_trials[i])\n",
        "      i+=1\n",
        "      #print('left')\n",
        "    for j in range(RightNumToTrain):\n",
        "      RetPos=(LeftNumToTrain+NumInHole+j)*StepInterval\n",
        "      #print(i,RetPos)\n",
        "      X_trials[i][RetPos]=Brightnesses[b]\n",
        "      X_locs_trained[RetPos]+=0.5\n",
        "      #print(X_trials[i])\n",
        "      i+=1\n",
        "      #print('right')\n",
        "\n",
        "  return(X_trials,X_locs_trained)\n",
        "\n",
        "#K This function generates a list of all the possible tests for brightness judgements\n",
        "#you give it the same parameters as for the training set so it can calculate how long the retina is\n",
        "def generate_bright_test_set(Brightnesses,PixToSkip,LeftNumToTrain,NumInHole,RightNumToTrain):\n",
        "  TotNumToTrain=LeftNumToTrain+RightNumToTrain\n",
        "  RetinaSize=(TotNumToTrain+NumInHole-1)*(PixToSkip+1)+1\n",
        "  AllPossTests=[[0 for row in range(RetinaSize)] for col in range(2*RetinaSize)]\n",
        "  for b in range(0,2):\n",
        "    #print('b',b)\n",
        "    for i in range(RetinaSize):\n",
        "      AllPossTests[i+b*RetinaSize][i]=Brightnesses[b]\n",
        "  return(AllPossTests)\n",
        "\n",
        "# K generate labels based on the index of 1 in each row of the Training or Test set\n",
        "def generate_bright_labels(Brightnesses,Set):\n",
        "  Labels=[0 if max(row)==Brightnesses[0] else 1 for row in Set]\n",
        "  return Labels\n"
      ],
      "metadata": {
        "id": "nkCoKyP_8uv9"
      },
      "execution_count": 105,
      "outputs": []
    },
    {
      "cell_type": "markdown",
      "source": [
        "##Make data sets X_train and labels y_train, and testing sets X_test and labels y_test"
      ],
      "metadata": {
        "id": "DEJCMNfpEqbg"
      }
    },
    {
      "cell_type": "code",
      "source": [
        "Brightnesses=[50,200]\n",
        "X_train,X_locs_trained=generate_bright_training_set(Brightnesses,0,10,10,10)\n",
        "#np.random.shuffle(X_train)\n",
        "y_train=generate_bright_labels(Brightnesses,X_train)\n",
        "print('locations trained')\n",
        "print(X_locs_trained)\n",
        "print()\n",
        "\n",
        "print('training set')\n",
        "for i in range(len(X_train)):\n",
        "  print(X_train[i], 'label',y_train[i])\n",
        "print()\n",
        "\n",
        "X_test=generate_bright_test_set(Brightnesses,0,10,10,10)\n",
        "y_test=generate_bright_labels(Brightnesses,X_test)\n",
        "#print('test set')\n",
        "for i in range(len(X_test)):\n",
        "  print(X_test[i], 'label',y_test[i])\n",
        "print()\n",
        "\n"
      ],
      "metadata": {
        "id": "OGe65QCXAG17"
      },
      "execution_count": null,
      "outputs": []
    },
    {
      "cell_type": "markdown",
      "source": [
        "## Either: Train with normal NN"
      ],
      "metadata": {
        "id": "TG23LV4t67V5"
      }
    },
    {
      "cell_type": "code",
      "source": [
        "# Build, compile and train the neural network model\n",
        "#there are two hidden layers with 64 and 32 values\n",
        "#The ReLU activation function is used in deep learning models to introduce non-linearity into the network\n",
        "#the sigmoid activation function produces a probability value between 0 and 1\n",
        "from tensorflow import keras\n",
        "import numpy as np\n",
        "#from sklearn.model_selection import train_test_split\n",
        "from keras.models import Sequential\n",
        "from keras.layers import Dense, Conv1D, MaxPooling1D, Flatten\n",
        "#from sklearn.model_selection import train_test_split\n",
        "\n",
        "\n",
        "model = keras.models.Sequential([\n",
        "    keras.layers.Dense(64, activation=\"relu\", input_dim=len(X_train[0])),\n",
        "    keras.layers.Dense(32, activation=\"relu\"),\n",
        "    keras.layers.Dense(1, activation=\"sigmoid\")\n",
        "])\n",
        "\n",
        "# Compile the model\n",
        "model.compile(loss=\"binary_crossentropy\", optimizer=\"adam\", metrics=[\"accuracy\"])\n",
        "\n",
        "#Don't run this\n",
        "# Split the data into training and testing sets\n",
        "#X_train, X_test, y_train, y_test = train_test_split(df, labels, test_size=0.2, random_state=42)\n",
        "\n",
        "# Train the model\n",
        "model.fit(X_train, y_train, epochs=160, batch_size=32, validation_data=(X_test, y_test))\n",
        "\n"
      ],
      "metadata": {
        "id": "ioqyu3kb7Tn0"
      },
      "execution_count": null,
      "outputs": []
    },
    {
      "cell_type": "markdown",
      "source": [
        "###Test normal NN on all retinal positions"
      ],
      "metadata": {
        "id": "si0HfM4JNF6f"
      }
    },
    {
      "cell_type": "code",
      "source": [
        "#Test on all retinal positions including non-trained ones\n",
        "# NB the logic is different compared to the Left/Right judgement task!!\n",
        "# We plot separately the predictions for the two brightness levels at each RetPos\n",
        "NumTrials=len(X_test)\n",
        "RetinaSize=len(X_test[0])\n",
        "results=[[0 for row in range(0,2)] for col in range(RetinaSize)]\n",
        "for trial in range(NumTrials):\n",
        "  pred=model.predict(np.array([X_test[trial]]))\n",
        "  estimate=pred[0][0]\n",
        "  bright=max(X_test[trial])\n",
        "  which=Brightnesses.index(bright)\n",
        "  RetPos=X_test[trial].index(bright)\n",
        "  print(which,RetPos,estimate)\n",
        "  results[RetPos][which]=estimate\n",
        "print(results)"
      ],
      "metadata": {
        "id": "LCmHUdNAnCEu"
      },
      "execution_count": null,
      "outputs": []
    },
    {
      "cell_type": "markdown",
      "source": [
        "###Plot Result for normal NN"
      ],
      "metadata": {
        "id": "Q5393w8UPkDl"
      }
    },
    {
      "cell_type": "code",
      "source": [
        "#import numpy as np\n",
        "#arr = np.array(results)\n",
        "#print(np.round(arr, decimals=2))\n",
        "\n",
        "import matplotlib.pyplot as plt\n",
        "plt.plot(results)\n",
        "plt.plot(X_locs_trained)"
      ],
      "metadata": {
        "id": "Ijis7_GgIF1X",
        "outputId": "1e305292-2058-481b-9145-2b5b05f35c8b",
        "colab": {
          "base_uri": "https://localhost:8080/",
          "height": 283
        }
      },
      "execution_count": 108,
      "outputs": [
        {
          "output_type": "execute_result",
          "data": {
            "text/plain": [
              "[<matplotlib.lines.Line2D at 0x7f33db2b8f40>]"
            ]
          },
          "metadata": {},
          "execution_count": 108
        },
        {
          "output_type": "display_data",
          "data": {
            "text/plain": [
              "<Figure size 432x288 with 1 Axes>"
            ],
            "image/png": "[encoded data removed]"
          },
          "metadata": {
            "needs_background": "light"
          }
        }
      ]
    },
    {
      "cell_type": "markdown",
      "source": [
        "## Or: Train with CNN"
      ],
      "metadata": {
        "id": "stPC6iIy3Z5S"
      }
    },
    {
      "cell_type": "code",
      "source": [
        "model = Sequential()\n",
        "model.add(Conv1D(filters=32, kernel_size=3, activation='relu', input_shape=(len(X_train[0]), 1)))\n",
        "model.add(MaxPooling1D(pool_size=2))\n",
        "#model.add(Conv1D(filters=64, kernel_size=5, activation='relu'))\n",
        "#model.add(MaxPooling1D(pool_size=2))\n",
        "model.add(Flatten())\n",
        "model.add(Dense(64, activation='relu'))\n",
        "model.add(Dense(1, activation='sigmoid'))\n",
        "\n",
        "# Compile the model\n",
        "model.compile(loss='binary_crossentropy', optimizer='adam', metrics=['accuracy'])\n",
        "\n",
        "# Train the model\n",
        "model.fit(X_train, y_train, epochs=80, batch_size=32, verbose=1)\n",
        "\n",
        "#loss, accuracy = model.evaluate(X_test, y_test, verbose=1)\n",
        "#print(\"Accuracy:\", accuracy)"
      ],
      "metadata": {
        "id": "Rb8O58aCqQ4O"
      },
      "execution_count": null,
      "outputs": []
    },
    {
      "cell_type": "markdown",
      "source": [
        "###Test CNN on all retinal positions"
      ],
      "metadata": {
        "id": "AfbygbGhGyHp"
      }
    },
    {
      "cell_type": "code",
      "source": [
        "#Test on all retinal positions including non-trained ones\n",
        "# NB the logic is different compared to the Left/Right judgement task!!\n",
        "# We plot separately the predictions for the two brightness levels at each RetPos\n",
        "NumTrials=len(X_test)\n",
        "RetinaSize=len(X_test[0])\n",
        "results=[[0 for row in range(0,2)] for col in range(RetinaSize)]\n",
        "for trial in range(NumTrials):\n",
        "  pred=model.predict(np.array([X_test[trial]]))\n",
        "  estimate=pred[0][0]\n",
        "  bright=max(X_test[trial])\n",
        "  which=Brightnesses.index(bright)\n",
        "  RetPos=X_test[trial].index(bright)\n",
        "  print(which,RetPos,estimate)\n",
        "  results[RetPos][which]=estimate\n",
        "print(results)"
      ],
      "metadata": {
        "id": "EcBi6BrbGubG"
      },
      "execution_count": null,
      "outputs": []
    },
    {
      "cell_type": "markdown",
      "source": [
        "###Plot result for CNN"
      ],
      "metadata": {
        "id": "okMS9G4hC1Xk"
      }
    },
    {
      "cell_type": "code",
      "source": [
        "#import numpy as np\n",
        "#arr = np.array(results)\n",
        "#print(np.round(arr, decimals=2))\n",
        "\n",
        "import matplotlib.pyplot as plt\n",
        "plt.plot(results)\n",
        "plt.plot(X_locs_trained)\n"
      ],
      "metadata": {
        "colab": {
          "base_uri": "https://localhost:8080/",
          "height": 283
        },
        "id": "kN0TpdLeANh7",
        "outputId": "f888bd77-7cf8-4de1-c55d-d65291d226e2"
      },
      "execution_count": 111,
      "outputs": [
        {
          "output_type": "execute_result",
          "data": {
            "text/plain": [
              "[<matplotlib.lines.Line2D at 0x7f33d20d0940>]"
            ]
          },
          "metadata": {},
          "execution_count": 111
        },
        {
          "output_type": "display_data",
          "data": {
            "text/plain": [
              "<Figure size 432x288 with 1 Axes>"
            ],
            "image/png": "[encoded data removed]"
          },
          "metadata": {
            "needs_background": "light"
          }
        }
      ]
    }
  ]
}