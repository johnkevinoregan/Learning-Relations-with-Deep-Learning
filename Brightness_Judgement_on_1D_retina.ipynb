{
  "nbformat": 4,
  "nbformat_minor": 0,
  "metadata": {
    "colab": {
      "provenance": [],
      "include_colab_link": true
    },
    "kernelspec": {
      "name": "python3",
      "display_name": "Python 3"
    },
    "language_info": {
      "name": "python"
    }
  },
  "cells": [
    {
      "cell_type": "markdown",
      "metadata": {
        "id": "view-in-github",
        "colab_type": "text"
      },
      "source": [
        "<a href=\"https://colab.research.google.com/github/johnkevinoregan/Learning-Relations-with-Deep-Learning/blob/main/Brightness_Judgement_on_1D_retina.ipynb\" target=\"_parent\"><img src=\"https://colab.research.google.com/assets/colab-badge.svg\" alt=\"Open In Colab\"/></a>"
      ]
    },
    {
      "cell_type": "markdown",
      "source": [
        "# Left/Right judgement on 1D retina\n",
        "##Create Training Examples with holes which are not trained"
      ],
      "metadata": {
        "id": "dpNBOy9U6vG1"
      }
    },
    {
      "cell_type": "code",
      "source": [
        "#K Generate training samples\n",
        "#PixToSkip is the number of retinal pixels inbetween two successive retinal locations where there can be a training sample. You can use the value 0 if you dont want to skip locations.\n",
        "#LeftNumToTrain is the number of retinal locations on the left side of the retina you want to train\n",
        "#NumInHole is the number of those retinal locations in the center of the retina where you choose not to train (in order to test generalization)\n",
        "#RightNumToTrain is the number of retinal locations on the right side of the retina you want to train\n",
        "#As an example : generate_training_set(0,4,0,4) generates a training set with a retina of size 8 where all locations will be trained (+'s) and there is no hole: ++++++++ \n",
        "#generate_training_set(0,4,3,4) does the same except now there is a hole where there is no training (.'s): ++++...++++ (the retina is now of length 11)\n",
        "#generate_training_set(1,4,3,4) does the same again, except now there are also skipped pixels inbetween all the training locations: +.+.+.+......+.+.+.+\n",
        "\n",
        "def generate_training_set(PixToSkip,LeftNumToTrain,NumInHole,RightNumToTrain): \n",
        "  TotNumToTrain=LeftNumToTrain+RightNumToTrain\n",
        "  LastRetinaPixel=(TotNumToTrain+NumInHole-1)*(PixToSkip+1)\n",
        "  Midpoint=LastRetinaPixel/2\n",
        "  #print(Midpoint)\n",
        "  X_trials=[[0 for col in range(LastRetinaPixel+1)] for row in range(TotNumToTrain)]\n",
        "  StepInterval=PixToSkip+1\n",
        "  i=0\n",
        "  for j in range(LeftNumToTrain):\n",
        "    retpos=j*StepInterval\n",
        "    #print(i,retpos)\n",
        "    X_trials[i][retpos]=1\n",
        "    #print(X_trials[i])\n",
        "    i+=1\n",
        "    #print('left')\n",
        "  #for j in range(NumInHole):\n",
        "  #  retpos=(LeftNumToTrain+j)*StepInterval\n",
        "  #  #print(i,retpos)\n",
        "  #  X_trials[i][retpos]=1\n",
        "  #  #print(X_trials[i])\n",
        "  #  i+=1\n",
        "  #  #print('hole')\n",
        "  for j in range(RightNumToTrain):\n",
        "    retpos=(LeftNumToTrain+NumInHole+j)*StepInterval\n",
        "    #print(i,retpos)\n",
        "    X_trials[i][retpos]=1\n",
        "    #print(X_trials[i])\n",
        "    i+=1\n",
        "    #print('right')\n",
        "\n",
        "  return(X_trials)\n",
        "\n",
        "#K This function generates a list of all the possible tests \n",
        "#you give it the same parameters as for the training set so it can calculate how long the retina is\n",
        "def generate_test_set(PixToSkip,LeftNumToTrain,NumInHole,RightNumToTrain):\n",
        "  TotNumToTrain=LeftNumToTrain+RightNumToTrain\n",
        "  RetinaSize=(TotNumToTrain+NumInHole-1)*(PixToSkip+1)+1\n",
        "  AllPossTests=[[0 for row in range(RetinaSize)] for col in range(RetinaSize)]\n",
        "  for i in range(RetinaSize):\n",
        "     AllPossTests[i][i]=1\n",
        "  return(AllPossTests)\n",
        "\n",
        "\n",
        "# K generate labels based on the index of 1 in each row of the Training or Test set\n",
        "def generate_labels(Set):\n",
        "  Labels = [1 if row.index(1) >= (len(row)-1)/2 else 0 for row in Set]\n",
        "  return Labels\n"
      ],
      "metadata": {
        "id": "nkCoKyP_8uv9"
      },
      "execution_count": null,
      "outputs": []
    },
    {
      "cell_type": "code",
      "source": [
        "#K example of use of the functions\n",
        "X_train=generate_training_set(2,10,10,10)\n",
        "#np.random.shuffle(X_train)\n",
        "y_train=generate_labels(X_train)\n",
        "print('training set')\n",
        "for i in range(len(X_train)):\n",
        "  print(X_train[i], 'label', y_train[i])\n",
        "print()\n",
        "\n",
        "X_test=generate_test_set(2,10,10,10)\n",
        "y_test=generate_labels(X_test)\n",
        "print('test set')\n",
        "for i in range(len(X_test)):\n",
        "  print(X_test[i], 'label', y_test[i])\n",
        "print()\n"
      ],
      "metadata": {
        "id": "i2PrUN6rzCII"
      },
      "execution_count": null,
      "outputs": []
    },
    {
      "cell_type": "markdown",
      "source": [],
      "metadata": {
        "id": "JfkIOLbUetpp"
      }
    },
    {
      "cell_type": "code",
      "source": [
        "import numpy as np\n",
        "#from sklearn.model_selection import train_test_split\n",
        "from keras.models import Sequential\n",
        "from keras.layers import Dense, Conv1D, MaxPooling1D, Flatten\n",
        "#from sklearn.model_selection import train_test_split"
      ],
      "metadata": {
        "id": "YhC0JUkm1pJd"
      },
      "execution_count": null,
      "outputs": []
    },
    {
      "cell_type": "markdown",
      "source": [
        "## Either: Train with normal NN"
      ],
      "metadata": {
        "id": "TG23LV4t67V5"
      }
    },
    {
      "cell_type": "code",
      "source": [
        "from tensorflow import keras"
      ],
      "metadata": {
        "id": "YGPFfGpK7GJU"
      },
      "execution_count": null,
      "outputs": []
    },
    {
      "cell_type": "code",
      "source": [
        "# Build the neural network model\n",
        "#there are two hidden layers with 64 and 32 values\n",
        "#The ReLU activation function is used in deep learning models to introduce non-linearity into the network\n",
        "#the sigmoid activation function produces a probability value between 0 and 1\n",
        "model = keras.models.Sequential([\n",
        "    keras.layers.Dense(64, activation=\"relu\", input_dim=len(X_train[0])),\n",
        "    keras.layers.Dense(32, activation=\"relu\"),\n",
        "    keras.layers.Dense(1, activation=\"sigmoid\")\n",
        "])"
      ],
      "metadata": {
        "id": "ioqyu3kb7Tn0"
      },
      "execution_count": null,
      "outputs": []
    },
    {
      "cell_type": "code",
      "source": [
        "from google.colab import drive\n",
        "drive.mount('/content/drive')"
      ],
      "metadata": {
        "id": "RLOV4cacZE0e"
      },
      "execution_count": null,
      "outputs": []
    },
    {
      "cell_type": "code",
      "source": [
        "# Compile the model\n",
        "model.compile(loss=\"binary_crossentropy\", optimizer=\"adam\", metrics=[\"accuracy\"])\n"
      ],
      "metadata": {
        "id": "QdTjZ1Ua-iU8"
      },
      "execution_count": null,
      "outputs": []
    },
    {
      "cell_type": "code",
      "source": [
        "#Don't run this\n",
        "# Split the data into training and testing sets\n",
        "X_train, X_test, y_train, y_test = train_test_split(df, labels, test_size=0.2, random_state=42)"
      ],
      "metadata": {
        "id": "UBTasb8k3XGs"
      },
      "execution_count": null,
      "outputs": []
    },
    {
      "cell_type": "code",
      "source": [
        "# Train the model\n",
        "model.fit(X_train, y_train, epochs=80, batch_size=32, validation_data=(X_test, y_test))\n"
      ],
      "metadata": {
        "id": "u9Y61Uhw-plf"
      },
      "execution_count": null,
      "outputs": []
    },
    {
      "cell_type": "markdown",
      "source": [
        "## Or: Train with CNN"
      ],
      "metadata": {
        "id": "stPC6iIy3Z5S"
      }
    },
    {
      "cell_type": "code",
      "source": [
        "model = Sequential()\n",
        "model.add(Conv1D(filters=32, kernel_size=3, activation='relu', input_shape=(len(X_train[0]), 1)))\n",
        "model.add(MaxPooling1D(pool_size=2))\n",
        "#model.add(Conv1D(filters=64, kernel_size=5, activation='relu'))\n",
        "#model.add(MaxPooling1D(pool_size=2))\n",
        "model.add(Flatten())\n",
        "model.add(Dense(64, activation='relu'))\n",
        "model.add(Dense(1, activation='sigmoid'))"
      ],
      "metadata": {
        "id": "Rb8O58aCqQ4O"
      },
      "execution_count": null,
      "outputs": []
    },
    {
      "cell_type": "code",
      "source": [
        "# Compile the model\n",
        "model.compile(loss='binary_crossentropy', optimizer='adam', metrics=['accuracy'])"
      ],
      "metadata": {
        "id": "gN6HPspp46_2"
      },
      "execution_count": null,
      "outputs": []
    },
    {
      "cell_type": "code",
      "source": [
        "# Train the model\n",
        "model.fit(X_train, y_train, epochs=20, batch_size=32, verbose=1)"
      ],
      "metadata": {
        "id": "0Iet4w4N48_s"
      },
      "execution_count": null,
      "outputs": []
    },
    {
      "cell_type": "code",
      "source": [
        "loss, accuracy = model.evaluate(X_test, y_test, verbose=1)\n",
        "print(\"Accuracy:\", accuracy)"
      ],
      "metadata": {
        "id": "HbLiV74G5KfH"
      },
      "execution_count": null,
      "outputs": []
    },
    {
      "cell_type": "code",
      "source": [],
      "metadata": {
        "id": "Un8ybZbANFb5"
      },
      "execution_count": null,
      "outputs": []
    },
    {
      "cell_type": "markdown",
      "source": [
        "##Test on Whole Retina and Plot results"
      ],
      "metadata": {
        "id": "si0HfM4JNF6f"
      }
    },
    {
      "cell_type": "code",
      "source": [
        "#Test on all retinal positions including non-trained ones\n",
        "RetinaSize=len(X_test[0])\n",
        "#results=[0 for col in range(RetinaSize)]\n",
        "results=[0]*(RetinaSize)\n",
        "counter=0\n",
        "for i in range(RetinaSize):\n",
        "  pred=model.predict(np.array([X_test[i]]))\n",
        "  results[i]=pred[0][0]\n",
        "  if results[i]<0.5:\n",
        "    estimate=0\n",
        "  else:\n",
        "    estimate=1 \n",
        "\n",
        "  if (y_test[i]==estimate):\n",
        "    counter+=1\n",
        "\n",
        "print(results)\n",
        "print('count', counter, 'out of', RetinaSize+1, 'proportion', counter/(RetinaSize+1))\n",
        "\n"
      ],
      "metadata": {
        "id": "LCmHUdNAnCEu"
      },
      "execution_count": null,
      "outputs": []
    },
    {
      "cell_type": "code",
      "source": [
        "import numpy as np\n",
        "arr = np.array(results)\n",
        "print(np.round(arr, decimals=2))"
      ],
      "metadata": {
        "id": "E23fNOK8-Clh"
      },
      "execution_count": null,
      "outputs": []
    },
    {
      "cell_type": "markdown",
      "source": [
        "###Result for normal NN"
      ],
      "metadata": {
        "id": "Q5393w8UPkDl"
      }
    },
    {
      "cell_type": "code",
      "source": [
        "import matplotlib.pyplot as plt\n",
        "plt.plot(results)"
      ],
      "metadata": {
        "id": "Ijis7_GgIF1X",
        "outputId": "03bd7640-8c4d-4ead-9416-6dd0bb197657",
        "colab": {
          "base_uri": "https://localhost:8080/",
          "height": 283
        }
      },
      "execution_count": null,
      "outputs": [
        {
          "output_type": "execute_result",
          "data": {
            "text/plain": [
              "[<matplotlib.lines.Line2D at 0x7fa1dba48340>]"
            ]
          },
          "metadata": {},
          "execution_count": 17
        },
        {
          "output_type": "display_data",
          "data": {
            "text/plain": [
              "<Figure size 432x288 with 1 Axes>"
            ],
            "image/png": "[encoded data removed]"
          },
          "metadata": {
            "needs_background": "light"
          }
        }
      ]
    },
    {
      "cell_type": "markdown",
      "source": [
        "###Result for CNN with kernelsize=3"
      ],
      "metadata": {
        "id": "R56igLr5PwQa"
      }
    },
    {
      "cell_type": "code",
      "source": [
        "import matplotlib.pyplot as plt\n",
        "plt.plot(results)"
      ],
      "metadata": {
        "colab": {
          "base_uri": "https://localhost:8080/",
          "height": 283
        },
        "id": "z4q1tborBJwG",
        "outputId": "f28b19ee-4cde-407e-867d-07c25d9f1536"
      },
      "execution_count": null,
      "outputs": [
        {
          "output_type": "execute_result",
          "data": {
            "text/plain": [
              "[<matplotlib.lines.Line2D at 0x7f89b789b0d0>]"
            ]
          },
          "metadata": {},
          "execution_count": 67
        },
        {
          "output_type": "display_data",
          "data": {
            "text/plain": [
              "<Figure size 432x288 with 1 Axes>"
            ],
            "image/png": "[encoded data removed]"
          },
          "metadata": {
            "needs_background": "light"
          }
        }
      ]
    }
  ]
}